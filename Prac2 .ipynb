{
 "cells": [
  {
   "cell_type": "markdown",
   "metadata": {},
   "source": [
    "# COMP2200/COMP6200 Prac 1\n",
    "\n",
    "_Authors: Greg Baker (greg.baker@mq.edu.au)_\n",
    "\n",
    "---\n",
    "\n",
    "The City of Baltimore publishes data about all of its employees, including their salaries. And these annual salaries can differ from their gross pay: Perhaps an employee works nightshift/overtime and earns more than their official salary; perhaps they are only employed for a part of the year and earn less.\n",
    "\n",
    "In this lab, we'll estimate what a typical city employee's gross pay will be based on their annual salary.\n",
    "\n",
    "Remember that to use a notebook, you need to run each cell. If left side of a cell says `[ ]`, it hasn't been run. If the left side\n",
    "says something like `[25]` then it has been. Shift-Enter runs a cell;  if you look around the user interface, various other menu items can run several cells in sequence."
   ]
  },
  {
   "cell_type": "markdown",
   "metadata": {},
   "source": [
    "**Note**\n",
    "\n",
    "This prac will cover a very complete data science lifecycle. Unfortunately, this requires some skills that we don't know yet. So there are some blocks of code that do things which we haven't explained yet. That's OK. We'll get there.\n",
    "\n",
    "Here are the steps we'll do:\n",
    "\n",
    "- Data Acquisition -- there will be a little of coding for you here\n",
    "\n",
    "- Data Cleaning and Preparation\n",
    "\n",
    "- Training -- there will be a little bit here for you to do as well\n",
    "\n",
    "- Validation -- lots to do here\n",
    "\n",
    "- Evaluation -- lots to do here"
   ]
  },
  {
   "cell_type": "markdown",
   "metadata": {},
   "source": [
    "# Data Acquisition\n",
    "\n",
    "Don't worry too much about the following blocks of code. Over the next few weeks you'll get more comfortable with this, and you'll\n",
    "see that a lot of data science programming work is simple and easy-to-repeat.\n",
    "\n",
    "First up, let's load the libraries we need:"
   ]
  },
  {
   "cell_type": "code",
   "execution_count": 1,
   "metadata": {},
   "outputs": [],
   "source": [
    "%matplotlib inline\n",
    "import pandas as pd\n",
    "import seaborn as sns\n",
    "import numpy as np\n",
    "import matplotlib.pyplot as plt\n",
    "import datetime as dt\n",
    "import sklearn.linear_model\n",
    "import sklearn.model_selection\n",
    "import sklearn.metrics"
   ]
  },
  {
   "cell_type": "markdown",
   "metadata": {},
   "source": [
    "The Baltimore salaries data set is available in `Baltimore_City_Employee_Salaries_2011.csv`. This is a file and needs to be in the same directory as this notebook. Column 0 is the name of the employee and we'll use it as an index. Column 4 is a date. (Note that we count columns starting with \"0\").\n",
    "\n",
    "The pandas `read_csv` function reads it into a dataframe called `salaries`"
   ]
  },
  {
   "cell_type": "code",
   "execution_count": 2,
   "metadata": {},
   "outputs": [
    {
     "data": {
      "text/html": [
       "<div>\n",
       "<style scoped>\n",
       "    .dataframe tbody tr th:only-of-type {\n",
       "        vertical-align: middle;\n",
       "    }\n",
       "\n",
       "    .dataframe tbody tr th {\n",
       "        vertical-align: top;\n",
       "    }\n",
       "\n",
       "    .dataframe thead th {\n",
       "        text-align: right;\n",
       "    }\n",
       "</style>\n",
       "<table border=\"1\" class=\"dataframe\">\n",
       "  <thead>\n",
       "    <tr style=\"text-align: right;\">\n",
       "      <th></th>\n",
       "      <th>JobTitle</th>\n",
       "      <th>AgencyID</th>\n",
       "      <th>Agency</th>\n",
       "      <th>HireDate</th>\n",
       "      <th>AnnualSalary</th>\n",
       "      <th>GrossPay</th>\n",
       "    </tr>\n",
       "    <tr>\n",
       "      <th>Name</th>\n",
       "      <th></th>\n",
       "      <th></th>\n",
       "      <th></th>\n",
       "      <th></th>\n",
       "      <th></th>\n",
       "      <th></th>\n",
       "    </tr>\n",
       "  </thead>\n",
       "  <tbody>\n",
       "    <tr>\n",
       "      <th>Aaron,Patricia G</th>\n",
       "      <td>Facilities/Office Services II</td>\n",
       "      <td>A03031</td>\n",
       "      <td>OED-Employment Dev</td>\n",
       "      <td>1979-10-24</td>\n",
       "      <td>$50845.00</td>\n",
       "      <td>$45505.94</td>\n",
       "    </tr>\n",
       "    <tr>\n",
       "      <th>Aaron,Petra L</th>\n",
       "      <td>ASSISTANT STATE'S ATTORNEY</td>\n",
       "      <td>A29005</td>\n",
       "      <td>States Attorneys Office</td>\n",
       "      <td>2006-09-25</td>\n",
       "      <td>$56595.00</td>\n",
       "      <td>$51588.89</td>\n",
       "    </tr>\n",
       "    <tr>\n",
       "      <th>Abaineh,Yohannes T</th>\n",
       "      <td>EPIDEMIOLOGIST</td>\n",
       "      <td>A65026</td>\n",
       "      <td>HLTH-Health Department</td>\n",
       "      <td>2009-07-23</td>\n",
       "      <td>$56500.00</td>\n",
       "      <td>$50633.26</td>\n",
       "    </tr>\n",
       "    <tr>\n",
       "      <th>Abdal-Rahim,Naim A</th>\n",
       "      <td>EMT Firefighter</td>\n",
       "      <td>A64063</td>\n",
       "      <td>Fire Academy Recruits</td>\n",
       "      <td>2011-03-30</td>\n",
       "      <td>$33476.00</td>\n",
       "      <td>$3888.95</td>\n",
       "    </tr>\n",
       "    <tr>\n",
       "      <th>Abdi,Ezekiel W</th>\n",
       "      <td>POLICE OFFICER</td>\n",
       "      <td>A99398</td>\n",
       "      <td>Police Department</td>\n",
       "      <td>2007-06-14</td>\n",
       "      <td>$50919.00</td>\n",
       "      <td>$51421.73</td>\n",
       "    </tr>\n",
       "  </tbody>\n",
       "</table>\n",
       "</div>"
      ],
      "text/plain": [
       "                                         JobTitle AgencyID  \\\n",
       "Name                                                         \n",
       "Aaron,Patricia G    Facilities/Office Services II   A03031   \n",
       "Aaron,Petra L          ASSISTANT STATE'S ATTORNEY   A29005   \n",
       "Abaineh,Yohannes T                 EPIDEMIOLOGIST   A65026   \n",
       "Abdal-Rahim,Naim A                EMT Firefighter   A64063   \n",
       "Abdi,Ezekiel W                     POLICE OFFICER   A99398   \n",
       "\n",
       "                                     Agency   HireDate AnnualSalary   GrossPay  \n",
       "Name                                                                            \n",
       "Aaron,Patricia G         OED-Employment Dev 1979-10-24    $50845.00  $45505.94  \n",
       "Aaron,Petra L       States Attorneys Office 2006-09-25    $56595.00  $51588.89  \n",
       "Abaineh,Yohannes T   HLTH-Health Department 2009-07-23    $56500.00  $50633.26  \n",
       "Abdal-Rahim,Naim A    Fire Academy Recruits 2011-03-30    $33476.00   $3888.95  \n",
       "Abdi,Ezekiel W            Police Department 2007-06-14    $50919.00  $51421.73  "
      ]
     },
     "execution_count": 2,
     "metadata": {},
     "output_type": "execute_result"
    }
   ],
   "source": [
    "salaries = pd.read_csv('Baltimore_City_Employee_Salaries_2011.csv', \n",
    "                       index_col=0,\n",
    "                      parse_dates=[4])\n",
    "salaries.head()"
   ]
  },
  {
   "cell_type": "markdown",
   "metadata": {},
   "source": [
    "## Your Turn....\n",
    "\n",
    "Last week you learned about the `.tail()` method to see the last few rows in a database. Use that now to look at\n",
    "the end of the `salaries` dataframe."
   ]
  },
  {
   "cell_type": "code",
   "execution_count": 3,
   "metadata": {},
   "outputs": [
    {
     "name": "stderr",
     "output_type": "stream",
     "text": [
      "C:\\Users\\Admin\\AppData\\Local\\Temp\\ipykernel_19124\\3259108167.py:1: UserWarning: Pandas doesn't allow columns to be created via a new attribute name - see https://pandas.pydata.org/pandas-docs/stable/indexing.html#attribute-access\n",
      "  salaries.tail10 = salaries.tail(10)\n"
     ]
    }
   ],
   "source": [
    "salaries.tail10 = salaries.tail(10)"
   ]
  },
  {
   "cell_type": "markdown",
   "metadata": {},
   "source": [
    "You can also use `.sample(5)` to get 5 random rows from the `salaries` dataframe."
   ]
  },
  {
   "cell_type": "code",
   "execution_count": 4,
   "metadata": {},
   "outputs": [
    {
     "name": "stdout",
     "output_type": "stream",
     "text": [
      "                                       JobTitle AgencyID  \\\n",
      "Name                                                       \n",
      "Lewis,Andrea N              CALL CENTER AGENT I   A40002   \n",
      "Lewis,Angelo S      MECHANICAL SWEEPER OPERATOR   B70403   \n",
      "Lewis,Anthony      RECREATION CENTER DIRECTOR I   A04001   \n",
      "Lewis,Anthony L            MAINTENANCE MECHANIC   A91014   \n",
      "Lewis,Antione J                  POLICE OFFICER   A99195   \n",
      "Lewis,Awanda S   SCHOOL HEALTH AIDE (10 MONTHS)   A65104   \n",
      "Lewis,Bernard T              FIRE PUMP OPERATOR   A64120   \n",
      "Lewis,Brian C                    POLICE OFFICER   A99322   \n",
      "Lewis,Capri T                 JTPA TRAINEE MOMR   W03T19   \n",
      "Lewis,Carlos E                     CARPENTER II   A50212   \n",
      "\n",
      "                                  Agency   HireDate AnnualSalary   GrossPay  \n",
      "Name                                                                         \n",
      "Lewis,Andrea N       M-R Info Technology 2005-07-05    $33841.00  $26939.01  \n",
      "Lewis,Angelo S           DPW-Solid Waste 2004-11-01    $33966.00  $32030.91  \n",
      "Lewis,Anthony             R&P-Recreation 1976-12-09    $41640.00  $38949.67  \n",
      "Lewis,Anthony L    M-R Convention Center 1997-11-06    $41706.00  $36710.69  \n",
      "Lewis,Antione J        Police Department 2008-06-23    $43034.00  $46035.47  \n",
      "Lewis,Awanda S    HLTH-Health Department 2006-07-01    $23395.00  $21746.79  \n",
      "Lewis,Bernard T          Fire Department 1990-03-26    $61653.00  $59866.23  \n",
      "Lewis,Brian C          Police Department 1998-04-20    $61672.00  $84219.58  \n",
      "Lewis,Capri T                 Youth Cust 2009-06-11    $15080.00   $1881.38  \n",
      "Lewis,Carlos E   DPW-Water & Waste Water 1993-08-02    $34643.00  $29709.64  \n"
     ]
    }
   ],
   "source": [
    "print(salaries.tail10)"
   ]
  },
  {
   "cell_type": "markdown",
   "metadata": {},
   "source": [
    "# Data Preprocessing\n",
    "\n",
    "## Preprocess the Data (Convert Strings to Numbers)\n",
    "\n",
    "The `AnnualSalary` and `GrossPay` columns are strings and start with a `$`. We'll have to strip this off and convert these columns to floats.\n",
    "\n",
    "Don't worry too much about this code... just confirm that it works by checking that it now looks like a number without a `$` sign."
   ]
  },
  {
   "cell_type": "code",
   "execution_count": 5,
   "metadata": {},
   "outputs": [
    {
     "data": {
      "text/html": [
       "<div>\n",
       "<style scoped>\n",
       "    .dataframe tbody tr th:only-of-type {\n",
       "        vertical-align: middle;\n",
       "    }\n",
       "\n",
       "    .dataframe tbody tr th {\n",
       "        vertical-align: top;\n",
       "    }\n",
       "\n",
       "    .dataframe thead th {\n",
       "        text-align: right;\n",
       "    }\n",
       "</style>\n",
       "<table border=\"1\" class=\"dataframe\">\n",
       "  <thead>\n",
       "    <tr style=\"text-align: right;\">\n",
       "      <th></th>\n",
       "      <th>JobTitle</th>\n",
       "      <th>AgencyID</th>\n",
       "      <th>Agency</th>\n",
       "      <th>HireDate</th>\n",
       "      <th>AnnualSalary</th>\n",
       "      <th>GrossPay</th>\n",
       "    </tr>\n",
       "    <tr>\n",
       "      <th>Name</th>\n",
       "      <th></th>\n",
       "      <th></th>\n",
       "      <th></th>\n",
       "      <th></th>\n",
       "      <th></th>\n",
       "      <th></th>\n",
       "    </tr>\n",
       "  </thead>\n",
       "  <tbody>\n",
       "    <tr>\n",
       "      <th>Aaron,Patricia G</th>\n",
       "      <td>Facilities/Office Services II</td>\n",
       "      <td>A03031</td>\n",
       "      <td>OED-Employment Dev</td>\n",
       "      <td>1979-10-24</td>\n",
       "      <td>50845.0</td>\n",
       "      <td>45505.94</td>\n",
       "    </tr>\n",
       "    <tr>\n",
       "      <th>Aaron,Petra L</th>\n",
       "      <td>ASSISTANT STATE'S ATTORNEY</td>\n",
       "      <td>A29005</td>\n",
       "      <td>States Attorneys Office</td>\n",
       "      <td>2006-09-25</td>\n",
       "      <td>56595.0</td>\n",
       "      <td>51588.89</td>\n",
       "    </tr>\n",
       "    <tr>\n",
       "      <th>Abaineh,Yohannes T</th>\n",
       "      <td>EPIDEMIOLOGIST</td>\n",
       "      <td>A65026</td>\n",
       "      <td>HLTH-Health Department</td>\n",
       "      <td>2009-07-23</td>\n",
       "      <td>56500.0</td>\n",
       "      <td>50633.26</td>\n",
       "    </tr>\n",
       "    <tr>\n",
       "      <th>Abdal-Rahim,Naim A</th>\n",
       "      <td>EMT Firefighter</td>\n",
       "      <td>A64063</td>\n",
       "      <td>Fire Academy Recruits</td>\n",
       "      <td>2011-03-30</td>\n",
       "      <td>33476.0</td>\n",
       "      <td>3888.95</td>\n",
       "    </tr>\n",
       "    <tr>\n",
       "      <th>Abdi,Ezekiel W</th>\n",
       "      <td>POLICE OFFICER</td>\n",
       "      <td>A99398</td>\n",
       "      <td>Police Department</td>\n",
       "      <td>2007-06-14</td>\n",
       "      <td>50919.0</td>\n",
       "      <td>51421.73</td>\n",
       "    </tr>\n",
       "  </tbody>\n",
       "</table>\n",
       "</div>"
      ],
      "text/plain": [
       "                                         JobTitle AgencyID  \\\n",
       "Name                                                         \n",
       "Aaron,Patricia G    Facilities/Office Services II   A03031   \n",
       "Aaron,Petra L          ASSISTANT STATE'S ATTORNEY   A29005   \n",
       "Abaineh,Yohannes T                 EPIDEMIOLOGIST   A65026   \n",
       "Abdal-Rahim,Naim A                EMT Firefighter   A64063   \n",
       "Abdi,Ezekiel W                     POLICE OFFICER   A99398   \n",
       "\n",
       "                                     Agency   HireDate  AnnualSalary  GrossPay  \n",
       "Name                                                                            \n",
       "Aaron,Patricia G         OED-Employment Dev 1979-10-24       50845.0  45505.94  \n",
       "Aaron,Petra L       States Attorneys Office 2006-09-25       56595.0  51588.89  \n",
       "Abaineh,Yohannes T   HLTH-Health Department 2009-07-23       56500.0  50633.26  \n",
       "Abdal-Rahim,Naim A    Fire Academy Recruits 2011-03-30       33476.0   3888.95  \n",
       "Abdi,Ezekiel W            Police Department 2007-06-14       50919.0  51421.73  "
      ]
     },
     "execution_count": 5,
     "metadata": {},
     "output_type": "execute_result"
    }
   ],
   "source": [
    "salaries.AnnualSalary = salaries.AnnualSalary.str.strip('$').astype(float)\n",
    "salaries.GrossPay = salaries.GrossPay.str.strip('$').astype(float)\n",
    "salaries.head()"
   ]
  },
  {
   "cell_type": "markdown",
   "metadata": {},
   "source": [
    "## Perform Exploratory Data Analysis\n",
    "\n",
    "Create a scatterplot of annual salary versus gross pay."
   ]
  },
  {
   "cell_type": "code",
   "execution_count": 6,
   "metadata": {},
   "outputs": [
    {
     "data": {
      "text/plain": [
       "<Axes: xlabel='AnnualSalary', ylabel='GrossPay'>"
      ]
     },
     "execution_count": 6,
     "metadata": {},
     "output_type": "execute_result"
    },
    {
     "data": {
      "image/png": "[encoded data removed]",
      "text/plain": [
       "<Figure size 640x480 with 1 Axes>"
      ]
     },
     "metadata": {},
     "output_type": "display_data"
    }
   ],
   "source": [
    "salaries.plot.scatter(x='AnnualSalary', y='GrossPay')"
   ]
  },
  {
   "cell_type": "markdown",
   "metadata": {},
   "source": [
    "# Look for a Linear Relationship\n",
    "\n",
    "It seems like there is a linear relationship in there, but it's obscured by a lot of noise.\n",
    "\n",
    "Let's get a vibe for the data, and what we should expect to see in our machine generated model.\n",
    "\n",
    "We will extract a tiny sample of it and do an approximation of the Theil-Sen algorithm by hand.\n",
    "\n",
    "Note that because we are _sampling_ the data, everyone is going to get a different subset of the data here."
   ]
  },
  {
   "cell_type": "code",
   "execution_count": 7,
   "metadata": {},
   "outputs": [
    {
     "data": {
      "text/html": [
       "<div>\n",
       "<style scoped>\n",
       "    .dataframe tbody tr th:only-of-type {\n",
       "        vertical-align: middle;\n",
       "    }\n",
       "\n",
       "    .dataframe tbody tr th {\n",
       "        vertical-align: top;\n",
       "    }\n",
       "\n",
       "    .dataframe thead th {\n",
       "        text-align: right;\n",
       "    }\n",
       "</style>\n",
       "<table border=\"1\" class=\"dataframe\">\n",
       "  <thead>\n",
       "    <tr style=\"text-align: right;\">\n",
       "      <th></th>\n",
       "      <th>JobTitle</th>\n",
       "      <th>AgencyID</th>\n",
       "      <th>Agency</th>\n",
       "      <th>HireDate</th>\n",
       "      <th>AnnualSalary</th>\n",
       "      <th>GrossPay</th>\n",
       "    </tr>\n",
       "    <tr>\n",
       "      <th>Name</th>\n",
       "      <th></th>\n",
       "      <th></th>\n",
       "      <th></th>\n",
       "      <th></th>\n",
       "      <th></th>\n",
       "      <th></th>\n",
       "    </tr>\n",
       "  </thead>\n",
       "  <tbody>\n",
       "    <tr>\n",
       "      <th>Johnson,Denel E</th>\n",
       "      <td>LABORER</td>\n",
       "      <td>B70105</td>\n",
       "      <td>DPW-Solid Waste</td>\n",
       "      <td>2005-10-03</td>\n",
       "      <td>28059.0</td>\n",
       "      <td>24951.06</td>\n",
       "    </tr>\n",
       "    <tr>\n",
       "      <th>Jackson,Thomas P</th>\n",
       "      <td>POLICE OFFICER</td>\n",
       "      <td>A99321</td>\n",
       "      <td>Police Department</td>\n",
       "      <td>1994-12-19</td>\n",
       "      <td>63384.0</td>\n",
       "      <td>58000.70</td>\n",
       "    </tr>\n",
       "    <tr>\n",
       "      <th>Christian,Philbert E</th>\n",
       "      <td>ENVIRONMENTAL SANITARIAN II</td>\n",
       "      <td>A65041</td>\n",
       "      <td>HLTH-Health Department</td>\n",
       "      <td>1988-07-11</td>\n",
       "      <td>57320.0</td>\n",
       "      <td>51808.69</td>\n",
       "    </tr>\n",
       "    <tr>\n",
       "      <th>Keene,Garrett S</th>\n",
       "      <td>POLICE OFFICER (EID)</td>\n",
       "      <td>A99333</td>\n",
       "      <td>Police Department</td>\n",
       "      <td>2002-01-22</td>\n",
       "      <td>63745.0</td>\n",
       "      <td>56326.75</td>\n",
       "    </tr>\n",
       "    <tr>\n",
       "      <th>Nunez,Luis A</th>\n",
       "      <td>POLICE OFFICER</td>\n",
       "      <td>A99094</td>\n",
       "      <td>Police Department</td>\n",
       "      <td>2006-06-14</td>\n",
       "      <td>54125.0</td>\n",
       "      <td>40384.80</td>\n",
       "    </tr>\n",
       "    <tr>\n",
       "      <th>Ckyyou,Dianna L</th>\n",
       "      <td>POLICE OFFICER</td>\n",
       "      <td>A99031</td>\n",
       "      <td>Police Department</td>\n",
       "      <td>1991-03-18</td>\n",
       "      <td>65669.0</td>\n",
       "      <td>61622.44</td>\n",
       "    </tr>\n",
       "    <tr>\n",
       "      <th>Doll,Edward W</th>\n",
       "      <td>PARAMEDIC EMT-P</td>\n",
       "      <td>A64462</td>\n",
       "      <td>Fire Department</td>\n",
       "      <td>1998-05-04</td>\n",
       "      <td>65292.0</td>\n",
       "      <td>80934.58</td>\n",
       "    </tr>\n",
       "    <tr>\n",
       "      <th>Watkins,Charlene</th>\n",
       "      <td>POLICE OFFICER</td>\n",
       "      <td>A99310</td>\n",
       "      <td>Police Department</td>\n",
       "      <td>1985-11-22</td>\n",
       "      <td>68523.0</td>\n",
       "      <td>84963.66</td>\n",
       "    </tr>\n",
       "    <tr>\n",
       "      <th>Bailey,Rose</th>\n",
       "      <td>Human Services</td>\n",
       "      <td>A03031</td>\n",
       "      <td>OED-Employment Dev</td>\n",
       "      <td>1986-09-08</td>\n",
       "      <td>45243.0</td>\n",
       "      <td>40786.59</td>\n",
       "    </tr>\n",
       "    <tr>\n",
       "      <th>Murphy,Cathy M</th>\n",
       "      <td>RECREATION CENTER DIRECTOR II</td>\n",
       "      <td>A04001</td>\n",
       "      <td>R&amp;P-Recreation</td>\n",
       "      <td>1975-04-17</td>\n",
       "      <td>45090.0</td>\n",
       "      <td>40928.29</td>\n",
       "    </tr>\n",
       "  </tbody>\n",
       "</table>\n",
       "</div>"
      ],
      "text/plain": [
       "                                           JobTitle AgencyID  \\\n",
       "Name                                                           \n",
       "Johnson,Denel E                             LABORER   B70105   \n",
       "Jackson,Thomas P                     POLICE OFFICER   A99321   \n",
       "Christian,Philbert E    ENVIRONMENTAL SANITARIAN II   A65041   \n",
       "Keene,Garrett S                POLICE OFFICER (EID)   A99333   \n",
       "Nunez,Luis A                         POLICE OFFICER   A99094   \n",
       "Ckyyou,Dianna L                      POLICE OFFICER   A99031   \n",
       "Doll,Edward W                       PARAMEDIC EMT-P   A64462   \n",
       "Watkins,Charlene                     POLICE OFFICER   A99310   \n",
       "Bailey,Rose                          Human Services   A03031   \n",
       "Murphy,Cathy M        RECREATION CENTER DIRECTOR II   A04001   \n",
       "\n",
       "                                      Agency   HireDate  AnnualSalary  \\\n",
       "Name                                                                    \n",
       "Johnson,Denel E              DPW-Solid Waste 2005-10-03       28059.0   \n",
       "Jackson,Thomas P           Police Department 1994-12-19       63384.0   \n",
       "Christian,Philbert E  HLTH-Health Department 1988-07-11       57320.0   \n",
       "Keene,Garrett S            Police Department 2002-01-22       63745.0   \n",
       "Nunez,Luis A               Police Department 2006-06-14       54125.0   \n",
       "Ckyyou,Dianna L            Police Department 1991-03-18       65669.0   \n",
       "Doll,Edward W                Fire Department 1998-05-04       65292.0   \n",
       "Watkins,Charlene           Police Department 1985-11-22       68523.0   \n",
       "Bailey,Rose               OED-Employment Dev 1986-09-08       45243.0   \n",
       "Murphy,Cathy M                R&P-Recreation 1975-04-17       45090.0   \n",
       "\n",
       "                      GrossPay  \n",
       "Name                            \n",
       "Johnson,Denel E       24951.06  \n",
       "Jackson,Thomas P      58000.70  \n",
       "Christian,Philbert E  51808.69  \n",
       "Keene,Garrett S       56326.75  \n",
       "Nunez,Luis A          40384.80  \n",
       "Ckyyou,Dianna L       61622.44  \n",
       "Doll,Edward W         80934.58  \n",
       "Watkins,Charlene      84963.66  \n",
       "Bailey,Rose           40786.59  \n",
       "Murphy,Cathy M        40928.29  "
      ]
     },
     "execution_count": 7,
     "metadata": {},
     "output_type": "execute_result"
    }
   ],
   "source": [
    "tiny_sample = salaries.sample(10)\n",
    "tiny_sample"
   ]
  },
  {
   "cell_type": "markdown",
   "metadata": {},
   "source": [
    "The next cell creates an image"
   ]
  },
  {
   "cell_type": "code",
   "execution_count": 8,
   "metadata": {},
   "outputs": [
    {
     "data": {
      "image/png": "[encoded data removed]",
      "text/plain": [
       "<Figure size 2000x1600 with 1 Axes>"
      ]
     },
     "metadata": {},
     "output_type": "display_data"
    }
   ],
   "source": [
    "fig, ax = plt.subplots(figsize=(20,16))\n",
    "tiny_sample.plot.scatter(x='AnnualSalary', y='GrossPay', ax=ax)\n",
    "for name, details in tiny_sample.iterrows():\n",
    "    ax.annotate(text=name, xy=(details.AnnualSalary,details.GrossPay), xytext=(details.AnnualSalary+5000, details.GrossPay-5000),\n",
    "                arrowprops=dict(arrowstyle=\"-\", color='black')\n",
    "               )"
   ]
  },
  {
   "cell_type": "markdown",
   "metadata": {},
   "source": [
    "Take that image, and open it in an editing tool that has a ruler tool.\n",
    "\n",
    "**Windows** You could use *Microsoft Paint* (type \"Paint\" in the start menu) or *Snipping Tool / Snip & Sketch* (Take a screenshot with Windows + Shift + S and then annotate directly on the captured image.)\n",
    "\n",
    "**macOS** Preview or Quick Look\n",
    "\n",
    "The next cell will give you a five random pairs of people to draw a line between. Draw them, and then **save the image into your\n",
    "github classroom repo so that we know that you've done it**."
   ]
  },
  {
   "cell_type": "code",
   "execution_count": 9,
   "metadata": {},
   "outputs": [
    {
     "name": "stdout",
     "output_type": "stream",
     "text": [
      "\n",
      "Draw a line that goes through Christian,Philbert E and Jackson,Thomas P. \n",
      "\n",
      "This should go through (57320.0,51808.69) and (63384.0,58000.7)\n",
      "\n",
      "It has a gradient (slope) of 1.0211098284960414\n",
      "\n",
      "-----------------------------\n",
      "\n",
      "\n",
      "Draw a line that goes through Keene,Garrett S and Doll,Edward W. \n",
      "\n",
      "This should go through (63745.0,56326.75) and (65292.0,80934.58)\n",
      "\n",
      "It has a gradient (slope) of 15.906806722689076\n",
      "\n",
      "-----------------------------\n",
      "\n",
      "\n",
      "Draw a line that goes through Watkins,Charlene and Christian,Philbert E. \n",
      "\n",
      "This should go through (68523.0,84963.66) and (57320.0,51808.69)\n",
      "\n",
      "It has a gradient (slope) of 2.9594724627331965\n",
      "\n",
      "-----------------------------\n",
      "\n",
      "\n",
      "Draw a line that goes through Keene,Garrett S and Doll,Edward W. \n",
      "\n",
      "This should go through (63745.0,56326.75) and (65292.0,80934.58)\n",
      "\n",
      "It has a gradient (slope) of 15.906806722689076\n",
      "\n",
      "-----------------------------\n",
      "\n",
      "\n",
      "Draw a line that goes through Watkins,Charlene and Bailey,Rose. \n",
      "\n",
      "This should go through (68523.0,84963.66) and (45243.0,40786.59)\n",
      "\n",
      "It has a gradient (slope) of 1.8976404639175262\n",
      "\n",
      "-----------------------------\n",
      "\n"
     ]
    }
   ],
   "source": [
    "for i in range(5):\n",
    "    pair = tiny_sample.sample(2)\n",
    "    first_name = pair.index[0]\n",
    "    second_name = pair.index[1]\n",
    "    print(f\"\"\"\n",
    "Draw a line that goes through {first_name} and {second_name}. \n",
    "\n",
    "This should go through ({pair.AnnualSalary.iloc[0]},{pair.GrossPay.iloc[0]}) and ({pair.AnnualSalary.iloc[1]},{pair.GrossPay.iloc[1]})\n",
    "\n",
    "It has a gradient (slope) of {(pair.GrossPay.iloc[1]-pair.GrossPay.iloc[0])/(pair.AnnualSalary.iloc[1]-pair.AnnualSalary.iloc[0])}\n",
    "\n",
    "-----------------------------\n",
    "\"\"\")"
   ]
  },
  {
   "cell_type": "markdown",
   "metadata": {},
   "source": [
    "### Get an estimate\n",
    "\n",
    "Which was the \"middle\" slope line on your diagram? i.e. what was the median gradient? \n",
    "\n",
    "(Write it in the next cell so that we know you did it. Note that it's unlikely that two students will get the same answer.)"
   ]
  },
  {
   "cell_type": "markdown",
   "metadata": {},
   "source": [
    "Answer:   Mansby Kately M to Doll Edwads W, median gradiant is 1.897640"
   ]
  },
  {
   "cell_type": "markdown",
   "metadata": {},
   "source": [
    "### A moment of reflection\n",
    "\n",
    "Does that mean that Baltimore employees typically get more pay than their salary, or less than their salary?\n",
    "\n",
    "(Write it in the next cell so that we know you did it. You might or might not have the same answer as your neighbour, but generally you will.)"
   ]
  },
  {
   "cell_type": "markdown",
   "metadata": {},
   "source": [
    "_Answer: It's hard to tell if Baltimore employees typically get more pay than their salary, or less than their salary only considering the middle slope. Because, there are some ppl(especially emergency workers) who get overtime where as, some ppl's salary get unpaid leave, work part time etc. "
   ]
  },
  {
   "cell_type": "markdown",
   "metadata": {},
   "source": [
    "# Data Splitting\n",
    "\n",
    "We need to have train, validation and test data. (We actually should have done that before we did our manual Theil-Sen algorithm.)"
   ]
  },
  {
   "cell_type": "code",
   "execution_count": 10,
   "metadata": {},
   "outputs": [],
   "source": [
    "training_data, holdout_data = sklearn.model_selection.train_test_split(salaries, test_size=0.2)\n",
    "validation_data, test_data = sklearn.model_selection.train_test_split(holdout_data, test_size=0.5)"
   ]
  },
  {
   "cell_type": "code",
   "execution_count": 11,
   "metadata": {},
   "outputs": [
    {
     "data": {
      "text/plain": [
       "((11563, 6), (1445, 6), (1446, 6))"
      ]
     },
     "execution_count": 11,
     "metadata": {},
     "output_type": "execute_result"
    }
   ],
   "source": [
    "training_data.shape, validation_data.shape, test_data.shape"
   ]
  },
  {
   "cell_type": "markdown",
   "metadata": {},
   "source": [
    "# Scikit Learn Regression\n",
    "\n",
    "We'll follow the pattern we followed in the code from lectures:\n",
    "\n",
    "- Construct a Regressor object\n",
    "\n",
    "- `.fit()` it\n",
    "\n",
    "- Use it to `.predict()` the validation data\n",
    "\n",
    "- Look at the coefficients of the model (in this case, the gradient)."
   ]
  },
  {
   "cell_type": "markdown",
   "metadata": {},
   "source": [
    "### Theil-Sen\n",
    "\n",
    "You just did a Theil-Sen regression by hand, and we saw one in class. Let's see how close your five-sample version was to a more complete computation."
   ]
  },
  {
   "cell_type": "code",
   "execution_count": 12,
   "metadata": {},
   "outputs": [
    {
     "data": {
      "text/plain": [
       "array([0.97405472])"
      ]
     },
     "execution_count": 12,
     "metadata": {},
     "output_type": "execute_result"
    }
   ],
   "source": [
    "ts = sklearn.linear_model.TheilSenRegressor()\n",
    "ts.fit(training_data[['AnnualSalary']], training_data['GrossPay'])\n",
    "ts_predictions = ts.predict(validation_data[['AnnualSalary']])\n",
    "ts.coef_"
   ]
  },
  {
   "cell_type": "markdown",
   "metadata": {},
   "source": [
    "### RANSAC\n",
    "\n",
    "Let's use a RANSAC regressor. This was demonstrated in class. (Getting the coefficients for a RANSAC model is a little unusual: you ask for the best estimator, and then you ask for the coefficients of that best estimator."
   ]
  },
  {
   "cell_type": "code",
   "execution_count": 13,
   "metadata": {},
   "outputs": [
    {
     "data": {
      "text/plain": [
       "array([0.97668346])"
      ]
     },
     "execution_count": 13,
     "metadata": {},
     "output_type": "execute_result"
    }
   ],
   "source": [
    "ransac = sklearn.linear_model.RANSACRegressor()\n",
    "ransac.fit(training_data[['AnnualSalary']], training_data['GrossPay'])\n",
    "ransac_predictions = ransac.predict(validation_data[['AnnualSalary']])\n",
    "ransac.estimator_.coef_"
   ]
  },
  {
   "cell_type": "markdown",
   "metadata": {},
   "source": [
    "### Huber\n",
    "\n",
    "One of the best and most robust regressors is the Huber model. Finish off this code."
   ]
  },
  {
   "cell_type": "code",
   "execution_count": 16,
   "metadata": {},
   "outputs": [
    {
     "data": {
      "text/plain": [
       "array([0.91153143])"
      ]
     },
     "execution_count": 16,
     "metadata": {},
     "output_type": "execute_result"
    }
   ],
   "source": [
    "huber = sklearn.linear_model.HuberRegressor()\n",
    "huber.fit(training_data[['AnnualSalary']], training_data['GrossPay'])\n",
    "huber_predictions = huber.predict(validation_data[['AnnualSalary']])\n",
    "huber.coef_\n"
   ]
  },
  {
   "cell_type": "markdown",
   "metadata": {},
   "source": [
    "### Ordinary Least Squares\n",
    "\n",
    "If you have done STAT1170 you might have encountered this choice for finding a line of best fit through some points.\n",
    "\n",
    "It is very common and popular, so the scikit learn class is called `LinearRegression()`\n",
    "\n",
    "Finish off this code:"
   ]
  },
  {
   "cell_type": "code",
   "execution_count": 22,
   "metadata": {},
   "outputs": [
    {
     "data": {
      "text/plain": [
       "array([1.01520722])"
      ]
     },
     "execution_count": 22,
     "metadata": {},
     "output_type": "execute_result"
    }
   ],
   "source": [
    "ols = sklearn.linear_model.LinearRegression()\n",
    "ols.fit(training_data[['AnnualSalary']], training_data['GrossPay'])\n",
    "ols_predictions = ols.predict(validation_data[['AnnualSalary']])\n",
    "ols.coef_"
   ]
  },
  {
   "cell_type": "markdown",
   "metadata": {},
   "source": [
    "# Evaluating these models\n",
    "\n",
    "How wrong were the predictions? We can subtract the prediction from the correct answer to look."
   ]
  },
  {
   "cell_type": "code",
   "execution_count": 17,
   "metadata": {},
   "outputs": [
    {
     "data": {
      "text/plain": [
       "Name\n",
       "Brown,Raschad M             314.769606\n",
       "Mason Jr,Frank J          25239.004846\n",
       "Uttenreither,Charles L    -2229.823129\n",
       "McAllister,Robert L        -234.226498\n",
       "Prioleau,Sherrie K         5351.913859\n",
       "                              ...     \n",
       "Fyffe Jr,Danny L          11777.424209\n",
       "Foye,Shakisha L            2120.600204\n",
       "Campbell Jr,Donald W       6046.948925\n",
       "Moore,Stella M            -4648.406812\n",
       "Healey,William P          -2584.312974\n",
       "Name: GrossPay, Length: 1445, dtype: float64"
      ]
     },
     "execution_count": 17,
     "metadata": {},
     "output_type": "execute_result"
    }
   ],
   "source": [
    "validation_data.GrossPay - ts_predictions"
   ]
  },
  {
   "cell_type": "code",
   "execution_count": 18,
   "metadata": {},
   "outputs": [
    {
     "data": {
      "text/plain": [
       "Name\n",
       "Brown,Raschad M            -796.827431\n",
       "Mason Jr,Frank J          24075.195747\n",
       "Uttenreither,Charles L    -3408.140251\n",
       "McAllister,Robert L       -1349.672012\n",
       "Prioleau,Sherrie K         4246.478592\n",
       "                              ...     \n",
       "Fyffe Jr,Danny L          10581.010831\n",
       "Foye,Shakisha L             936.197546\n",
       "Campbell Jr,Donald W       4931.571758\n",
       "Moore,Stella M            -5717.841466\n",
       "Healey,William P          -3794.235454\n",
       "Name: GrossPay, Length: 1445, dtype: float64"
      ]
     },
     "execution_count": 18,
     "metadata": {},
     "output_type": "execute_result"
    }
   ],
   "source": [
    "validation_data.GrossPay - ransac_predictions"
   ]
  },
  {
   "cell_type": "markdown",
   "metadata": {},
   "source": [
    "Now look at the data for your Huber regressor and your Ordinary Least Squares regressor. (Put the calculations into the next two cells.)"
   ]
  },
  {
   "cell_type": "code",
   "execution_count": 23,
   "metadata": {},
   "outputs": [
    {
     "data": {
      "text/plain": [
       "array([0.91153143])"
      ]
     },
     "execution_count": 23,
     "metadata": {},
     "output_type": "execute_result"
    }
   ],
   "source": [
    "huber = sklearn.linear_model.HuberRegressor()\n",
    "huber.fit(training_data[['AnnualSalary']], training_data['GrossPay'])\n",
    "huber_predictions = huber.predict(validation_data[['AnnualSalary']])\n",
    "huber.coef_"
   ]
  },
  {
   "cell_type": "code",
   "execution_count": 24,
   "metadata": {},
   "outputs": [
    {
     "data": {
      "text/plain": [
       "array([1.01520722])"
      ]
     },
     "execution_count": 24,
     "metadata": {},
     "output_type": "execute_result"
    }
   ],
   "source": [
    "ols = sklearn.linear_model.LinearRegression()\n",
    "ols.fit(training_data[['AnnualSalary']], training_data['GrossPay'])\n",
    "ols_predictions = ols.predict(validation_data[['AnnualSalary']])\n",
    "ols.coef_"
   ]
  },
  {
   "cell_type": "markdown",
   "metadata": {},
   "source": [
    "## Summarising how wrong they were\n",
    "\n",
    "Ideally, we'd like a number that says which one was the best. But choosing which way we calculate that number is a decision\n",
    "that reflects what we think is important. These are questions we might ask:\n",
    "\n",
    "- What's the most inaccurate prediction?\n",
    "\n",
    "- 99% of the time, the correct answer was within ____ of what we predicted?\n",
    "\n",
    "- On average, how far away from the right answer were we?\n"
   ]
  },
  {
   "cell_type": "markdown",
   "metadata": {},
   "source": [
    "Here's how to get the most inaccurate prediction for the Theil-Sen regressor. (The maximum of the absolute values of the error in our prediction.). In the following cells, do RANSAC, Huber and Ordinary Least Squares"
   ]
  },
  {
   "cell_type": "code",
   "execution_count": 19,
   "metadata": {},
   "outputs": [
    {
     "data": {
      "text/plain": [
       "74026.0213847985"
      ]
     },
     "execution_count": 19,
     "metadata": {},
     "output_type": "execute_result"
    }
   ],
   "source": [
    "(validation_data.GrossPay - ts_predictions).abs().max()"
   ]
  },
  {
   "cell_type": "code",
   "execution_count": 25,
   "metadata": {},
   "outputs": [
    {
     "data": {
      "text/plain": [
       "71724.68279573145"
      ]
     },
     "execution_count": 25,
     "metadata": {},
     "output_type": "execute_result"
    }
   ],
   "source": [
    "(validation_data.GrossPay - huber_predictions).abs().max()"
   ]
  },
  {
   "cell_type": "code",
   "execution_count": 26,
   "metadata": {},
   "outputs": [
    {
     "data": {
      "text/plain": [
       "75301.59142343163"
      ]
     },
     "execution_count": 26,
     "metadata": {},
     "output_type": "execute_result"
    }
   ],
   "source": [
    "(validation_data.GrossPay - ransac_predictions).abs().max()"
   ]
  },
  {
   "cell_type": "code",
   "execution_count": 27,
   "metadata": {},
   "outputs": [
    {
     "data": {
      "text/plain": [
       "77083.05032821877"
      ]
     },
     "execution_count": 27,
     "metadata": {},
     "output_type": "execute_result"
    }
   ],
   "source": [
    "(validation_data.GrossPay - ols_predictions).abs().max()"
   ]
  },
  {
   "cell_type": "markdown",
   "metadata": {},
   "source": [
    "(If you are ahead of the rest of the prac group and are waiting around idle, you could use `idxmax()` instead of `max()` to find out _which_ employee was most badly mis-predicted.)\n",
    "\n",
    "------"
   ]
  },
  {
   "cell_type": "markdown",
   "metadata": {},
   "source": [
    "99% of the predictions were wrong by less than this amount.... (fill in RANSAC, Huber and Ordinary Least Squares)"
   ]
  },
  {
   "cell_type": "code",
   "execution_count": 28,
   "metadata": {},
   "outputs": [
    {
     "data": {
      "text/plain": [
       "np.float64(36866.58189083346)"
      ]
     },
     "execution_count": 28,
     "metadata": {},
     "output_type": "execute_result"
    }
   ],
   "source": [
    "(validation_data.GrossPay - ts_predictions).abs().quantile(0.99)"
   ]
  },
  {
   "cell_type": "code",
   "execution_count": 29,
   "metadata": {},
   "outputs": [
    {
     "data": {
      "text/plain": [
       "np.float64(36604.04775670168)"
      ]
     },
     "execution_count": 29,
     "metadata": {},
     "output_type": "execute_result"
    }
   ],
   "source": [
    "(validation_data.GrossPay - ransac_predictions).abs().quantile(0.99)"
   ]
  },
  {
   "cell_type": "code",
   "execution_count": 30,
   "metadata": {},
   "outputs": [
    {
     "data": {
      "text/plain": [
       "np.float64(38383.415110564114)"
      ]
     },
     "execution_count": 30,
     "metadata": {},
     "output_type": "execute_result"
    }
   ],
   "source": [
    "(validation_data.GrossPay - huber_predictions).abs().quantile(0.99)"
   ]
  },
  {
   "cell_type": "code",
   "execution_count": 31,
   "metadata": {},
   "outputs": [
    {
     "data": {
      "text/plain": [
       "np.float64(36280.854589867304)"
      ]
     },
     "execution_count": 31,
     "metadata": {},
     "output_type": "execute_result"
    }
   ],
   "source": [
    "(validation_data.GrossPay - ols_predictions).abs().quantile(0.99)"
   ]
  },
  {
   "cell_type": "markdown",
   "metadata": {},
   "source": [
    "Here's how we could get the mean absolute error (how far we are away from the right answer on average). sklearn has many built-in functions for doing these sorts of calculations. (Fill in RANSAC, Huber and Ordinary Least Squares)."
   ]
  },
  {
   "cell_type": "code",
   "execution_count": 32,
   "metadata": {},
   "outputs": [
    {
     "data": {
      "text/plain": [
       "6171.155740549136"
      ]
     },
     "execution_count": 32,
     "metadata": {},
     "output_type": "execute_result"
    }
   ],
   "source": [
    "sklearn.metrics.mean_absolute_error(validation_data.GrossPay, ts_predictions)"
   ]
  },
  {
   "cell_type": "code",
   "execution_count": 33,
   "metadata": {},
   "outputs": [
    {
     "data": {
      "text/plain": [
       "6088.812377028631"
      ]
     },
     "execution_count": 33,
     "metadata": {},
     "output_type": "execute_result"
    }
   ],
   "source": [
    "sklearn.metrics.mean_absolute_error(validation_data.GrossPay, ransac_predictions)"
   ]
  },
  {
   "cell_type": "code",
   "execution_count": 34,
   "metadata": {},
   "outputs": [
    {
     "data": {
      "text/plain": [
       "6095.9994279468865"
      ]
     },
     "execution_count": 34,
     "metadata": {},
     "output_type": "execute_result"
    }
   ],
   "source": [
    "sklearn.metrics.mean_absolute_error(validation_data.GrossPay, huber_predictions)"
   ]
  },
  {
   "cell_type": "code",
   "execution_count": 35,
   "metadata": {},
   "outputs": [
    {
     "data": {
      "text/plain": [
       "6157.6304014426805"
      ]
     },
     "execution_count": 35,
     "metadata": {},
     "output_type": "execute_result"
    }
   ],
   "source": [
    "sklearn.metrics.mean_absolute_error(validation_data.GrossPay, ols_predictions)"
   ]
  },
  {
   "cell_type": "markdown",
   "metadata": {},
   "source": [
    "A very common measure (which you might have encountered in STAT1170 if you've done it) is the $R^2$ measure:"
   ]
  },
  {
   "cell_type": "code",
   "execution_count": 36,
   "metadata": {},
   "outputs": [
    {
     "data": {
      "text/plain": [
       "0.809578788575349"
      ]
     },
     "execution_count": 36,
     "metadata": {},
     "output_type": "execute_result"
    }
   ],
   "source": [
    "sklearn.metrics.r2_score(validation_data.GrossPay, ts_predictions)"
   ]
  },
  {
   "cell_type": "code",
   "execution_count": 37,
   "metadata": {},
   "outputs": [
    {
     "data": {
      "text/plain": [
       "0.8100511954845349"
      ]
     },
     "execution_count": 37,
     "metadata": {},
     "output_type": "execute_result"
    }
   ],
   "source": [
    "sklearn.metrics.r2_score(validation_data.GrossPay, ransac_predictions)"
   ]
  },
  {
   "cell_type": "code",
   "execution_count": 38,
   "metadata": {},
   "outputs": [
    {
     "data": {
      "text/plain": [
       "0.8029848156564799"
      ]
     },
     "execution_count": 38,
     "metadata": {},
     "output_type": "execute_result"
    }
   ],
   "source": [
    "sklearn.metrics.r2_score(validation_data.GrossPay, huber_predictions)"
   ]
  },
  {
   "cell_type": "code",
   "execution_count": 39,
   "metadata": {},
   "outputs": [
    {
     "data": {
      "text/plain": [
       "0.8114747386357417"
      ]
     },
     "execution_count": 39,
     "metadata": {},
     "output_type": "execute_result"
    }
   ],
   "source": [
    "sklearn.metrics.r2_score(validation_data.GrossPay, ols_predictions)"
   ]
  },
  {
   "cell_type": "markdown",
   "metadata": {},
   "source": [
    "## Time to choose!\n",
    "\n",
    "On the basis of the information you chose above, which regressor are you going to choose to use?\n",
    "\n",
    "Say which model you think is best, and the basis you chose for using it. (While there are some obviously wrong answers you can give here, there are many options for the \"right\" answer depending on your criteria for best.)"
   ]
  },
  {
   "cell_type": "markdown",
   "metadata": {},
   "source": [
    "Answer_: Since Linear Regression has the highest $R^2$  value (0.8115), it is the best choice among these models. A higher indicates that the model explains more variance in the dependent variable, making it the most effective at prediction.\n",
    "\n",
    "  \n",
    "\n",
    "  "
   ]
  },
  {
   "cell_type": "markdown",
   "metadata": {},
   "source": [
    "### Evaluating it\n",
    "\n",
    "You don't want to run `.fit()` again, but you do want to run `.predict()` again, using the model that you chose in the last section,\n",
    "but this time using the test data. Call the variable that stores those predictions `test_predictions`."
   ]
  },
  {
   "cell_type": "code",
   "execution_count": 51,
   "metadata": {},
   "outputs": [],
   "source": [
    "test_predictions = ols.predict(test_data[['AnnualSalary']])"
   ]
  },
  {
   "cell_type": "markdown",
   "metadata": {},
   "source": [
    "Using the measure that you thought was the most important --- the reason you chose that model over the others --- evaluate how good your chosen model is.\n",
    "\n",
    "i.e. if you thought $R^2$ score was the most important, you would copy that same metric calculation here, comparing `test_data.GrossPay` to `test_predictions`."
   ]
  },
  {
   "cell_type": "code",
   "execution_count": 52,
   "metadata": {},
   "outputs": [
    {
     "data": {
      "text/plain": [
       "5973.998119146943"
      ]
     },
     "execution_count": 52,
     "metadata": {},
     "output_type": "execute_result"
    }
   ],
   "source": [
    "sklearn.metrics.mean_absolute_error(test_data.GrossPay, test_predictions)"
   ]
  },
  {
   "cell_type": "markdown",
   "metadata": {},
   "source": [
    "# A completely different analysis\n",
    "\n",
    "Now imagine that you are the City of Baltimore's hiring manager. New employees regularly ask how much they are actually likely to earn given the salary to which they are about to agree.\n",
    "\n",
    "You don't want to give an answer that is too high because you might be putting the city at risk for a lawsuit for misrepresenting the job. On the other hand, you don't want to give an answer that's too low because the candidate might pass up on the job and work elsewhere.\n",
    "\n",
    "You decide that it will cost \\\\$0.05 in lawsuit risk for each dollar you overrepresent, but only \\\\$0.01 for each dollar you underrepresent.\n",
    "\n",
    "E.g., if a candidate is actually likely to earn \\\\$100,000 and you say \\\\$120,000, this is worth \\\\$10,000 in potential lawsuits for misrepresentation. If you say \\\\$80,000, then that will cost you \\$200 in potential recruiters' fees to find someone else.\n",
    "\n",
    "Here's a function that will calculate the cost of these predictions. Don't worry if it is too complicated for you to create\n",
    "by yourself right now, but see if you can make sense of how it works"
   ]
  },
  {
   "cell_type": "code",
   "execution_count": 53,
   "metadata": {},
   "outputs": [],
   "source": [
    "def cost(actuals, predictions):\n",
    "    cost = 0.0\n",
    "    for actual,prediction in zip(actuals, predictions):\n",
    "        if prediction > actual:\n",
    "            cost += 0.05 * (prediction - actual)\n",
    "        elif prediction < actual:\n",
    "            cost += 0.01 * (actual - prediction)\n",
    "        else:\n",
    "            cost += 0.0\n",
    "    return cost"
   ]
  },
  {
   "cell_type": "markdown",
   "metadata": {},
   "source": [
    "Here's how you would use it for the Theil-Sen predictions. Use it to calculate the cost of the RANSAC, Huber and Ordinary Least Squares Regressors."
   ]
  },
  {
   "cell_type": "code",
   "execution_count": 54,
   "metadata": {},
   "outputs": [
    {
     "data": {
      "text/plain": [
       "np.float64(248886.19158624343)"
      ]
     },
     "execution_count": 54,
     "metadata": {},
     "output_type": "execute_result"
    }
   ],
   "source": [
    "cost(validation_data['GrossPay'], ts_predictions)"
   ]
  },
  {
   "cell_type": "code",
   "execution_count": 55,
   "metadata": {},
   "outputs": [
    {
     "data": {
      "text/plain": [
       "np.float64(278561.86895023286)"
      ]
     },
     "execution_count": 55,
     "metadata": {},
     "output_type": "execute_result"
    }
   ],
   "source": [
    "cost(validation_data['GrossPay'], ransac_predictions)"
   ]
  },
  {
   "cell_type": "code",
   "execution_count": 56,
   "metadata": {},
   "outputs": [
    {
     "data": {
      "text/plain": [
       "np.float64(265188.712153915)"
      ]
     },
     "execution_count": 56,
     "metadata": {},
     "output_type": "execute_result"
    }
   ],
   "source": [
    "cost(validation_data['GrossPay'], huber_predictions)"
   ]
  },
  {
   "cell_type": "code",
   "execution_count": 57,
   "metadata": {},
   "outputs": [
    {
     "data": {
      "text/plain": [
       "np.float64(279997.67727877334)"
      ]
     },
     "execution_count": 57,
     "metadata": {},
     "output_type": "execute_result"
    }
   ],
   "source": [
    "cost(validation_data['GrossPay'], ols_predictions)"
   ]
  },
  {
   "cell_type": "markdown",
   "metadata": {},
   "source": [
    "Based on this, which of the models we created today model would be the best one to use for answering new employees' questions?"
   ]
  },
  {
   "cell_type": "markdown",
   "metadata": {},
   "source": [
    "_Answer: Theil-Sen"
   ]
  },
  {
   "cell_type": "markdown",
   "metadata": {},
   "source": [
    "# Very much optional, super-hard question\n",
    "\n",
    "If you are already familiar with Python programming, calculus or other data science concepts, try to find the optimal coefficients of a linear regression model which would minimise the hiring manager's regret."
   ]
  }
 ],
 "metadata": {
  "kernelspec": {
   "display_name": "Jannat",
   "language": "python",
   "name": "python3"
  },
  "language_info": {
   "codemirror_mode": {
    "name": "ipython",
    "version": 3
   },
   "file_extension": ".py",
   "mimetype": "text/x-python",
   "name": "python",
   "nbconvert_exporter": "python",
   "pygments_lexer": "ipython3",
   "version": "3.11.11"
  }
 },
 "nbformat": 4,
 "nbformat_minor": 4
}
