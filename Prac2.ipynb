{
 "cells": [
  {
   "cell_type": "markdown",
   "metadata": {},
   "source": [
    "# COMP2200/COMP6200 Prac 1\n",
    "\n",
    "_Authors: Greg Baker (greg.baker@mq.edu.au)_\n",
    "\n",
    "---\n",
    "\n",
    "The City of Baltimore publishes data about all of its employees, including their salaries. And these annual salaries can differ from their gross pay: Perhaps an employee works nightshift/overtime and earns more than their official salary; perhaps they are only employed for a part of the year and earn less.\n",
    "\n",
    "In this lab, we'll estimate what a typical city employee's gross pay will be based on their annual salary.\n",
    "\n",
    "Remember that to use a notebook, you need to run each cell. If left side of a cell says `[ ]`, it hasn't been run. If the left side\n",
    "says something like `[25]` then it has been. Shift-Enter runs a cell;  if you look around the user interface, various other menu items can run several cells in sequence."
   ]
  },
  {
   "cell_type": "markdown",
   "metadata": {},
   "source": [
    "**Note**\n",
    "\n",
    "This prac will cover a very complete data science lifecycle. Unfortunately, this requires some skills that we don't know yet. So there are some blocks of code that do things which we haven't explained yet. That's OK. We'll get there.\n",
    "\n",
    "Here are the steps we'll do:\n",
    "\n",
    "- Data Acquisition -- there will be a little of coding for you here\n",
    "\n",
    "- Data Cleaning and Preparation\n",
    "\n",
    "- Training -- there will be a little bit here for you to do as well\n",
    "\n",
    "- Validation -- lots to do here\n",
    "\n",
    "- Evaluation -- lots to do here"
   ]
  },
  {
   "cell_type": "markdown",
   "metadata": {},
   "source": [
    "# Data Acquisition\n",
    "\n",
    "Don't worry too much about the following blocks of code. Over the next few weeks you'll get more comfortable with this, and you'll\n",
    "see that a lot of data science programming work is simple and easy-to-repeat.\n",
    "\n",
    "First up, let's load the libraries we need:"
   ]
  },
  {
   "cell_type": "code",
   "execution_count": 1,
   "metadata": {},
   "outputs": [
    {
     "ename": "ModuleNotFoundError",
     "evalue": "No module named 'matplotlib'",
     "output_type": "error",
     "traceback": [
      "\u001b[31m---------------------------------------------------------------------------\u001b[39m",
      "\u001b[31mModuleNotFoundError\u001b[39m                       Traceback (most recent call last)",
      "\u001b[36mCell\u001b[39m\u001b[36m \u001b[39m\u001b[32mIn[1]\u001b[39m\u001b[32m, line 1\u001b[39m\n\u001b[32m----> \u001b[39m\u001b[32m1\u001b[39m \u001b[43mget_ipython\u001b[49m\u001b[43m(\u001b[49m\u001b[43m)\u001b[49m\u001b[43m.\u001b[49m\u001b[43mrun_line_magic\u001b[49m\u001b[43m(\u001b[49m\u001b[33;43m'\u001b[39;49m\u001b[33;43mmatplotlib\u001b[39;49m\u001b[33;43m'\u001b[39;49m\u001b[43m,\u001b[49m\u001b[43m \u001b[49m\u001b[33;43m'\u001b[39;49m\u001b[33;43minline\u001b[39;49m\u001b[33;43m'\u001b[39;49m\u001b[43m)\u001b[49m\n\u001b[32m      2\u001b[39m \u001b[38;5;28;01mimport\u001b[39;00m\u001b[38;5;250m \u001b[39m\u001b[34;01mpandas\u001b[39;00m\u001b[38;5;250m \u001b[39m\u001b[38;5;28;01mas\u001b[39;00m\u001b[38;5;250m \u001b[39m\u001b[34;01mpd\u001b[39;00m\n\u001b[32m      3\u001b[39m \u001b[38;5;28;01mimport\u001b[39;00m\u001b[38;5;250m \u001b[39m\u001b[34;01mseaborn\u001b[39;00m\u001b[38;5;250m \u001b[39m\u001b[38;5;28;01mas\u001b[39;00m\u001b[38;5;250m \u001b[39m\u001b[34;01msns\u001b[39;00m\n",
      "\u001b[36mFile \u001b[39m\u001b[32mc:\\Users\\Admin\\anaconda3\\envs\\Jannat\\Lib\\site-packages\\IPython\\core\\interactiveshell.py:2478\u001b[39m, in \u001b[36mInteractiveShell.run_line_magic\u001b[39m\u001b[34m(self, magic_name, line, _stack_depth)\u001b[39m\n\u001b[32m   2476\u001b[39m     kwargs[\u001b[33m'\u001b[39m\u001b[33mlocal_ns\u001b[39m\u001b[33m'\u001b[39m] = \u001b[38;5;28mself\u001b[39m.get_local_scope(stack_depth)\n\u001b[32m   2477\u001b[39m \u001b[38;5;28;01mwith\u001b[39;00m \u001b[38;5;28mself\u001b[39m.builtin_trap:\n\u001b[32m-> \u001b[39m\u001b[32m2478\u001b[39m     result = \u001b[43mfn\u001b[49m\u001b[43m(\u001b[49m\u001b[43m*\u001b[49m\u001b[43margs\u001b[49m\u001b[43m,\u001b[49m\u001b[43m \u001b[49m\u001b[43m*\u001b[49m\u001b[43m*\u001b[49m\u001b[43mkwargs\u001b[49m\u001b[43m)\u001b[49m\n\u001b[32m   2480\u001b[39m \u001b[38;5;66;03m# The code below prevents the output from being displayed\u001b[39;00m\n\u001b[32m   2481\u001b[39m \u001b[38;5;66;03m# when using magics with decorator @output_can_be_silenced\u001b[39;00m\n\u001b[32m   2482\u001b[39m \u001b[38;5;66;03m# when the last Python token in the expression is a ';'.\u001b[39;00m\n\u001b[32m   2483\u001b[39m \u001b[38;5;28;01mif\u001b[39;00m \u001b[38;5;28mgetattr\u001b[39m(fn, magic.MAGIC_OUTPUT_CAN_BE_SILENCED, \u001b[38;5;28;01mFalse\u001b[39;00m):\n",
      "\u001b[36mFile \u001b[39m\u001b[32mc:\\Users\\Admin\\anaconda3\\envs\\Jannat\\Lib\\site-packages\\IPython\\core\\magics\\pylab.py:103\u001b[39m, in \u001b[36mPylabMagics.matplotlib\u001b[39m\u001b[34m(self, line)\u001b[39m\n\u001b[32m     98\u001b[39m     \u001b[38;5;28mprint\u001b[39m(\n\u001b[32m     99\u001b[39m         \u001b[33m\"\u001b[39m\u001b[33mAvailable matplotlib backends: \u001b[39m\u001b[38;5;132;01m%s\u001b[39;00m\u001b[33m\"\u001b[39m\n\u001b[32m    100\u001b[39m         % _list_matplotlib_backends_and_gui_loops()\n\u001b[32m    101\u001b[39m     )\n\u001b[32m    102\u001b[39m \u001b[38;5;28;01melse\u001b[39;00m:\n\u001b[32m--> \u001b[39m\u001b[32m103\u001b[39m     gui, backend = \u001b[38;5;28;43mself\u001b[39;49m\u001b[43m.\u001b[49m\u001b[43mshell\u001b[49m\u001b[43m.\u001b[49m\u001b[43menable_matplotlib\u001b[49m\u001b[43m(\u001b[49m\u001b[43margs\u001b[49m\u001b[43m.\u001b[49m\u001b[43mgui\u001b[49m\u001b[43m)\u001b[49m\n\u001b[32m    104\u001b[39m     \u001b[38;5;28mself\u001b[39m._show_matplotlib_backend(args.gui, backend)\n",
      "\u001b[36mFile \u001b[39m\u001b[32mc:\\Users\\Admin\\anaconda3\\envs\\Jannat\\Lib\\site-packages\\IPython\\core\\interactiveshell.py:3634\u001b[39m, in \u001b[36mInteractiveShell.enable_matplotlib\u001b[39m\u001b[34m(self, gui)\u001b[39m\n\u001b[32m   3631\u001b[39m     \u001b[38;5;28;01mimport\u001b[39;00m\u001b[38;5;250m \u001b[39m\u001b[34;01mmatplotlib_inline\u001b[39;00m\u001b[34;01m.\u001b[39;00m\u001b[34;01mbackend_inline\u001b[39;00m\n\u001b[32m   3633\u001b[39m \u001b[38;5;28;01mfrom\u001b[39;00m\u001b[38;5;250m \u001b[39m\u001b[34;01mIPython\u001b[39;00m\u001b[34;01m.\u001b[39;00m\u001b[34;01mcore\u001b[39;00m\u001b[38;5;250m \u001b[39m\u001b[38;5;28;01mimport\u001b[39;00m pylabtools \u001b[38;5;28;01mas\u001b[39;00m pt\n\u001b[32m-> \u001b[39m\u001b[32m3634\u001b[39m gui, backend = \u001b[43mpt\u001b[49m\u001b[43m.\u001b[49m\u001b[43mfind_gui_and_backend\u001b[49m\u001b[43m(\u001b[49m\u001b[43mgui\u001b[49m\u001b[43m,\u001b[49m\u001b[43m \u001b[49m\u001b[38;5;28;43mself\u001b[39;49m\u001b[43m.\u001b[49m\u001b[43mpylab_gui_select\u001b[49m\u001b[43m)\u001b[49m\n\u001b[32m   3636\u001b[39m \u001b[38;5;28;01mif\u001b[39;00m gui != \u001b[38;5;28;01mNone\u001b[39;00m:\n\u001b[32m   3637\u001b[39m     \u001b[38;5;66;03m# If we have our first gui selection, store it\u001b[39;00m\n\u001b[32m   3638\u001b[39m     \u001b[38;5;28;01mif\u001b[39;00m \u001b[38;5;28mself\u001b[39m.pylab_gui_select \u001b[38;5;129;01mis\u001b[39;00m \u001b[38;5;28;01mNone\u001b[39;00m:\n",
      "\u001b[36mFile \u001b[39m\u001b[32mc:\\Users\\Admin\\anaconda3\\envs\\Jannat\\Lib\\site-packages\\IPython\\core\\pylabtools.py:338\u001b[39m, in \u001b[36mfind_gui_and_backend\u001b[39m\u001b[34m(gui, gui_select)\u001b[39m\n\u001b[32m    321\u001b[39m \u001b[38;5;28;01mdef\u001b[39;00m\u001b[38;5;250m \u001b[39m\u001b[34mfind_gui_and_backend\u001b[39m(gui=\u001b[38;5;28;01mNone\u001b[39;00m, gui_select=\u001b[38;5;28;01mNone\u001b[39;00m):\n\u001b[32m    322\u001b[39m \u001b[38;5;250m    \u001b[39m\u001b[33;03m\"\"\"Given a gui string return the gui and mpl backend.\u001b[39;00m\n\u001b[32m    323\u001b[39m \n\u001b[32m    324\u001b[39m \u001b[33;03m    Parameters\u001b[39;00m\n\u001b[32m   (...)\u001b[39m\u001b[32m    335\u001b[39m \u001b[33;03m    'WXAgg','Qt4Agg','module://matplotlib_inline.backend_inline','agg').\u001b[39;00m\n\u001b[32m    336\u001b[39m \u001b[33;03m    \"\"\"\u001b[39;00m\n\u001b[32m--> \u001b[39m\u001b[32m338\u001b[39m     \u001b[38;5;28;01mimport\u001b[39;00m\u001b[38;5;250m \u001b[39m\u001b[34;01mmatplotlib\u001b[39;00m\n\u001b[32m    340\u001b[39m     \u001b[38;5;28;01mif\u001b[39;00m _matplotlib_manages_backends():\n\u001b[32m    341\u001b[39m         backend_registry = matplotlib.backends.registry.backend_registry\n",
      "\u001b[31mModuleNotFoundError\u001b[39m: No module named 'matplotlib'"
     ]
    }
   ],
   "source": [
    "%matplotlib inline\n",
    "import pandas as pd\n",
    "import seaborn as sns\n",
    "import numpy as np\n",
    "import matplotlib.pyplot as plt\n",
    "import datetime as dt\n",
    "import sklearn.linear_model\n",
    "import sklearn.model_selection\n",
    "import sklearn.metrics"
   ]
  },
  {
   "cell_type": "code",
   "execution_count": 3,
   "metadata": {},
   "outputs": [
    {
     "name": "stdout",
     "output_type": "stream",
     "text": [
      "Note: you may need to restart the kernel to use updated packages.\n"
     ]
    },
    {
     "name": "stderr",
     "output_type": "stream",
     "text": [
      "WARNING: Package(s) not found: matplotlib\n"
     ]
    }
   ],
   "source": [
    "pip show matplotlib"
   ]
  },
  {
   "cell_type": "code",
   "execution_count": 1,
   "metadata": {},
   "outputs": [
    {
     "name": "stdout",
     "output_type": "stream",
     "text": [
      "Note: you may need to restart the kernel to use updated packages.\n"
     ]
    },
    {
     "name": "stderr",
     "output_type": "stream",
     "text": [
      "WARNING: Package(s) not found: matplotlib\n"
     ]
    }
   ],
   "source": [
    "pip show matplotlib"
   ]
  },
  {
   "cell_type": "code",
   "execution_count": 2,
   "metadata": {},
   "outputs": [
    {
     "name": "stdout",
     "output_type": "stream",
     "text": [
      "Collecting matplotlib\n",
      "  Downloading matplotlib-3.10.1-cp311-cp311-win_amd64.whl.metadata (11 kB)\n",
      "Collecting contourpy>=1.0.1 (from matplotlib)\n",
      "  Downloading contourpy-1.3.1-cp311-cp311-win_amd64.whl.metadata (5.4 kB)\n",
      "Collecting cycler>=0.10 (from matplotlib)\n",
      "  Downloading cycler-0.12.1-py3-none-any.whl.metadata (3.8 kB)\n",
      "Collecting fonttools>=4.22.0 (from matplotlib)\n",
      "  Downloading fonttools-4.56.0-cp311-cp311-win_amd64.whl.metadata (103 kB)\n",
      "Collecting kiwisolver>=1.3.1 (from matplotlib)\n",
      "  Downloading kiwisolver-1.4.8-cp311-cp311-win_amd64.whl.metadata (6.3 kB)\n",
      "Collecting numpy>=1.23 (from matplotlib)\n",
      "  Downloading numpy-2.2.3-cp311-cp311-win_amd64.whl.metadata (60 kB)\n",
      "Requirement already satisfied: packaging>=20.0 in c:\\users\\admin\\anaconda3\\envs\\jannat\\lib\\site-packages (from matplotlib) (24.2)\n",
      "Collecting pillow>=8 (from matplotlib)\n",
      "  Downloading pillow-11.1.0-cp311-cp311-win_amd64.whl.metadata (9.3 kB)\n",
      "Collecting pyparsing>=2.3.1 (from matplotlib)\n",
      "  Downloading pyparsing-3.2.1-py3-none-any.whl.metadata (5.0 kB)\n",
      "Requirement already satisfied: python-dateutil>=2.7 in c:\\users\\admin\\anaconda3\\envs\\jannat\\lib\\site-packages (from matplotlib) (2.9.0.post0)\n",
      "Requirement already satisfied: six>=1.5 in c:\\users\\admin\\anaconda3\\envs\\jannat\\lib\\site-packages (from python-dateutil>=2.7->matplotlib) (1.17.0)\n",
      "Downloading matplotlib-3.10.1-cp311-cp311-win_amd64.whl (8.1 MB)\n",
      "   ---------------------------------------- 0.0/8.1 MB ? eta -:--:--\n",
      "   ----------- ---------------------------- 2.4/8.1 MB 15.0 MB/s eta 0:00:01\n",
      "   ---------------------- ----------------- 4.5/8.1 MB 11.2 MB/s eta 0:00:01\n",
      "   ----------------------------- ---------- 6.0/8.1 MB 10.0 MB/s eta 0:00:01\n",
      "   ---------------------------------------- 8.1/8.1 MB 10.4 MB/s eta 0:00:00\n",
      "Downloading contourpy-1.3.1-cp311-cp311-win_amd64.whl (219 kB)\n",
      "Downloading cycler-0.12.1-py3-none-any.whl (8.3 kB)\n",
      "Downloading fonttools-4.56.0-cp311-cp311-win_amd64.whl (2.2 MB)\n",
      "   ---------------------------------------- 0.0/2.2 MB ? eta -:--:--\n",
      "   ---------------------------------------- 2.2/2.2 MB 13.8 MB/s eta 0:00:00\n",
      "Downloading kiwisolver-1.4.8-cp311-cp311-win_amd64.whl (71 kB)\n",
      "Downloading numpy-2.2.3-cp311-cp311-win_amd64.whl (12.9 MB)\n",
      "   ---------------------------------------- 0.0/12.9 MB ? eta -:--:--\n",
      "   -------- ------------------------------- 2.6/12.9 MB 12.5 MB/s eta 0:00:01\n",
      "   ----------------- ---------------------- 5.8/12.9 MB 13.5 MB/s eta 0:00:01\n",
      "   ---------------------------- ----------- 9.2/12.9 MB 14.3 MB/s eta 0:00:01\n",
      "   ---------------------------------------  12.8/12.9 MB 15.5 MB/s eta 0:00:01\n",
      "   ---------------------------------------- 12.9/12.9 MB 14.2 MB/s eta 0:00:00\n",
      "Downloading pillow-11.1.0-cp311-cp311-win_amd64.whl (2.6 MB)\n",
      "   ---------------------------------------- 0.0/2.6 MB ? eta -:--:--\n",
      "   ---------------------------------------  2.6/2.6 MB 13.7 MB/s eta 0:00:01\n",
      "   ---------------------------------------- 2.6/2.6 MB 10.8 MB/s eta 0:00:00\n",
      "Downloading pyparsing-3.2.1-py3-none-any.whl (107 kB)\n",
      "Installing collected packages: pyparsing, pillow, numpy, kiwisolver, fonttools, cycler, contourpy, matplotlib\n",
      "Successfully installed contourpy-1.3.1 cycler-0.12.1 fonttools-4.56.0 kiwisolver-1.4.8 matplotlib-3.10.1 numpy-2.2.3 pillow-11.1.0 pyparsing-3.2.1\n",
      "Note: you may need to restart the kernel to use updated packages.\n"
     ]
    }
   ],
   "source": [
    "pip install matplotlib"
   ]
  },
  {
   "cell_type": "code",
   "execution_count": 3,
   "metadata": {},
   "outputs": [
    {
     "name": "stdout",
     "output_type": "stream",
     "text": [
      "Retrieving notices: done\n",
      "Channels:\n",
      " - defaults\n",
      " - conda-forge\n",
      "Platform: win-64\n",
      "Collecting package metadata (repodata.json): ...working... done\n",
      "Solving environment: ...working... done\n",
      "\n",
      "## Package Plan ##\n",
      "\n",
      "  environment location: c:\\Users\\Admin\\anaconda3\\envs\\Jannat\n",
      "\n",
      "  added / updated specs:\n",
      "    - matplotlib\n",
      "\n",
      "\n",
      "The following packages will be downloaded:\n",
      "\n",
      "    package                    |            build\n",
      "    ---------------------------|-----------------\n",
      "    brotli-python-1.0.9        |  py311h5da7b33_9         346 KB\n",
      "    contourpy-1.3.1            |  py311h214f63a_0         232 KB\n",
      "    fonttools-4.55.3           |  py311h827c3e9_0         2.7 MB\n",
      "    icu-73.2                   |       h63175ca_0        12.8 MB  conda-forge\n",
      "    kiwisolver-1.4.8           |  py311h5da7b33_0          63 KB\n",
      "    lcms2-2.16                 |       hb4a4139_0         566 KB\n",
      "    lerc-4.0.0                 |       h5da7b33_0         185 KB\n",
      "    libdeflate-1.22            |       h5bf469e_0         180 KB\n",
      "    libpq-17.0                 |       hfc46ca6_0         3.8 MB  conda-forge\n",
      "    libtiff-4.5.1              |       h44ae7cf_1         1.0 MB\n",
      "    libwebp-base-1.3.2         |       h3d04722_1         303 KB\n",
      "    matplotlib-3.10.0          |  py311haa95532_0           8 KB\n",
      "    matplotlib-base-3.10.0     |  py311he19b0ae_0        10.1 MB\n",
      "    mkl-service-2.4.0          |  py311h827c3e9_2          67 KB\n",
      "    mkl_fft-1.3.11             |  py311h827c3e9_0         176 KB\n",
      "    mkl_random-1.2.8           |  py311hea22821_0         266 KB\n",
      "    numpy-2.0.1                |  py311hdab7c0b_1          11 KB\n",
      "    numpy-base-2.0.1           |  py311hd01c5d8_1         9.6 MB\n",
      "    pillow-11.1.0              |  py311h096bfcc_0         927 KB\n",
      "    pyparsing-3.2.0            |  py311haa95532_0         480 KB\n",
      "    pyqt-6.7.1                 |  py311h5da7b33_0         3.5 MB\n",
      "    pyqt6-sip-13.9.1           |  py311h827c3e9_0          77 KB\n",
      "    qtbase-6.7.2               |       h0804d20_1        32.5 MB\n",
      "    qtdeclarative-6.7.2        |       h5da7b33_0        20.9 MB\n",
      "    qtsvg-6.7.2                |       hf2fb9eb_0         311 KB\n",
      "    qttools-6.7.2              |       h0de5f00_0         9.3 MB\n",
      "    qtwebchannel-6.7.2         |       h5da7b33_0         162 KB\n",
      "    qtwebsockets-6.7.2         |       h5da7b33_0         146 KB\n",
      "    sip-6.10.0                 |  py311h5da7b33_0         718 KB\n",
      "    unicodedata2-15.1.0        |  py311h827c3e9_1         525 KB\n",
      "    ------------------------------------------------------------\n",
      "                                           Total:       111.8 MB\n",
      "\n",
      "The following NEW packages will be INSTALLED:\n",
      "\n",
      "  blas               pkgs/main/win-64::blas-1.0-mkl \n",
      "  brotli-python      pkgs/main/win-64::brotli-python-1.0.9-py311h5da7b33_9 \n",
      "  contourpy          pkgs/main/win-64::contourpy-1.3.1-py311h214f63a_0 \n",
      "  cycler             pkgs/main/noarch::cycler-0.11.0-pyhd3eb1b0_0 \n",
      "  fonttools          pkgs/main/win-64::fonttools-4.55.3-py311h827c3e9_0 \n",
      "  freetype           pkgs/main/win-64::freetype-2.12.1-ha860e81_0 \n",
      "  icu                conda-forge/win-64::icu-73.2-h63175ca_0 \n",
      "  intel-openmp       pkgs/main/win-64::intel-openmp-2023.1.0-h59b6b97_46320 \n",
      "  jpeg               pkgs/main/win-64::jpeg-9e-h827c3e9_3 \n",
      "  kiwisolver         pkgs/main/win-64::kiwisolver-1.4.8-py311h5da7b33_0 \n",
      "  lcms2              pkgs/main/win-64::lcms2-2.16-hb4a4139_0 \n",
      "  lerc               pkgs/main/win-64::lerc-4.0.0-h5da7b33_0 \n",
      "  libdeflate         pkgs/main/win-64::libdeflate-1.22-h5bf469e_0 \n",
      "  libpng             pkgs/main/win-64::libpng-1.6.39-h8cc25b3_0 \n",
      "  libpq              conda-forge/win-64::libpq-17.0-hfc46ca6_0 \n",
      "  libtiff            pkgs/main/win-64::libtiff-4.5.1-h44ae7cf_1 \n",
      "  libwebp-base       pkgs/main/win-64::libwebp-base-1.3.2-h3d04722_1 \n",
      "  lz4-c              pkgs/main/win-64::lz4-c-1.9.4-h2bbff1b_1 \n",
      "  matplotlib         pkgs/main/win-64::matplotlib-3.10.0-py311haa95532_0 \n",
      "  matplotlib-base    pkgs/main/win-64::matplotlib-base-3.10.0-py311he19b0ae_0 \n",
      "  mkl                pkgs/main/win-64::mkl-2023.1.0-h6b88ed4_46358 \n",
      "  mkl-service        pkgs/main/win-64::mkl-service-2.4.0-py311h827c3e9_2 \n",
      "  mkl_fft            pkgs/main/win-64::mkl_fft-1.3.11-py311h827c3e9_0 \n",
      "  mkl_random         pkgs/main/win-64::mkl_random-1.2.8-py311hea22821_0 \n",
      "  numpy              pkgs/main/win-64::numpy-2.0.1-py311hdab7c0b_1 \n",
      "  numpy-base         pkgs/main/win-64::numpy-base-2.0.1-py311hd01c5d8_1 \n",
      "  openjpeg           pkgs/main/win-64::openjpeg-2.5.2-hae555c5_0 \n",
      "  pillow             pkgs/main/win-64::pillow-11.1.0-py311h096bfcc_0 \n",
      "  pyparsing          pkgs/main/win-64::pyparsing-3.2.0-py311haa95532_0 \n",
      "  pyqt               pkgs/main/win-64::pyqt-6.7.1-py311h5da7b33_0 \n",
      "  pyqt6-sip          pkgs/main/win-64::pyqt6-sip-13.9.1-py311h827c3e9_0 \n",
      "  qtbase             pkgs/main/win-64::qtbase-6.7.2-h0804d20_1 \n",
      "  qtdeclarative      pkgs/main/win-64::qtdeclarative-6.7.2-h5da7b33_0 \n",
      "  qtsvg              pkgs/main/win-64::qtsvg-6.7.2-hf2fb9eb_0 \n",
      "  qttools            pkgs/main/win-64::qttools-6.7.2-h0de5f00_0 \n",
      "  qtwebchannel       pkgs/main/win-64::qtwebchannel-6.7.2-h5da7b33_0 \n",
      "  qtwebsockets       pkgs/main/win-64::qtwebsockets-6.7.2-h5da7b33_0 \n",
      "  sip                pkgs/main/win-64::sip-6.10.0-py311h5da7b33_0 \n",
      "  tbb                pkgs/main/win-64::tbb-2021.8.0-h59b6b97_0 \n",
      "  unicodedata2       pkgs/main/win-64::unicodedata2-15.1.0-py311h827c3e9_1 \n",
      "  zstd               pkgs/main/win-64::zstd-1.5.6-h8880b57_0 \n",
      "\n",
      "\n",
      "\n",
      "Downloading and Extracting Packages: ...working...\n",
      "qtbase-6.7.2         | 32.5 MB   |            |   0% \n",
      "\n",
      "qtdeclarative-6.7.2  | 20.9 MB   |            |   0% \u001b[A\n",
      "\n",
      "\n",
      "icu-73.2             | 12.8 MB   |            |   0% \u001b[A\u001b[A\n",
      "\n",
      "\n",
      "\n",
      "matplotlib-base-3.10 | 10.1 MB   |            |   0% \u001b[A\u001b[A\u001b[A\n",
      "\n",
      "\n",
      "\n",
      "\n",
      "numpy-base-2.0.1     | 9.6 MB    |            |   0% \u001b[A\u001b[A\u001b[A\u001b[A\n",
      "\n",
      "\n",
      "\n",
      "\n",
      "\n",
      "qttools-6.7.2        | 9.3 MB    |            |   0% \u001b[A\u001b[A\u001b[A\u001b[A\u001b[A\n",
      "\n",
      "\n",
      "\n",
      "\n",
      "\n",
      "\n",
      "libpq-17.0           | 3.8 MB    |            |   0% \u001b[A\u001b[A\u001b[A\u001b[A\u001b[A\u001b[A\n",
      "\n",
      "\n",
      "\n",
      "\n",
      "\n",
      "\n",
      "\n",
      "pyqt-6.7.1           | 3.5 MB    |            |   0% \u001b[A\u001b[A\u001b[A\u001b[A\u001b[A\u001b[A\u001b[A\n",
      "\n",
      "\n",
      "\n",
      "\n",
      "\n",
      "\n",
      "\n",
      "\n",
      "fonttools-4.55.3     | 2.7 MB    |            |   0% \u001b[A\u001b[A\u001b[A\u001b[A\u001b[A\u001b[A\u001b[A\u001b[A\n",
      "\n",
      "\n",
      "\n",
      "\n",
      "\n",
      "\n",
      "\n",
      "\n",
      "\n",
      "libtiff-4.5.1        | 1.0 MB    |            |   0% \u001b[A\u001b[A\u001b[A\u001b[A\u001b[A\u001b[A\u001b[A\u001b[A\u001b[A\n",
      "\n",
      "\n",
      "\n",
      "\n",
      "\n",
      "\n",
      "\n",
      "\n",
      "\n",
      "\n",
      "pillow-11.1.0        | 927 KB    |            |   0% \u001b[A\u001b[A\u001b[A\u001b[A\u001b[A\u001b[A\u001b[A\u001b[A\u001b[A\u001b[A\n",
      "\n",
      "\n",
      "\n",
      "\n",
      "\n",
      "\n",
      "\n",
      "\n",
      "\n",
      "\n",
      "\n",
      "sip-6.10.0           | 718 KB    |            |   0% \u001b[A\u001b[A\u001b[A\u001b[A\u001b[A\u001b[A\u001b[A\u001b[A\u001b[A\u001b[A\u001b[A\n",
      "\n",
      "\n",
      "\n",
      "\n",
      "\n",
      "\n",
      "\n",
      "\n",
      "\n",
      "\n",
      "\n",
      "\n",
      "lcms2-2.16           | 566 KB    |            |   0% \u001b[A\u001b[A\u001b[A\u001b[A\u001b[A\u001b[A\u001b[A\u001b[A\u001b[A\u001b[A\u001b[A\u001b[A\n",
      "\n",
      "\n",
      "\n",
      "\n",
      "\n",
      "\n",
      "\n",
      "\n",
      "\n",
      "\n",
      "\n",
      "\n",
      "\n",
      "unicodedata2-15.1.0  | 525 KB    |            |   0% \u001b[A\u001b[A\u001b[A\u001b[A\u001b[A\u001b[A\u001b[A\u001b[A\u001b[A\u001b[A\u001b[A\u001b[A\u001b[A\n",
      "\n",
      "\n",
      "\n",
      "\n",
      "\n",
      "\n",
      "\n",
      "\n",
      "\n",
      "\n",
      "\n",
      "\n",
      "\n",
      "\n",
      "pyparsing-3.2.0      | 480 KB    |            |   0% \u001b[A\u001b[A\u001b[A\u001b[A\u001b[A\u001b[A\u001b[A\u001b[A\u001b[A\u001b[A\u001b[A\u001b[A\u001b[A\u001b[A\n",
      "\n",
      "\n",
      "\n",
      "\n",
      "\n",
      "\n",
      "\n",
      "\n",
      "\n",
      "\n",
      "\n",
      "\n",
      "\n",
      "\n",
      "\n",
      "brotli-python-1.0.9  | 346 KB    |            |   0% \u001b[A\u001b[A\u001b[A\u001b[A\u001b[A\u001b[A\u001b[A\u001b[A\u001b[A\u001b[A\u001b[A\u001b[A\u001b[A\u001b[A\u001b[A\n",
      "\n",
      "\n",
      "\n",
      "\n",
      "\n",
      "\n",
      "\n",
      "\n",
      "\n",
      "\n",
      "\n",
      "\n",
      "\n",
      "\n",
      "\n",
      "\n",
      "qtsvg-6.7.2          | 311 KB    |            |   0% \u001b[A\u001b[A\u001b[A\u001b[A\u001b[A\u001b[A\u001b[A\u001b[A\u001b[A\u001b[A\u001b[A\u001b[A\u001b[A\u001b[A\u001b[A\u001b[A\n",
      "\n",
      "\n",
      "\n",
      "\n",
      "\n",
      "\n",
      "\n",
      "\n",
      "\n",
      "\n",
      "\n",
      "\n",
      "\n",
      "\n",
      "\n",
      "\n",
      "\n",
      "libwebp-base-1.3.2   | 303 KB    |            |   0% \u001b[A\u001b[A\u001b[A\u001b[A\u001b[A\u001b[A\u001b[A\u001b[A\u001b[A\u001b[A\u001b[A\u001b[A\u001b[A\u001b[A\u001b[A\u001b[A\u001b[A\n",
      "\n",
      "\n",
      "\n",
      "\n",
      "\n",
      "\n",
      "\n",
      "\n",
      "\n",
      "\n",
      "\n",
      "\n",
      "\n",
      "\n",
      "\n",
      "\n",
      "\n",
      "\n",
      "mkl_random-1.2.8     | 266 KB    |            |   0% \u001b[A\u001b[A\u001b[A\u001b[A\u001b[A\u001b[A\u001b[A\u001b[A\u001b[A\u001b[A\u001b[A\u001b[A\u001b[A\u001b[A\u001b[A\u001b[A\u001b[A\u001b[A\n",
      "\n",
      "\n",
      "\n",
      "\n",
      "\n",
      "\n",
      "\n",
      "\n",
      "\n",
      "\n",
      "\n",
      "\n",
      "\n",
      "\n",
      "\n",
      "\n",
      "\n",
      "\n",
      "\n",
      " ... (more hidden) ...\u001b[A\u001b[A\u001b[A\u001b[A\u001b[A\u001b[A\u001b[A\u001b[A\u001b[A\u001b[A\u001b[A\u001b[A\u001b[A\u001b[A\u001b[A\u001b[A\u001b[A\u001b[A\u001b[A\n",
      "\n",
      "\n",
      "\n",
      "matplotlib-base-3.10 | 10.1 MB   |            |   0% \u001b[A\u001b[A\u001b[A\n",
      "\n",
      "qtdeclarative-6.7.2  | 20.9 MB   |            |   0% \u001b[A\n",
      "qtbase-6.7.2         | 32.5 MB   |            |   0% \n",
      "\n",
      "\n",
      "\n",
      "\n",
      "numpy-base-2.0.1     | 9.6 MB    |            |   0% \u001b[A\u001b[A\u001b[A\u001b[A\n",
      "\n",
      "\n",
      "icu-73.2             | 12.8 MB   |            |   0% \u001b[A\u001b[A\n",
      "\n",
      "\n",
      "\n",
      "matplotlib-base-3.10 | 10.1 MB   | 2          |   3% \u001b[A\u001b[A\u001b[A\n",
      "\n",
      "qtdeclarative-6.7.2  | 20.9 MB   | 1          |   1% \u001b[A\n",
      "qtbase-6.7.2         | 32.5 MB   |            |   1% \n",
      "\n",
      "\n",
      "icu-73.2             | 12.8 MB   | 1          |   1% \u001b[A\u001b[A\n",
      "\n",
      "\n",
      "\n",
      "\n",
      "numpy-base-2.0.1     | 9.6 MB    | 2          |   3% \u001b[A\u001b[A\u001b[A\u001b[A\n",
      "\n",
      "\n",
      "\n",
      "matplotlib-base-3.10 | 10.1 MB   | 5          |   6% \u001b[A\u001b[A\u001b[A\n",
      "\n",
      "qtdeclarative-6.7.2  | 20.9 MB   | 2          |   2% \u001b[A\n",
      "qtbase-6.7.2         | 32.5 MB   | 1          |   2% \n",
      "\n",
      "\n",
      "icu-73.2             | 12.8 MB   | 3          |   3% \u001b[A\u001b[A\n",
      "\n",
      "\n",
      "\n",
      "\n",
      "numpy-base-2.0.1     | 9.6 MB    | 7          |   7% \u001b[A\u001b[A\u001b[A\u001b[A\n",
      "qtbase-6.7.2         | 32.5 MB   | 2          |   2% \n",
      "\n",
      "qtdeclarative-6.7.2  | 20.9 MB   | 3          |   4% \u001b[A\n",
      "\n",
      "\n",
      "\n",
      "matplotlib-base-3.10 | 10.1 MB   | 8          |   9% \u001b[A\u001b[A\u001b[A\n",
      "\n",
      "\n",
      "icu-73.2             | 12.8 MB   | 4          |   5% \u001b[A\u001b[A\n",
      "\n",
      "\n",
      "\n",
      "\n",
      "numpy-base-2.0.1     | 9.6 MB    | #1         |  11% \u001b[A\u001b[A\u001b[A\u001b[A\n",
      "\n",
      "qtdeclarative-6.7.2  | 20.9 MB   | 5          |   6% \u001b[A\n",
      "qtbase-6.7.2         | 32.5 MB   | 3          |   4% \n",
      "\n",
      "\n",
      "\n",
      "matplotlib-base-3.10 | 10.1 MB   | #1         |  12% \u001b[A\u001b[A\u001b[A\n",
      "\n",
      "\n",
      "icu-73.2             | 12.8 MB   | 6          |   6% \u001b[A\u001b[A\n",
      "\n",
      "\n",
      "\n",
      "\n",
      "numpy-base-2.0.1     | 9.6 MB    | #6         |  17% \u001b[A\u001b[A\u001b[A\u001b[A\n",
      "\n",
      "qtdeclarative-6.7.2  | 20.9 MB   | 7          |   7% \u001b[A\n",
      "qtbase-6.7.2         | 32.5 MB   | 4          |   5% \n",
      "\n",
      "\n",
      "icu-73.2             | 12.8 MB   | 7          |   7% \u001b[A\u001b[A\n",
      "\n",
      "\n",
      "\n",
      "matplotlib-base-3.10 | 10.1 MB   | #4         |  14% \u001b[A\u001b[A\u001b[A\n",
      "\n",
      "\n",
      "\n",
      "\n",
      "numpy-base-2.0.1     | 9.6 MB    | ##2        |  23% \u001b[A\u001b[A\u001b[A\u001b[A\n",
      "qtbase-6.7.2         | 32.5 MB   | 5          |   6% \n",
      "\n",
      "qtdeclarative-6.7.2  | 20.9 MB   | 8          |   9% \u001b[A\n",
      "\n",
      "\n",
      "icu-73.2             | 12.8 MB   | 8          |   9% \u001b[A\u001b[A\n",
      "qtbase-6.7.2         | 32.5 MB   | 6          |   7% \n",
      "\n",
      "\n",
      "\n",
      "\n",
      "numpy-base-2.0.1     | 9.6 MB    | ##7        |  27% \u001b[A\u001b[A\u001b[A\u001b[A\n",
      "\n",
      "\n",
      "\n",
      "matplotlib-base-3.10 | 10.1 MB   | #6         |  16% \u001b[A\u001b[A\u001b[A\n",
      "\n",
      "\n",
      "icu-73.2             | 12.8 MB   | #          |  10% \u001b[A\u001b[A\n",
      "\n",
      "qtdeclarative-6.7.2  | 20.9 MB   | #          |  10% \u001b[A\n",
      "\n",
      "\n",
      "\n",
      "\n",
      "numpy-base-2.0.1     | 9.6 MB    | ###1       |  31% \u001b[A\u001b[A\u001b[A\u001b[A\n",
      "\n",
      "\n",
      "icu-73.2             | 12.8 MB   | #1         |  12% \u001b[A\u001b[A\n",
      "\n",
      "qtdeclarative-6.7.2  | 20.9 MB   | #1         |  12% \u001b[A\n",
      "\n",
      "\n",
      "\n",
      "matplotlib-base-3.10 | 10.1 MB   | #8         |  18% \u001b[A\u001b[A\u001b[A\n",
      "qtbase-6.7.2         | 32.5 MB   | 7          |   8% \n",
      "\n",
      "\n",
      "\n",
      "\n",
      "numpy-base-2.0.1     | 9.6 MB    | ###5       |  36% \u001b[A\u001b[A\u001b[A\u001b[A\n",
      "\n",
      "qtdeclarative-6.7.2  | 20.9 MB   | #2         |  13% \u001b[A\n",
      "\n",
      "\n",
      "\n",
      "matplotlib-base-3.10 | 10.1 MB   | ##1        |  22% \u001b[A\u001b[A\u001b[A\n",
      "\n",
      "\n",
      "icu-73.2             | 12.8 MB   | #3         |  13% \u001b[A\u001b[A\n",
      "qtbase-6.7.2         | 32.5 MB   | 8          |   9% \n",
      "\n",
      "\n",
      "\n",
      "\n",
      "numpy-base-2.0.1     | 9.6 MB    | ####       |  40% \u001b[A\u001b[A\u001b[A\u001b[A\n",
      "\n",
      "qtdeclarative-6.7.2  | 20.9 MB   | #4         |  15% \u001b[A\n",
      "\n",
      "\n",
      "\n",
      "matplotlib-base-3.10 | 10.1 MB   | ##5        |  25% \u001b[A\u001b[A\u001b[A\n",
      "\n",
      "\n",
      "icu-73.2             | 12.8 MB   | #4         |  15% \u001b[A\u001b[A\n",
      "qtbase-6.7.2         | 32.5 MB   | 9          |  10% \n",
      "\n",
      "\n",
      "\n",
      "\n",
      "numpy-base-2.0.1     | 9.6 MB    | ####6      |  46% \u001b[A\u001b[A\u001b[A\u001b[A\n",
      "\n",
      "\n",
      "\n",
      "matplotlib-base-3.10 | 10.1 MB   | ##7        |  28% \u001b[A\u001b[A\u001b[A\n",
      "\n",
      "qtdeclarative-6.7.2  | 20.9 MB   | #6         |  16% \u001b[A\n",
      "\n",
      "\n",
      "icu-73.2             | 12.8 MB   | #6         |  16% \u001b[A\u001b[A\n",
      "qtbase-6.7.2         | 32.5 MB   | #          |  11% \n",
      "\n",
      "\n",
      "\n",
      "\n",
      "numpy-base-2.0.1     | 9.6 MB    | #####1     |  51% \u001b[A\u001b[A\u001b[A\u001b[A\n",
      "\n",
      "\n",
      "\n",
      "matplotlib-base-3.10 | 10.1 MB   | ###1       |  31% \u001b[A\u001b[A\u001b[A\n",
      "\n",
      "qtdeclarative-6.7.2  | 20.9 MB   | #8         |  18% \u001b[A\n",
      "\n",
      "\n",
      "icu-73.2             | 12.8 MB   | #8         |  18% \u001b[A\u001b[A\n",
      "qtbase-6.7.2         | 32.5 MB   | #2         |  12% \n",
      "\n",
      "\n",
      "\n",
      "\n",
      "numpy-base-2.0.1     | 9.6 MB    | #####6     |  57% \u001b[A\u001b[A\u001b[A\u001b[A\n",
      "\n",
      "\n",
      "\n",
      "matplotlib-base-3.10 | 10.1 MB   | ###4       |  34% \u001b[A\u001b[A\u001b[A\n",
      "\n",
      "qtdeclarative-6.7.2  | 20.9 MB   | #9         |  20% \u001b[A\n",
      "\n",
      "\n",
      "icu-73.2             | 12.8 MB   | ##         |  20% \u001b[A\u001b[A\n",
      "qtbase-6.7.2         | 32.5 MB   | #3         |  13% \n",
      "\n",
      "\n",
      "\n",
      "\n",
      "numpy-base-2.0.1     | 9.6 MB    | ######2    |  62% \u001b[A\u001b[A\u001b[A\u001b[A\n",
      "\n",
      "\n",
      "\n",
      "matplotlib-base-3.10 | 10.1 MB   | ###7       |  37% \u001b[A\u001b[A\u001b[A\n",
      "\n",
      "qtdeclarative-6.7.2  | 20.9 MB   | ##1        |  22% \u001b[A\n",
      "\n",
      "\n",
      "icu-73.2             | 12.8 MB   | ##1        |  22% \u001b[A\u001b[A\n",
      "qtbase-6.7.2         | 32.5 MB   | #4         |  14% \n",
      "\n",
      "\n",
      "\n",
      "\n",
      "numpy-base-2.0.1     | 9.6 MB    | ######6    |  67% \u001b[A\u001b[A\u001b[A\u001b[A\n",
      "\n",
      "\n",
      "\n",
      "matplotlib-base-3.10 | 10.1 MB   | ####       |  40% \u001b[A\u001b[A\u001b[A\n",
      "\n",
      "qtdeclarative-6.7.2  | 20.9 MB   | ##3        |  24% \u001b[A\n",
      "\n",
      "\n",
      "icu-73.2             | 12.8 MB   | ##3        |  24% \u001b[A\u001b[A\n",
      "qtbase-6.7.2         | 32.5 MB   | #5         |  15% \n",
      "\n",
      "\n",
      "\n",
      "\n",
      "numpy-base-2.0.1     | 9.6 MB    | #######3   |  74% \u001b[A\u001b[A\u001b[A\u001b[A\n",
      "\n",
      "\n",
      "\n",
      "matplotlib-base-3.10 | 10.1 MB   | ####2      |  43% \u001b[A\u001b[A\u001b[A\n",
      "\n",
      "qtdeclarative-6.7.2  | 20.9 MB   | ##5        |  25% \u001b[A\n",
      "\n",
      "\n",
      "icu-73.2             | 12.8 MB   | ##5        |  25% \u001b[A\u001b[A\n",
      "\n",
      "\n",
      "\n",
      "\n",
      "numpy-base-2.0.1     | 9.6 MB    | #######8   |  79% \u001b[A\u001b[A\u001b[A\u001b[A\n",
      "qtbase-6.7.2         | 32.5 MB   | #6         |  16% \n",
      "\n",
      "\n",
      "\n",
      "matplotlib-base-3.10 | 10.1 MB   | ####5      |  46% \u001b[A\u001b[A\u001b[A\n",
      "\n",
      "qtdeclarative-6.7.2  | 20.9 MB   | ##6        |  27% \u001b[A\n",
      "\n",
      "\n",
      "icu-73.2             | 12.8 MB   | ##6        |  27% \u001b[A\u001b[A\n",
      "qtbase-6.7.2         | 32.5 MB   | #7         |  18% \n",
      "\n",
      "\n",
      "\n",
      "\n",
      "numpy-base-2.0.1     | 9.6 MB    | ########4  |  84% \u001b[A\u001b[A\u001b[A\u001b[A\n",
      "\n",
      "\n",
      "\n",
      "matplotlib-base-3.10 | 10.1 MB   | ####8      |  49% \u001b[A\u001b[A\u001b[A\n",
      "\n",
      "qtdeclarative-6.7.2  | 20.9 MB   | ##8        |  29% \u001b[A\n",
      "\n",
      "\n",
      "icu-73.2             | 12.8 MB   | ##8        |  28% \u001b[A\u001b[A\n",
      "\n",
      "\n",
      "\n",
      "\n",
      "numpy-base-2.0.1     | 9.6 MB    | ########9  |  90% \u001b[A\u001b[A\u001b[A\u001b[A\n",
      "qtbase-6.7.2         | 32.5 MB   | #8         |  19% \n",
      "\n",
      "\n",
      "\n",
      "matplotlib-base-3.10 | 10.1 MB   | #####2     |  52% \u001b[A\u001b[A\u001b[A\n",
      "\n",
      "\n",
      "icu-73.2             | 12.8 MB   | ###        |  30% \u001b[A\u001b[A\n",
      "\n",
      "qtdeclarative-6.7.2  | 20.9 MB   | ###        |  30% \u001b[A\n",
      "\n",
      "\n",
      "icu-73.2             | 12.8 MB   | ###1       |  31% \u001b[A\u001b[A\n",
      "\n",
      "\n",
      "\n",
      "matplotlib-base-3.10 | 10.1 MB   | #####4     |  54% \u001b[A\u001b[A\u001b[A\n",
      "\n",
      "\n",
      "\n",
      "\n",
      "numpy-base-2.0.1     | 9.6 MB    | #########4 |  95% \u001b[A\u001b[A\u001b[A\u001b[A\n",
      "\n",
      "qtdeclarative-6.7.2  | 20.9 MB   | ###3       |  34% \u001b[A\n",
      "\n",
      "\n",
      "icu-73.2             | 12.8 MB   | ###4       |  35% \u001b[A\u001b[A\n",
      "\n",
      "\n",
      "\n",
      "matplotlib-base-3.10 | 10.1 MB   | #####9     |  60% \u001b[A\u001b[A\u001b[A\n",
      "\n",
      "\n",
      "\n",
      "\n",
      "numpy-base-2.0.1     | 9.6 MB    | #########8 |  99% \u001b[A\u001b[A\u001b[A\u001b[A\n",
      "\n",
      "\n",
      "\n",
      "matplotlib-base-3.10 | 10.1 MB   | ######2    |  63% \u001b[A\u001b[A\u001b[A\n",
      "\n",
      "qtdeclarative-6.7.2  | 20.9 MB   | ###5       |  35% \u001b[A\n",
      "\n",
      "\n",
      "icu-73.2             | 12.8 MB   | ###6       |  37% \u001b[A\u001b[A\n",
      "\n",
      "\n",
      "\n",
      "\n",
      "numpy-base-2.0.1     | 9.6 MB    | ########## | 100% \u001b[A\u001b[A\u001b[A\u001b[A\n",
      "\n",
      "\n",
      "\n",
      "matplotlib-base-3.10 | 10.1 MB   | ######5    |  66% \u001b[A\u001b[A\u001b[A\n",
      "\n",
      "qtdeclarative-6.7.2  | 20.9 MB   | ###7       |  37% \u001b[A\n",
      "\n",
      "\n",
      "icu-73.2             | 12.8 MB   | ###8       |  39% \u001b[A\u001b[A\n",
      "\n",
      "\n",
      "\n",
      "\n",
      "\n",
      "qttools-6.7.2        | 9.3 MB    |            |   0% \u001b[A\u001b[A\u001b[A\u001b[A\u001b[A\n",
      "\n",
      "\n",
      "icu-73.2             | 12.8 MB   | ####       |  41% \u001b[A\u001b[A\n",
      "\n",
      "\n",
      "\n",
      "matplotlib-base-3.10 | 10.1 MB   | ######8    |  69% \u001b[A\u001b[A\u001b[A\n",
      "\n",
      "\n",
      "\n",
      "\n",
      "\n",
      "qttools-6.7.2        | 9.3 MB    | 2          |   3% \u001b[A\u001b[A\u001b[A\u001b[A\u001b[A\n",
      "\n",
      "qtdeclarative-6.7.2  | 20.9 MB   | ###9       |  39% \u001b[A\n",
      "\n",
      "\n",
      "icu-73.2             | 12.8 MB   | ####2      |  42% \u001b[A\u001b[A\n",
      "\n",
      "\n",
      "\n",
      "\n",
      "\n",
      "qttools-6.7.2        | 9.3 MB    | 4          |   5% \u001b[A\u001b[A\u001b[A\u001b[A\u001b[A\n",
      "\n",
      "\n",
      "\n",
      "matplotlib-base-3.10 | 10.1 MB   | #######1   |  71% \u001b[A\u001b[A\u001b[A\n",
      "\n",
      "qtdeclarative-6.7.2  | 20.9 MB   | ####       |  41% \u001b[A\n",
      "\n",
      "\n",
      "icu-73.2             | 12.8 MB   | ####4      |  45% \u001b[A\u001b[A\n",
      "\n",
      "\n",
      "\n",
      "\n",
      "\n",
      "qttools-6.7.2        | 9.3 MB    | 7          |   7% \u001b[A\u001b[A\u001b[A\u001b[A\u001b[A\n",
      "\n",
      "\n",
      "\n",
      "matplotlib-base-3.10 | 10.1 MB   | #######3   |  73% \u001b[A\u001b[A\u001b[A\n",
      "\n",
      "\n",
      "icu-73.2             | 12.8 MB   | ####6      |  46% \u001b[A\u001b[A\n",
      "qtbase-6.7.2         | 32.5 MB   | #9         |  20% \n",
      "\n",
      "\n",
      "\n",
      "\n",
      "\n",
      "qttools-6.7.2        | 9.3 MB    | #          |  10% \u001b[A\u001b[A\u001b[A\u001b[A\u001b[A\n",
      "\n",
      "qtdeclarative-6.7.2  | 20.9 MB   | ####2      |  42% \u001b[A\n",
      "\n",
      "\n",
      "icu-73.2             | 12.8 MB   | ####8      |  48% \u001b[A\u001b[A\n",
      "\n",
      "\n",
      "\n",
      "\n",
      "\n",
      "qttools-6.7.2        | 9.3 MB    | #2         |  12% \u001b[A\u001b[A\u001b[A\u001b[A\u001b[A\n",
      "qtbase-6.7.2         | 32.5 MB   | ##         |  20% \n",
      "\n",
      "\n",
      "\n",
      "matplotlib-base-3.10 | 10.1 MB   | #######5   |  76% \u001b[A\u001b[A\u001b[A\n",
      "\n",
      "qtdeclarative-6.7.2  | 20.9 MB   | ####3      |  43% \u001b[A\n",
      "\n",
      "\n",
      "icu-73.2             | 12.8 MB   | ####9      |  50% \u001b[A\u001b[A\n",
      "\n",
      "\n",
      "\n",
      "matplotlib-base-3.10 | 10.1 MB   | #######7   |  77% \u001b[A\u001b[A\u001b[A\n",
      "\n",
      "\n",
      "\n",
      "\n",
      "\n",
      "qttools-6.7.2        | 9.3 MB    | #4         |  15% \u001b[A\u001b[A\u001b[A\u001b[A\u001b[A\n",
      "\n",
      "\n",
      "icu-73.2             | 12.8 MB   | #####1     |  51% \u001b[A\u001b[A\n",
      "\n",
      "\n",
      "\n",
      "matplotlib-base-3.10 | 10.1 MB   | #######9   |  79% \u001b[A\u001b[A\u001b[A\n",
      "qtbase-6.7.2         | 32.5 MB   | ##         |  21% \n",
      "\n",
      "qtdeclarative-6.7.2  | 20.9 MB   | ####4      |  44% \u001b[A\n",
      "\n",
      "\n",
      "\n",
      "\n",
      "\n",
      "qttools-6.7.2        | 9.3 MB    | #8         |  18% \u001b[A\u001b[A\u001b[A\u001b[A\u001b[A\n",
      "\n",
      "\n",
      "icu-73.2             | 12.8 MB   | #####3     |  53% \u001b[A\u001b[A\n",
      "\n",
      "qtdeclarative-6.7.2  | 20.9 MB   | ####5      |  45% \u001b[A\n",
      "\n",
      "\n",
      "icu-73.2             | 12.8 MB   | #####4     |  55% \u001b[A\u001b[A\n",
      "\n",
      "\n",
      "\n",
      "matplotlib-base-3.10 | 10.1 MB   | ########   |  81% \u001b[A\u001b[A\u001b[A\n",
      "\n",
      "\n",
      "\n",
      "\n",
      "\n",
      "qttools-6.7.2        | 9.3 MB    | ##         |  20% \u001b[A\u001b[A\u001b[A\u001b[A\u001b[A\n",
      "qtbase-6.7.2         | 32.5 MB   | ##1        |  21% \n",
      "\n",
      "\n",
      "icu-73.2             | 12.8 MB   | #####6     |  56% \u001b[A\u001b[A\n",
      "\n",
      "\n",
      "\n",
      "\n",
      "\n",
      "qttools-6.7.2        | 9.3 MB    | ##3        |  24% \u001b[A\u001b[A\u001b[A\u001b[A\u001b[A\n",
      "\n",
      "qtdeclarative-6.7.2  | 20.9 MB   | ####6      |  46% \u001b[A\n",
      "\n",
      "\n",
      "\n",
      "matplotlib-base-3.10 | 10.1 MB   | ########2  |  82% \u001b[A\u001b[A\u001b[A\n",
      "qtbase-6.7.2         | 32.5 MB   | ##2        |  22% \n",
      "\n",
      "\n",
      "icu-73.2             | 12.8 MB   | #####9     |  59% \u001b[A\u001b[A\n",
      "\n",
      "qtdeclarative-6.7.2  | 20.9 MB   | ####7      |  48% \u001b[A\n",
      "\n",
      "\n",
      "\n",
      "\n",
      "\n",
      "qttools-6.7.2        | 9.3 MB    | ##5        |  26% \u001b[A\u001b[A\u001b[A\u001b[A\u001b[A\n",
      "\n",
      "\n",
      "\n",
      "matplotlib-base-3.10 | 10.1 MB   | ########5  |  85% \u001b[A\u001b[A\u001b[A\n",
      "qtbase-6.7.2         | 32.5 MB   | ##2        |  22% \n",
      "\n",
      "\n",
      "icu-73.2             | 12.8 MB   | ######     |  61% \u001b[A\u001b[A\n",
      "\n",
      "qtdeclarative-6.7.2  | 20.9 MB   | ####8      |  49% \u001b[A\n",
      "\n",
      "\n",
      "\n",
      "matplotlib-base-3.10 | 10.1 MB   | ########7  |  88% \u001b[A\u001b[A\u001b[A\n",
      "\n",
      "\n",
      "\n",
      "\n",
      "\n",
      "qttools-6.7.2        | 9.3 MB    | ##7        |  27% \u001b[A\u001b[A\u001b[A\u001b[A\u001b[A\n",
      "qtbase-6.7.2         | 32.5 MB   | ##2        |  23% \n",
      "\n",
      "qtdeclarative-6.7.2  | 20.9 MB   | ####9      |  50% \u001b[A\n",
      "\n",
      "\n",
      "icu-73.2             | 12.8 MB   | ######3    |  63% \u001b[A\u001b[A\n",
      "\n",
      "\n",
      "\n",
      "matplotlib-base-3.10 | 10.1 MB   | ########9  |  89% \u001b[A\u001b[A\u001b[A\n",
      "qtbase-6.7.2         | 32.5 MB   | ##3        |  23% \n",
      "\n",
      "\n",
      "\n",
      "\n",
      "\n",
      "qttools-6.7.2        | 9.3 MB    | ###3       |  33% \u001b[A\u001b[A\u001b[A\u001b[A\u001b[A\n",
      "\n",
      "\n",
      "icu-73.2             | 12.8 MB   | ######5    |  65% \u001b[A\u001b[A\n",
      "\n",
      "qtdeclarative-6.7.2  | 20.9 MB   | #####1     |  51% \u001b[A\n",
      "\n",
      "\n",
      "\n",
      "\n",
      "\n",
      "qttools-6.7.2        | 9.3 MB    | ###5       |  36% \u001b[A\u001b[A\u001b[A\u001b[A\u001b[A\n",
      "\n",
      "\n",
      "\n",
      "matplotlib-base-3.10 | 10.1 MB   | #########  |  91% \u001b[A\u001b[A\u001b[A\n",
      "qtbase-6.7.2         | 32.5 MB   | ##3        |  24% \n",
      "\n",
      "\n",
      "icu-73.2             | 12.8 MB   | ######7    |  67% \u001b[A\u001b[A\n",
      "\n",
      "qtdeclarative-6.7.2  | 20.9 MB   | #####2     |  52% \u001b[A\n",
      "\n",
      "\n",
      "\n",
      "matplotlib-base-3.10 | 10.1 MB   | #########3 |  94% \u001b[A\u001b[A\u001b[A\n",
      "\n",
      "\n",
      "\n",
      "\n",
      "\n",
      "qttools-6.7.2        | 9.3 MB    | ###8       |  38% \u001b[A\u001b[A\u001b[A\u001b[A\u001b[A\n",
      "\n",
      "\n",
      "\n",
      "\n",
      "\n",
      "qttools-6.7.2        | 9.3 MB    | ####       |  41% \u001b[A\u001b[A\u001b[A\u001b[A\u001b[A\n",
      "qtbase-6.7.2         | 32.5 MB   | ##4        |  24% \n",
      "\n",
      "qtdeclarative-6.7.2  | 20.9 MB   | #####3     |  54% \u001b[A\n",
      "\n",
      "\n",
      "icu-73.2             | 12.8 MB   | ######8    |  68% \u001b[A\u001b[A\n",
      "\n",
      "\n",
      "\n",
      "matplotlib-base-3.10 | 10.1 MB   | #########5 |  95% \u001b[A\u001b[A\u001b[A\n",
      "\n",
      "qtdeclarative-6.7.2  | 20.9 MB   | #####5     |  55% \u001b[A\n",
      "\n",
      "\n",
      "icu-73.2             | 12.8 MB   | ######9    |  70% \u001b[A\u001b[A\n",
      "\n",
      "\n",
      "\n",
      "\n",
      "\n",
      "qttools-6.7.2        | 9.3 MB    | ####3      |  43% \u001b[A\u001b[A\u001b[A\u001b[A\u001b[A\n",
      "qtbase-6.7.2         | 32.5 MB   | ##4        |  25% \n",
      "\n",
      "\n",
      "\n",
      "matplotlib-base-3.10 | 10.1 MB   | #########9 |  99% \u001b[A\u001b[A\u001b[A\n",
      "\n",
      "\n",
      "icu-73.2             | 12.8 MB   | #######2   |  72% \u001b[A\u001b[A\n",
      "qtbase-6.7.2         | 32.5 MB   | ##5        |  25% \n",
      "\n",
      "\n",
      "\n",
      "matplotlib-base-3.10 | 10.1 MB   | ########## | 100% \u001b[A\u001b[A\u001b[A\n",
      "\n",
      "qtdeclarative-6.7.2  | 20.9 MB   | #####7     |  57% \u001b[A\n",
      "\n",
      "\n",
      "\n",
      "\n",
      "\n",
      "qttools-6.7.2        | 9.3 MB    | ####6      |  46% \u001b[A\u001b[A\u001b[A\u001b[A\u001b[A\n",
      "\n",
      "qtdeclarative-6.7.2  | 20.9 MB   | #####8     |  59% \u001b[A\n",
      "\n",
      "\n",
      "\n",
      "\n",
      "\n",
      "qttools-6.7.2        | 9.3 MB    | #####      |  50% \u001b[A\u001b[A\u001b[A\u001b[A\u001b[A\n",
      "\n",
      "\n",
      "icu-73.2             | 12.8 MB   | #######3   |  74% \u001b[A\u001b[A\n",
      "qtbase-6.7.2         | 32.5 MB   | ##5        |  26% \n",
      "\n",
      "\n",
      "\n",
      "\n",
      "\n",
      "\n",
      "libpq-17.0           | 3.8 MB    |            |   0% \u001b[A\u001b[A\u001b[A\u001b[A\u001b[A\u001b[A\n",
      "\n",
      "qtdeclarative-6.7.2  | 20.9 MB   | ######     |  60% \u001b[A\n",
      "qtbase-6.7.2         | 32.5 MB   | ##5        |  26% \n",
      "\n",
      "\n",
      "\n",
      "\n",
      "\n",
      "qttools-6.7.2        | 9.3 MB    | #####2     |  53% \u001b[A\u001b[A\u001b[A\u001b[A\u001b[A\n",
      "\n",
      "\n",
      "icu-73.2             | 12.8 MB   | #######5   |  75% \u001b[A\u001b[A\n",
      "\n",
      "\n",
      "\n",
      "\n",
      "\n",
      "\n",
      "libpq-17.0           | 3.8 MB    | 4          |   4% \u001b[A\u001b[A\u001b[A\u001b[A\u001b[A\u001b[A\n",
      "\n",
      "\n",
      "\n",
      "\n",
      "\n",
      "qttools-6.7.2        | 9.3 MB    | #####5     |  55% \u001b[A\u001b[A\u001b[A\u001b[A\u001b[A\n",
      "\n",
      "qtdeclarative-6.7.2  | 20.9 MB   | ######1    |  62% \u001b[A\n",
      "\n",
      "\n",
      "icu-73.2             | 12.8 MB   | #######6   |  77% \u001b[A\u001b[A\n",
      "qtbase-6.7.2         | 32.5 MB   | ##6        |  26% \n",
      "\n",
      "\n",
      "\n",
      "\n",
      "\n",
      "\n",
      "libpq-17.0           | 3.8 MB    | 6          |   7% \u001b[A\u001b[A\u001b[A\u001b[A\u001b[A\u001b[A\n",
      "\n",
      "qtdeclarative-6.7.2  | 20.9 MB   | ######3    |  64% \u001b[A\n",
      "\n",
      "\n",
      "icu-73.2             | 12.8 MB   | #######7   |  78% \u001b[A\u001b[A\n",
      "\n",
      "\n",
      "\n",
      "\n",
      "\n",
      "qttools-6.7.2        | 9.3 MB    | #####7     |  58% \u001b[A\u001b[A\u001b[A\u001b[A\u001b[A\n",
      "qtbase-6.7.2         | 32.5 MB   | ##6        |  27% \n",
      "\n",
      "\n",
      "\n",
      "\n",
      "\n",
      "\n",
      "libpq-17.0           | 3.8 MB    | 9          |   9% \u001b[A\u001b[A\u001b[A\u001b[A\u001b[A\u001b[A\n",
      "\n",
      "\n",
      "icu-73.2             | 12.8 MB   | #######8   |  79% \u001b[A\u001b[A\n",
      "\n",
      "\n",
      "\n",
      "\n",
      "\n",
      "qttools-6.7.2        | 9.3 MB    | ######     |  60% \u001b[A\u001b[A\u001b[A\u001b[A\u001b[A\n",
      "\n",
      "qtdeclarative-6.7.2  | 20.9 MB   | ######4    |  65% \u001b[A\n",
      "qtbase-6.7.2         | 32.5 MB   | ##7        |  27% \n",
      "\n",
      "\n",
      "\n",
      "\n",
      "\n",
      "\n",
      "libpq-17.0           | 3.8 MB    | #2         |  13% \u001b[A\u001b[A\u001b[A\u001b[A\u001b[A\u001b[A\n",
      "\n",
      "qtdeclarative-6.7.2  | 20.9 MB   | ######6    |  66% \u001b[A\n",
      "\n",
      "\n",
      "icu-73.2             | 12.8 MB   | ########   |  80% \u001b[A\u001b[A\n",
      "\n",
      "\n",
      "\n",
      "\n",
      "\n",
      "qttools-6.7.2        | 9.3 MB    | ######2    |  62% \u001b[A\u001b[A\u001b[A\u001b[A\u001b[A\n",
      "qtbase-6.7.2         | 32.5 MB   | ##7        |  27% \n",
      "\n",
      "\n",
      "\n",
      "\n",
      "\n",
      "\n",
      "libpq-17.0           | 3.8 MB    | #5         |  16% \u001b[A\u001b[A\u001b[A\u001b[A\u001b[A\u001b[A\n",
      "\n",
      "qtdeclarative-6.7.2  | 20.9 MB   | ######7    |  68% \u001b[A\n",
      "\n",
      "\n",
      "\n",
      "\n",
      "\n",
      "qttools-6.7.2        | 9.3 MB    | ######5    |  65% \u001b[A\u001b[A\u001b[A\u001b[A\u001b[A\n",
      "\n",
      "\n",
      "icu-73.2             | 12.8 MB   | ########1  |  81% \u001b[A\u001b[A\n",
      "\n",
      "\n",
      "\n",
      "\n",
      "\n",
      "\n",
      "libpq-17.0           | 3.8 MB    | #8         |  19% \u001b[A\u001b[A\u001b[A\u001b[A\u001b[A\u001b[A\n",
      "qtbase-6.7.2         | 32.5 MB   | ##7        |  28% \n",
      "\n",
      "qtdeclarative-6.7.2  | 20.9 MB   | ######9    |  69% \u001b[A\n",
      "\n",
      "\n",
      "icu-73.2             | 12.8 MB   | ########2  |  83% \u001b[A\u001b[A\n",
      "\n",
      "\n",
      "\n",
      "\n",
      "\n",
      "qttools-6.7.2        | 9.3 MB    | ######7    |  68% \u001b[A\u001b[A\u001b[A\u001b[A\u001b[A\n",
      "\n",
      "\n",
      "\n",
      "\n",
      "\n",
      "\n",
      "libpq-17.0           | 3.8 MB    | ##2        |  22% \u001b[A\u001b[A\u001b[A\u001b[A\u001b[A\u001b[A\n",
      "\n",
      "qtdeclarative-6.7.2  | 20.9 MB   | #######    |  70% \u001b[A\n",
      "\n",
      "\n",
      "icu-73.2             | 12.8 MB   | ########3  |  84% \u001b[A\u001b[A\n",
      "qtbase-6.7.2         | 32.5 MB   | ##8        |  28% \n",
      "\n",
      "\n",
      "\n",
      "\n",
      "\n",
      "qttools-6.7.2        | 9.3 MB    | #######    |  71% \u001b[A\u001b[A\u001b[A\u001b[A\u001b[A\n",
      "\n",
      "\n",
      "\n",
      "\n",
      "\n",
      "\n",
      "libpq-17.0           | 3.8 MB    | ##5        |  25% \u001b[A\u001b[A\u001b[A\u001b[A\u001b[A\u001b[A\n",
      "\n",
      "\n",
      "icu-73.2             | 12.8 MB   | ########4  |  85% \u001b[A\u001b[A\n",
      "qtbase-6.7.2         | 32.5 MB   | ##8        |  28% \n",
      "\n",
      "qtdeclarative-6.7.2  | 20.9 MB   | #######1   |  72% \u001b[A\n",
      "\n",
      "\n",
      "\n",
      "\n",
      "\n",
      "qttools-6.7.2        | 9.3 MB    | #######2   |  73% \u001b[A\u001b[A\u001b[A\u001b[A\u001b[A\n",
      "\n",
      "\n",
      "icu-73.2             | 12.8 MB   | ########5  |  86% \u001b[A\u001b[A\n",
      "qtbase-6.7.2         | 32.5 MB   | ##8        |  29% \n",
      "\n",
      "qtdeclarative-6.7.2  | 20.9 MB   | #######2   |  73% \u001b[A\n",
      "\n",
      "\n",
      "\n",
      "\n",
      "\n",
      "\n",
      "libpq-17.0           | 3.8 MB    | ##7        |  28% \u001b[A\u001b[A\u001b[A\u001b[A\u001b[A\u001b[A\n",
      "\n",
      "\n",
      "\n",
      "\n",
      "\n",
      "qttools-6.7.2        | 9.3 MB    | #######5   |  75% \u001b[A\u001b[A\u001b[A\u001b[A\u001b[A\n",
      "\n",
      "\n",
      "icu-73.2             | 12.8 MB   | ########7  |  87% \u001b[A\u001b[A\n",
      "qtbase-6.7.2         | 32.5 MB   | ##9        |  29% \n",
      "\n",
      "qtdeclarative-6.7.2  | 20.9 MB   | #######4   |  74% \u001b[A\n",
      "\n",
      "\n",
      "\n",
      "\n",
      "\n",
      "\n",
      "libpq-17.0           | 3.8 MB    | ###2       |  33% \u001b[A\u001b[A\u001b[A\u001b[A\u001b[A\u001b[A\n",
      "\n",
      "\n",
      "\n",
      "\n",
      "\n",
      "qttools-6.7.2        | 9.3 MB    | #######8   |  78% \u001b[A\u001b[A\u001b[A\u001b[A\u001b[A\n",
      "\n",
      "\n",
      "icu-73.2             | 12.8 MB   | ########8  |  88% \u001b[A\u001b[A\n",
      "\n",
      "\n",
      "\n",
      "\n",
      "\n",
      "\n",
      "libpq-17.0           | 3.8 MB    | ###5       |  36% \u001b[A\u001b[A\u001b[A\u001b[A\u001b[A\u001b[A\n",
      "\n",
      "qtdeclarative-6.7.2  | 20.9 MB   | #######5   |  75% \u001b[A\n",
      "qtbase-6.7.2         | 32.5 MB   | ##9        |  30% \n",
      "\n",
      "\n",
      "\n",
      "\n",
      "\n",
      "qttools-6.7.2        | 9.3 MB    | ########   |  81% \u001b[A\u001b[A\u001b[A\u001b[A\u001b[A\n",
      "\n",
      "qtdeclarative-6.7.2  | 20.9 MB   | #######6   |  77% \u001b[A\n",
      "\n",
      "\n",
      "\n",
      "\n",
      "numpy-base-2.0.1     | 9.6 MB    | ########## | 100% \u001b[A\u001b[A\u001b[A\u001b[A\n",
      "\n",
      "\n",
      "\n",
      "\n",
      "\n",
      "qttools-6.7.2        | 9.3 MB    | ########2  |  83% \u001b[A\u001b[A\u001b[A\u001b[A\u001b[A\n",
      "\n",
      "\n",
      "icu-73.2             | 12.8 MB   | ########9  |  90% \u001b[A\u001b[A\n",
      "qtbase-6.7.2         | 32.5 MB   | ##9        |  30% \n",
      "\n",
      "\n",
      "\n",
      "\n",
      "\n",
      "\n",
      "libpq-17.0           | 3.8 MB    | ###8       |  39% \u001b[A\u001b[A\u001b[A\u001b[A\u001b[A\u001b[A\n",
      "\n",
      "\n",
      "icu-73.2             | 12.8 MB   | #########  |  91% \u001b[A\u001b[A\n",
      "\n",
      "qtdeclarative-6.7.2  | 20.9 MB   | #######7   |  77% \u001b[A\n",
      "\n",
      "\n",
      "\n",
      "\n",
      "\n",
      "qttools-6.7.2        | 9.3 MB    | ########4  |  85% \u001b[A\u001b[A\u001b[A\u001b[A\u001b[A\n",
      "qtbase-6.7.2         | 32.5 MB   | ###        |  30% \n",
      "\n",
      "\n",
      "\n",
      "\n",
      "\n",
      "\n",
      "libpq-17.0           | 3.8 MB    | ####2      |  43% \u001b[A\u001b[A\u001b[A\u001b[A\u001b[A\u001b[A\n",
      "\n",
      "\n",
      "icu-73.2             | 12.8 MB   | #########2 |  92% \u001b[A\u001b[A\n",
      "\n",
      "\n",
      "\n",
      "\n",
      "\n",
      "\n",
      "libpq-17.0           | 3.8 MB    | ####5      |  45% \u001b[A\u001b[A\u001b[A\u001b[A\u001b[A\u001b[A\n",
      "qtbase-6.7.2         | 32.5 MB   | ###        |  31% \n",
      "\n",
      "qtdeclarative-6.7.2  | 20.9 MB   | #######9   |  80% \u001b[A\n",
      "\n",
      "\n",
      "\n",
      "\n",
      "\n",
      "qttools-6.7.2        | 9.3 MB    | ########9  |  90% \u001b[A\u001b[A\u001b[A\u001b[A\u001b[A\n",
      "\n",
      "\n",
      "\n",
      "\n",
      "\n",
      "qttools-6.7.2        | 9.3 MB    | #########1 |  92% \u001b[A\u001b[A\u001b[A\u001b[A\u001b[A\n",
      "qtbase-6.7.2         | 32.5 MB   | ###        |  31% \n",
      "\n",
      "\n",
      "\n",
      "\n",
      "\n",
      "\n",
      "libpq-17.0           | 3.8 MB    | ####8      |  48% \u001b[A\u001b[A\u001b[A\u001b[A\u001b[A\u001b[A\n",
      "\n",
      "\n",
      "icu-73.2             | 12.8 MB   | #########3 |  93% \u001b[A\u001b[A\n",
      "\n",
      "qtdeclarative-6.7.2  | 20.9 MB   | ########   |  81% \u001b[A\n",
      "\n",
      "\n",
      "\n",
      "\n",
      "\n",
      "\n",
      "libpq-17.0           | 3.8 MB    | #####      |  50% \u001b[A\u001b[A\u001b[A\u001b[A\u001b[A\u001b[A\n",
      "\n",
      "\n",
      "\n",
      "\n",
      "\n",
      "qttools-6.7.2        | 9.3 MB    | #########4 |  94% \u001b[A\u001b[A\u001b[A\u001b[A\u001b[A\n",
      "\n",
      "\n",
      "icu-73.2             | 12.8 MB   | #########4 |  94% \u001b[A\u001b[A\n",
      "\n",
      "qtdeclarative-6.7.2  | 20.9 MB   | ########1  |  81% \u001b[A\n",
      "qtbase-6.7.2         | 32.5 MB   | ###1       |  31% \n",
      "\n",
      "\n",
      "\n",
      "\n",
      "\n",
      "\n",
      "libpq-17.0           | 3.8 MB    | #####2     |  53% \u001b[A\u001b[A\u001b[A\u001b[A\u001b[A\u001b[A\n",
      "\n",
      "\n",
      "icu-73.2             | 12.8 MB   | #########4 |  95% \u001b[A\u001b[A\n",
      "\n",
      "\n",
      "\n",
      "\n",
      "\n",
      "qttools-6.7.2        | 9.3 MB    | #########6 |  96% \u001b[A\u001b[A\u001b[A\u001b[A\u001b[A\n",
      "qtbase-6.7.2         | 32.5 MB   | ###1       |  31% \n",
      "\n",
      "qtdeclarative-6.7.2  | 20.9 MB   | ########2  |  82% \u001b[A\n",
      "\n",
      "\n",
      "icu-73.2             | 12.8 MB   | #########5 |  96% \u001b[A\u001b[A\n",
      "\n",
      "\n",
      "\n",
      "\n",
      "\n",
      "\n",
      "libpq-17.0           | 3.8 MB    | #####4     |  55% \u001b[A\u001b[A\u001b[A\u001b[A\u001b[A\u001b[A\n",
      "\n",
      "\n",
      "\n",
      "\n",
      "\n",
      "qttools-6.7.2        | 9.3 MB    | #########7 |  98% \u001b[A\u001b[A\u001b[A\u001b[A\u001b[A\n",
      "\n",
      "\n",
      "\n",
      "matplotlib-base-3.10 | 10.1 MB   | ########## | 100% \u001b[A\u001b[A\u001b[A\n",
      "\n",
      "qtdeclarative-6.7.2  | 20.9 MB   | ########3  |  83% \u001b[A\n",
      "qtbase-6.7.2         | 32.5 MB   | ###1       |  32% \n",
      "\n",
      "\n",
      "\n",
      "\n",
      "\n",
      "qttools-6.7.2        | 9.3 MB    | ########## | 100% \u001b[A\u001b[A\u001b[A\u001b[A\u001b[A\n",
      "\n",
      "\n",
      "\n",
      "\n",
      "\n",
      "\n",
      "libpq-17.0           | 3.8 MB    | #####9     |  59% \u001b[A\u001b[A\u001b[A\u001b[A\u001b[A\u001b[A\n",
      "\n",
      "\n",
      "icu-73.2             | 12.8 MB   | #########7 |  97% \u001b[A\u001b[A\n",
      "\n",
      "qtdeclarative-6.7.2  | 20.9 MB   | ########4  |  84% \u001b[A\n",
      "qtbase-6.7.2         | 32.5 MB   | ###2       |  32% \n",
      "\n",
      "qtdeclarative-6.7.2  | 20.9 MB   | ########4  |  85% \u001b[A\n",
      "qtbase-6.7.2         | 32.5 MB   | ###2       |  32% \n",
      "\n",
      "\n",
      "icu-73.2             | 12.8 MB   | #########9 |  99% \u001b[A\u001b[A\n",
      "\n",
      "\n",
      "\n",
      "\n",
      "\n",
      "\n",
      "libpq-17.0           | 3.8 MB    | ######3    |  64% \u001b[A\u001b[A\u001b[A\u001b[A\u001b[A\u001b[A\n",
      "\n",
      "\n",
      "\n",
      "\n",
      "\n",
      "\n",
      "\n",
      "pyqt-6.7.1           | 3.5 MB    |            |   0% \u001b[A\u001b[A\u001b[A\u001b[A\u001b[A\u001b[A\u001b[A\n",
      "\n",
      "\n",
      "icu-73.2             | 12.8 MB   | ########## | 100% \u001b[A\u001b[A\n",
      "\n",
      "qtdeclarative-6.7.2  | 20.9 MB   | ########6  |  86% \u001b[A\n",
      "qtbase-6.7.2         | 32.5 MB   | ###2       |  33% \n",
      "\n",
      "\n",
      "\n",
      "\n",
      "\n",
      "\n",
      "\n",
      "pyqt-6.7.1           | 3.5 MB    | 9          |   9% \u001b[A\u001b[A\u001b[A\u001b[A\u001b[A\u001b[A\u001b[A\n",
      "\n",
      "\n",
      "\n",
      "\n",
      "\n",
      "\n",
      "libpq-17.0           | 3.8 MB    | ######8    |  69% \u001b[A\u001b[A\u001b[A\u001b[A\u001b[A\u001b[A\n",
      "\n",
      "\n",
      "\n",
      "\n",
      "\n",
      "\n",
      "libpq-17.0           | 3.8 MB    | #######3   |  73% \u001b[A\u001b[A\u001b[A\u001b[A\u001b[A\u001b[A\n",
      "\n",
      "\n",
      "\n",
      "\n",
      "\n",
      "\n",
      "\n",
      "pyqt-6.7.1           | 3.5 MB    | #6         |  16% \u001b[A\u001b[A\u001b[A\u001b[A\u001b[A\u001b[A\u001b[A\n",
      "\n",
      "qtdeclarative-6.7.2  | 20.9 MB   | ########7  |  88% \u001b[A\n",
      "qtbase-6.7.2         | 32.5 MB   | ###3       |  33% \n",
      "\n",
      "qtdeclarative-6.7.2  | 20.9 MB   | ########9  |  89% \u001b[A\n",
      "\n",
      "\n",
      "\n",
      "\n",
      "\n",
      "\n",
      "libpq-17.0           | 3.8 MB    | #######8   |  78% \u001b[A\u001b[A\u001b[A\u001b[A\u001b[A\u001b[A\n",
      "\n",
      "\n",
      "\n",
      "\n",
      "\n",
      "\n",
      "\n",
      "pyqt-6.7.1           | 3.5 MB    | ##4        |  25% \u001b[A\u001b[A\u001b[A\u001b[A\u001b[A\u001b[A\u001b[A\n",
      "qtbase-6.7.2         | 32.5 MB   | ###3       |  34% \n",
      "\n",
      "\n",
      "\n",
      "\n",
      "\n",
      "\n",
      "\n",
      "\n",
      "fonttools-4.55.3     | 2.7 MB    |            |   1% \u001b[A\u001b[A\u001b[A\u001b[A\u001b[A\u001b[A\u001b[A\u001b[A\n",
      "\n",
      "qtdeclarative-6.7.2  | 20.9 MB   | #########  |  90% \u001b[A\n",
      "\n",
      "\n",
      "\n",
      "\n",
      "\n",
      "\n",
      "\n",
      "\n",
      "fonttools-4.55.3     | 2.7 MB    | 2          |   2% \u001b[A\u001b[A\u001b[A\u001b[A\u001b[A\u001b[A\u001b[A\u001b[A\n",
      "qtbase-6.7.2         | 32.5 MB   | ###4       |  34% \n",
      "\n",
      "\n",
      "\n",
      "\n",
      "\n",
      "\n",
      "\n",
      "pyqt-6.7.1           | 3.5 MB    | ###2       |  33% \u001b[A\u001b[A\u001b[A\u001b[A\u001b[A\u001b[A\u001b[A\n",
      "\n",
      "\n",
      "\n",
      "\n",
      "\n",
      "\n",
      "libpq-17.0           | 3.8 MB    | ########2  |  83% \u001b[A\u001b[A\u001b[A\u001b[A\u001b[A\u001b[A\n",
      "\n",
      "\n",
      "\n",
      "\n",
      "\n",
      "qttools-6.7.2        | 9.3 MB    | ########## | 100% \u001b[A\u001b[A\u001b[A\u001b[A\u001b[A\n",
      "\n",
      "\n",
      "\n",
      "\n",
      "\n",
      "qttools-6.7.2        | 9.3 MB    | ########## | 100% \u001b[A\u001b[A\u001b[A\u001b[A\u001b[A\n",
      "\n",
      "\n",
      "\n",
      "\n",
      "\n",
      "\n",
      "\n",
      "pyqt-6.7.1           | 3.5 MB    | ####       |  41% \u001b[A\u001b[A\u001b[A\u001b[A\u001b[A\u001b[A\u001b[A\n",
      "\n",
      "qtdeclarative-6.7.2  | 20.9 MB   | #########2 |  92% \u001b[A\n",
      "\n",
      "\n",
      "\n",
      "\n",
      "\n",
      "\n",
      "\n",
      "\n",
      "fonttools-4.55.3     | 2.7 MB    | 8          |   9% \u001b[A\u001b[A\u001b[A\u001b[A\u001b[A\u001b[A\u001b[A\u001b[A\n",
      "\n",
      "\n",
      "\n",
      "\n",
      "\n",
      "\n",
      "libpq-17.0           | 3.8 MB    | ########7  |  88% \u001b[A\u001b[A\u001b[A\u001b[A\u001b[A\u001b[A\n",
      "qtbase-6.7.2         | 32.5 MB   | ###4       |  35% \n",
      "\n",
      "\n",
      "\n",
      "\n",
      "\n",
      "\n",
      "\n",
      "\n",
      "fonttools-4.55.3     | 2.7 MB    | ##2        |  23% \u001b[A\u001b[A\u001b[A\u001b[A\u001b[A\u001b[A\u001b[A\u001b[A\n",
      "\n",
      "qtdeclarative-6.7.2  | 20.9 MB   | #########3 |  94% \u001b[A\n",
      "qtbase-6.7.2         | 32.5 MB   | ###5       |  35% \n",
      "\n",
      "\n",
      "\n",
      "\n",
      "\n",
      "\n",
      "\n",
      "pyqt-6.7.1           | 3.5 MB    | ####9      |  50% \u001b[A\u001b[A\u001b[A\u001b[A\u001b[A\u001b[A\u001b[A\n",
      "\n",
      "\n",
      "\n",
      "\n",
      "\n",
      "\n",
      "libpq-17.0           | 3.8 MB    | #########2 |  93% \u001b[A\u001b[A\u001b[A\u001b[A\u001b[A\u001b[A\n",
      "\n",
      "\n",
      "\n",
      "\n",
      "\n",
      "\n",
      "\n",
      "\n",
      "fonttools-4.55.3     | 2.7 MB    | #####3     |  54% \u001b[A\u001b[A\u001b[A\u001b[A\u001b[A\u001b[A\u001b[A\u001b[A\n",
      "\n",
      "qtdeclarative-6.7.2  | 20.9 MB   | #########4 |  94% \u001b[A\n",
      "qtbase-6.7.2         | 32.5 MB   | ###5       |  36% \n",
      "\n",
      "\n",
      "\n",
      "\n",
      "\n",
      "\n",
      "\n",
      "pyqt-6.7.1           | 3.5 MB    | #####5     |  55% \u001b[A\u001b[A\u001b[A\u001b[A\u001b[A\u001b[A\u001b[A\n",
      "\n",
      "\n",
      "\n",
      "\n",
      "\n",
      "\n",
      "libpq-17.0           | 3.8 MB    | #########6 |  97% \u001b[A\u001b[A\u001b[A\u001b[A\u001b[A\u001b[A\n",
      "\n",
      "\n",
      "icu-73.2             | 12.8 MB   | ########## | 100% \u001b[A\u001b[A\n",
      "\n",
      "\n",
      "\n",
      "\n",
      "\n",
      "\n",
      "\n",
      "\n",
      "fonttools-4.55.3     | 2.7 MB    | #######9   |  79% \u001b[A\u001b[A\u001b[A\u001b[A\u001b[A\u001b[A\u001b[A\u001b[A\n",
      "\n",
      "\n",
      "\n",
      "\n",
      "\n",
      "\n",
      "\n",
      "pyqt-6.7.1           | 3.5 MB    | #####9     |  60% \u001b[A\u001b[A\u001b[A\u001b[A\u001b[A\u001b[A\u001b[A\n",
      "qtbase-6.7.2         | 32.5 MB   | ###5       |  36% \n",
      "\n",
      "\n",
      "\n",
      "\n",
      "\n",
      "\n",
      "\n",
      "\n",
      "fonttools-4.55.3     | 2.7 MB    | ########## | 100% \u001b[A\u001b[A\u001b[A\u001b[A\u001b[A\u001b[A\u001b[A\u001b[A\n",
      "\n",
      "\n",
      "\n",
      "\n",
      "\n",
      "\n",
      "libpq-17.0           | 3.8 MB    | #########9 | 100% \u001b[A\u001b[A\u001b[A\u001b[A\u001b[A\u001b[A\n",
      "\n",
      "\n",
      "\n",
      "\n",
      "\n",
      "\n",
      "libpq-17.0           | 3.8 MB    | ########## | 100% \u001b[A\u001b[A\u001b[A\u001b[A\u001b[A\u001b[A\n",
      "\n",
      "\n",
      "\n",
      "\n",
      "\n",
      "\n",
      "\n",
      "\n",
      "\n",
      "libtiff-4.5.1        | 1.0 MB    | 1          |   2% \u001b[A\u001b[A\u001b[A\u001b[A\u001b[A\u001b[A\u001b[A\u001b[A\u001b[A\n",
      "\n",
      "\n",
      "\n",
      "\n",
      "\n",
      "\n",
      "\n",
      "pyqt-6.7.1           | 3.5 MB    | ######7    |  67% \u001b[A\u001b[A\u001b[A\u001b[A\u001b[A\u001b[A\u001b[A\n",
      "\n",
      "\n",
      "\n",
      "\n",
      "\n",
      "\n",
      "\n",
      "\n",
      "\n",
      "\n",
      "pillow-11.1.0        | 927 KB    | 1          |   2% \u001b[A\u001b[A\u001b[A\u001b[A\u001b[A\u001b[A\u001b[A\u001b[A\u001b[A\u001b[A\n",
      "qtbase-6.7.2         | 32.5 MB   | ###6       |  36% \n",
      "\n",
      "\n",
      "\n",
      "\n",
      "\n",
      "\n",
      "\n",
      "\n",
      "\n",
      "libtiff-4.5.1        | 1.0 MB    | ########8  |  88% \u001b[A\u001b[A\u001b[A\u001b[A\u001b[A\u001b[A\u001b[A\u001b[A\u001b[A\n",
      "\n",
      "\n",
      "\n",
      "\n",
      "\n",
      "\n",
      "\n",
      "pyqt-6.7.1           | 3.5 MB    | #######3   |  73% \u001b[A\u001b[A\u001b[A\u001b[A\u001b[A\u001b[A\u001b[A\n",
      "\n",
      "\n",
      "\n",
      "\n",
      "\n",
      "\n",
      "\n",
      "\n",
      "\n",
      "libtiff-4.5.1        | 1.0 MB    | ########## | 100% \u001b[A\u001b[A\u001b[A\u001b[A\u001b[A\u001b[A\u001b[A\u001b[A\u001b[A\n",
      "\n",
      "\n",
      "\n",
      "\n",
      "\n",
      "\n",
      "\n",
      "\n",
      "\n",
      "\n",
      "pillow-11.1.0        | 927 KB    | ##5        |  26% \u001b[A\u001b[A\u001b[A\u001b[A\u001b[A\u001b[A\u001b[A\u001b[A\u001b[A\u001b[A\n",
      "qtbase-6.7.2         | 32.5 MB   | ###6       |  37% \n",
      "\n",
      "qtdeclarative-6.7.2  | 20.9 MB   | #########5 |  95% \u001b[A\n",
      "\n",
      "\n",
      "\n",
      "\n",
      "\n",
      "\n",
      "\n",
      "\n",
      "\n",
      "\n",
      "\n",
      "sip-6.10.0           | 718 KB    | 2          |   2% \u001b[A\u001b[A\u001b[A\u001b[A\u001b[A\u001b[A\u001b[A\u001b[A\u001b[A\u001b[A\u001b[A\n",
      "\n",
      "\n",
      "\n",
      "\n",
      "\n",
      "\n",
      "\n",
      "pyqt-6.7.1           | 3.5 MB    | #######9   |  79% \u001b[A\u001b[A\u001b[A\u001b[A\u001b[A\u001b[A\u001b[A\n",
      "qtbase-6.7.2         | 32.5 MB   | ###7       |  37% \n",
      "\n",
      "\n",
      "\n",
      "\n",
      "\n",
      "\n",
      "\n",
      "\n",
      "\n",
      "\n",
      "pillow-11.1.0        | 927 KB    | ####8      |  48% \u001b[A\u001b[A\u001b[A\u001b[A\u001b[A\u001b[A\u001b[A\u001b[A\u001b[A\u001b[A\n",
      "\n",
      "qtdeclarative-6.7.2  | 20.9 MB   | #########6 |  96% \u001b[A\n",
      "\n",
      "\n",
      "\n",
      "\n",
      "\n",
      "\n",
      "\n",
      "\n",
      "\n",
      "\n",
      "\n",
      "sip-6.10.0           | 718 KB    | ########## | 100% \u001b[A\u001b[A\u001b[A\u001b[A\u001b[A\u001b[A\u001b[A\u001b[A\u001b[A\u001b[A\u001b[A\n",
      "\n",
      "\n",
      "\n",
      "\n",
      "\n",
      "\n",
      "\n",
      "\n",
      "\n",
      "\n",
      "\n",
      "sip-6.10.0           | 718 KB    | ########## | 100% \u001b[A\u001b[A\u001b[A\u001b[A\u001b[A\u001b[A\u001b[A\u001b[A\u001b[A\u001b[A\u001b[A\n",
      "\n",
      "\n",
      "\n",
      "\n",
      "\n",
      "\n",
      "\n",
      "pyqt-6.7.1           | 3.5 MB    | ########4  |  85% \u001b[A\u001b[A\u001b[A\u001b[A\u001b[A\u001b[A\u001b[A\n",
      "\n",
      "\n",
      "\n",
      "\n",
      "\n",
      "\n",
      "\n",
      "\n",
      "\n",
      "\n",
      "\n",
      "\n",
      "lcms2-2.16           | 566 KB    | 2          |   3% \u001b[A\u001b[A\u001b[A\u001b[A\u001b[A\u001b[A\u001b[A\u001b[A\u001b[A\u001b[A\u001b[A\u001b[A\n",
      "qtbase-6.7.2         | 32.5 MB   | ###7       |  38% \n",
      "\n",
      "\n",
      "\n",
      "\n",
      "\n",
      "\n",
      "\n",
      "\n",
      "\n",
      "\n",
      "pillow-11.1.0        | 927 KB    | #######2   |  73% \u001b[A\u001b[A\u001b[A\u001b[A\u001b[A\u001b[A\u001b[A\u001b[A\u001b[A\u001b[A\n",
      "\n",
      "qtdeclarative-6.7.2  | 20.9 MB   | #########7 |  97% \u001b[A\n",
      "\n",
      "\n",
      "\n",
      "\n",
      "\n",
      "\n",
      "\n",
      "\n",
      "\n",
      "\n",
      "\n",
      "\n",
      "lcms2-2.16           | 566 KB    | ########## | 100% \u001b[A\u001b[A\u001b[A\u001b[A\u001b[A\u001b[A\u001b[A\u001b[A\u001b[A\u001b[A\u001b[A\u001b[A\n",
      "\n",
      "\n",
      "\n",
      "\n",
      "\n",
      "\n",
      "\n",
      "pyqt-6.7.1           | 3.5 MB    | #########  |  91% \u001b[A\u001b[A\u001b[A\u001b[A\u001b[A\u001b[A\u001b[A\n",
      "\n",
      "qtdeclarative-6.7.2  | 20.9 MB   | #########8 |  99% \u001b[A\n",
      "\n",
      "\n",
      "\n",
      "\n",
      "\n",
      "\n",
      "\n",
      "\n",
      "\n",
      "\n",
      "pillow-11.1.0        | 927 KB    | #########8 |  98% \u001b[A\u001b[A\u001b[A\u001b[A\u001b[A\u001b[A\u001b[A\u001b[A\u001b[A\u001b[A\n",
      "qtbase-6.7.2         | 32.5 MB   | ###7       |  38% \n",
      "\n",
      "\n",
      "\n",
      "\n",
      "\n",
      "\n",
      "\n",
      "\n",
      "\n",
      "\n",
      "\n",
      "\n",
      "\n",
      "unicodedata2-15.1.0  | 525 KB    | 3          |   3% \u001b[A\u001b[A\u001b[A\u001b[A\u001b[A\u001b[A\u001b[A\u001b[A\u001b[A\u001b[A\u001b[A\u001b[A\u001b[A\n",
      "\n",
      "\n",
      "\n",
      "\n",
      "\n",
      "\n",
      "\n",
      "\n",
      "\n",
      "\n",
      "pillow-11.1.0        | 927 KB    | ########## | 100% \u001b[A\u001b[A\u001b[A\u001b[A\u001b[A\u001b[A\u001b[A\u001b[A\u001b[A\u001b[A\n",
      "\n",
      "\n",
      "\n",
      "\n",
      "\n",
      "\n",
      "\n",
      "pyqt-6.7.1           | 3.5 MB    | #########5 |  96% \u001b[A\u001b[A\u001b[A\u001b[A\u001b[A\u001b[A\u001b[A\n",
      "\n",
      "qtdeclarative-6.7.2  | 20.9 MB   | #########9 | 100% \u001b[A\n",
      "\n",
      "\n",
      "\n",
      "\n",
      "\n",
      "\n",
      "\n",
      "\n",
      "\n",
      "\n",
      "\n",
      "\n",
      "\n",
      "\n",
      "pyparsing-3.2.0      | 480 KB    | 3          |   3% \u001b[A\u001b[A\u001b[A\u001b[A\u001b[A\u001b[A\u001b[A\u001b[A\u001b[A\u001b[A\u001b[A\u001b[A\u001b[A\u001b[A\n",
      "\n",
      "\n",
      "\n",
      "\n",
      "\n",
      "\n",
      "\n",
      "\n",
      "\n",
      "\n",
      "\n",
      "\n",
      "\n",
      "unicodedata2-15.1.0  | 525 KB    | ########5  |  85% \u001b[A\u001b[A\u001b[A\u001b[A\u001b[A\u001b[A\u001b[A\u001b[A\u001b[A\u001b[A\u001b[A\u001b[A\u001b[A\n",
      "qtbase-6.7.2         | 32.5 MB   | ###8       |  38% \n",
      "\n",
      "\n",
      "\n",
      "\n",
      "\n",
      "\n",
      "\n",
      "\n",
      "\n",
      "\n",
      "\n",
      "\n",
      "\n",
      "\n",
      "pyparsing-3.2.0      | 480 KB    | #####      |  50% \u001b[A\u001b[A\u001b[A\u001b[A\u001b[A\u001b[A\u001b[A\u001b[A\u001b[A\u001b[A\u001b[A\u001b[A\u001b[A\u001b[A\n",
      "\n",
      "\n",
      "\n",
      "\n",
      "\n",
      "\n",
      "\n",
      "\n",
      "\n",
      "\n",
      "\n",
      "\n",
      "\n",
      "unicodedata2-15.1.0  | 525 KB    | ########## | 100% \u001b[A\u001b[A\u001b[A\u001b[A\u001b[A\u001b[A\u001b[A\u001b[A\u001b[A\u001b[A\u001b[A\u001b[A\u001b[A\n",
      "qtbase-6.7.2         | 32.5 MB   | ###8       |  39% \n",
      "\n",
      "\n",
      "\n",
      "\n",
      "\n",
      "\n",
      "\n",
      "\n",
      "\n",
      "\n",
      "\n",
      "\n",
      "\n",
      "\n",
      "\n",
      "brotli-python-1.0.9  | 346 KB    | 4          |   5% \u001b[A\u001b[A\u001b[A\u001b[A\u001b[A\u001b[A\u001b[A\u001b[A\u001b[A\u001b[A\u001b[A\u001b[A\u001b[A\u001b[A\u001b[A\n",
      "\n",
      "\n",
      "\n",
      "\n",
      "\n",
      "\n",
      "\n",
      "pyqt-6.7.1           | 3.5 MB    | ########## | 100% \u001b[A\u001b[A\u001b[A\u001b[A\u001b[A\u001b[A\u001b[A\n",
      "\n",
      "\n",
      "\n",
      "\n",
      "\n",
      "\n",
      "\n",
      "\n",
      "\n",
      "\n",
      "\n",
      "\n",
      "\n",
      "\n",
      "pyparsing-3.2.0      | 480 KB    | #########6 |  97% \u001b[A\u001b[A\u001b[A\u001b[A\u001b[A\u001b[A\u001b[A\u001b[A\u001b[A\u001b[A\u001b[A\u001b[A\u001b[A\u001b[A\n",
      "\n",
      "\n",
      "\n",
      "\n",
      "\n",
      "\n",
      "\n",
      "\n",
      "\n",
      "\n",
      "\n",
      "\n",
      "\n",
      "\n",
      "\n",
      "brotli-python-1.0.9  | 346 KB    | ########## | 100% \u001b[A\u001b[A\u001b[A\u001b[A\u001b[A\u001b[A\u001b[A\u001b[A\u001b[A\u001b[A\u001b[A\u001b[A\u001b[A\u001b[A\u001b[A\n",
      "qtbase-6.7.2         | 32.5 MB   | ###9       |  39% \n",
      "\n",
      "\n",
      "\n",
      "\n",
      "\n",
      "\n",
      "\n",
      "\n",
      "\n",
      "\n",
      "\n",
      "\n",
      "\n",
      "\n",
      "pyparsing-3.2.0      | 480 KB    | ########## | 100% \u001b[A\u001b[A\u001b[A\u001b[A\u001b[A\u001b[A\u001b[A\u001b[A\u001b[A\u001b[A\u001b[A\u001b[A\u001b[A\u001b[A\n",
      "\n",
      "\n",
      "\n",
      "\n",
      "\n",
      "\n",
      "\n",
      "\n",
      "\n",
      "\n",
      "\n",
      "\n",
      "\n",
      "\n",
      "\n",
      "\n",
      "qtsvg-6.7.2          | 311 KB    | 5          |   5% \u001b[A\u001b[A\u001b[A\u001b[A\u001b[A\u001b[A\u001b[A\u001b[A\u001b[A\u001b[A\u001b[A\u001b[A\u001b[A\u001b[A\u001b[A\u001b[A\n",
      "\n",
      "\n",
      "\n",
      "\n",
      "\n",
      "\n",
      "\n",
      "\n",
      "\n",
      "\n",
      "\n",
      "\n",
      "\n",
      "\n",
      "\n",
      "\n",
      "\n",
      "libwebp-base-1.3.2   | 303 KB    | 5          |   5% \u001b[A\u001b[A\u001b[A\u001b[A\u001b[A\u001b[A\u001b[A\u001b[A\u001b[A\u001b[A\u001b[A\u001b[A\u001b[A\u001b[A\u001b[A\u001b[A\u001b[A\n",
      "\n",
      "\n",
      "\n",
      "\n",
      "\n",
      "\n",
      "\n",
      "\n",
      "\n",
      "\n",
      "\n",
      "\n",
      "\n",
      "\n",
      "\n",
      "\n",
      "qtsvg-6.7.2          | 311 KB    | ###5       |  36% \u001b[A\u001b[A\u001b[A\u001b[A\u001b[A\u001b[A\u001b[A\u001b[A\u001b[A\u001b[A\u001b[A\u001b[A\u001b[A\u001b[A\u001b[A\u001b[A\n",
      "\n",
      "\n",
      "\n",
      "\n",
      "\n",
      "\n",
      "\n",
      "\n",
      "\n",
      "\n",
      "\n",
      "\n",
      "\n",
      "\n",
      "\n",
      "\n",
      "\n",
      "\n",
      "mkl_random-1.2.8     | 266 KB    | 6          |   6% \u001b[A\u001b[A\u001b[A\u001b[A\u001b[A\u001b[A\u001b[A\u001b[A\u001b[A\u001b[A\u001b[A\u001b[A\u001b[A\u001b[A\u001b[A\u001b[A\u001b[A\u001b[A\n",
      "qtbase-6.7.2         | 32.5 MB   | ###9       |  40% \n",
      "\n",
      "\n",
      "\n",
      "\n",
      "\n",
      "\n",
      "\n",
      "\n",
      "\n",
      "\n",
      "\n",
      "\n",
      "\n",
      "\n",
      "\n",
      "\n",
      "\n",
      "libwebp-base-1.3.2   | 303 KB    | ########## | 100% \u001b[A\u001b[A\u001b[A\u001b[A\u001b[A\u001b[A\u001b[A\u001b[A\u001b[A\u001b[A\u001b[A\u001b[A\u001b[A\u001b[A\u001b[A\u001b[A\u001b[A\n",
      "\n",
      "\n",
      "\n",
      "\n",
      "\n",
      "\n",
      "\n",
      "\n",
      "\n",
      "\n",
      "\n",
      "\n",
      "\n",
      "\n",
      "\n",
      "\n",
      "qtsvg-6.7.2          | 311 KB    | ########## | 100% \u001b[A\u001b[A\u001b[A\u001b[A\u001b[A\u001b[A\u001b[A\u001b[A\u001b[A\u001b[A\u001b[A\u001b[A\u001b[A\u001b[A\u001b[A\u001b[A\n",
      "\n",
      "\n",
      "\n",
      "\n",
      "\n",
      "\n",
      "\n",
      "\n",
      "\n",
      "\n",
      "\n",
      "\n",
      "\n",
      "\n",
      "\n",
      "\n",
      "\n",
      "\n",
      "\n",
      " ... (more hidden) ...\u001b[A\u001b[A\u001b[A\u001b[A\u001b[A\u001b[A\u001b[A\u001b[A\u001b[A\u001b[A\u001b[A\u001b[A\u001b[A\u001b[A\u001b[A\u001b[A\u001b[A\u001b[A\u001b[A\n",
      "\n",
      "\n",
      "\n",
      "\n",
      "\n",
      "\n",
      "\n",
      "\n",
      "\n",
      "\n",
      "\n",
      "\n",
      "\n",
      "\n",
      "\n",
      "\n",
      "\n",
      "\n",
      "mkl_random-1.2.8     | 266 KB    | ########## | 100% \u001b[A\u001b[A\u001b[A\u001b[A\u001b[A\u001b[A\u001b[A\u001b[A\u001b[A\u001b[A\u001b[A\u001b[A\u001b[A\u001b[A\u001b[A\u001b[A\u001b[A\u001b[A\n",
      "\n",
      "\n",
      "\n",
      "\n",
      "\n",
      "\n",
      "\n",
      "\n",
      "\n",
      "\n",
      "\n",
      "\n",
      "\n",
      "\n",
      "\n",
      "\n",
      "\n",
      "\n",
      "mkl_random-1.2.8     | 266 KB    | ########## | 100% \u001b[A\u001b[A\u001b[A\u001b[A\u001b[A\u001b[A\u001b[A\u001b[A\u001b[A\u001b[A\u001b[A\u001b[A\u001b[A\u001b[A\u001b[A\u001b[A\u001b[A\u001b[A\n",
      "\n",
      "\n",
      "\n",
      "\n",
      "\n",
      "\n",
      "\n",
      "\n",
      "\n",
      "\n",
      "\n",
      "\n",
      "\n",
      "\n",
      "\n",
      "\n",
      "\n",
      "\n",
      "\n",
      " ... (more hidden) ...\u001b[A\u001b[A\u001b[A\u001b[A\u001b[A\u001b[A\u001b[A\u001b[A\u001b[A\u001b[A\u001b[A\u001b[A\u001b[A\u001b[A\u001b[A\u001b[A\u001b[A\u001b[A\u001b[A\n",
      "qtbase-6.7.2         | 32.5 MB   | ####       |  40% \n",
      "\n",
      "qtdeclarative-6.7.2  | 20.9 MB   | ########## | 100% \u001b[A\n",
      "qtbase-6.7.2         | 32.5 MB   | ####       |  40% \n",
      "qtbase-6.7.2         | 32.5 MB   | ####       |  41% \n",
      "qtbase-6.7.2         | 32.5 MB   | ####1      |  41% \n",
      "qtbase-6.7.2         | 32.5 MB   | ####1      |  42% \n",
      "qtbase-6.7.2         | 32.5 MB   | ####2      |  42% \n",
      "qtbase-6.7.2         | 32.5 MB   | ####2      |  43% \n",
      "qtbase-6.7.2         | 32.5 MB   | ####3      |  43% \n",
      "qtbase-6.7.2         | 32.5 MB   | ####3      |  44% \n",
      "qtbase-6.7.2         | 32.5 MB   | ####4      |  45% \n",
      "\n",
      "\n",
      "\n",
      "\n",
      "\n",
      "\n",
      "\n",
      "\n",
      "\n",
      "libtiff-4.5.1        | 1.0 MB    | ########## | 100% \u001b[A\u001b[A\u001b[A\u001b[A\u001b[A\u001b[A\u001b[A\u001b[A\u001b[A\n",
      "qtbase-6.7.2         | 32.5 MB   | ####5      |  45% \n",
      "qtbase-6.7.2         | 32.5 MB   | ####5      |  46% \n",
      "qtbase-6.7.2         | 32.5 MB   | ####6      |  47% \n",
      "qtbase-6.7.2         | 32.5 MB   | ####7      |  47% \n",
      "qtbase-6.7.2         | 32.5 MB   | ####7      |  48% \n",
      "qtbase-6.7.2         | 32.5 MB   | ####9      |  49% \n",
      "qtbase-6.7.2         | 32.5 MB   | ####9      |  50% \n",
      "qtbase-6.7.2         | 32.5 MB   | #####      |  51% \n",
      "qtbase-6.7.2         | 32.5 MB   | #####1     |  52% \n",
      "\n",
      "\n",
      "\n",
      "\n",
      "\n",
      "\n",
      "\n",
      "\n",
      "fonttools-4.55.3     | 2.7 MB    | ########## | 100% \u001b[A\u001b[A\u001b[A\u001b[A\u001b[A\u001b[A\u001b[A\u001b[A\n",
      "\n",
      "\n",
      "\n",
      "\n",
      "\n",
      "\n",
      "\n",
      "\n",
      "fonttools-4.55.3     | 2.7 MB    | ########## | 100% \u001b[A\u001b[A\u001b[A\u001b[A\u001b[A\u001b[A\u001b[A\u001b[A\n",
      "qtbase-6.7.2         | 32.5 MB   | #####2     |  53% \n",
      "\n",
      "\n",
      "\n",
      "\n",
      "\n",
      "\n",
      "\n",
      "\n",
      "\n",
      "\n",
      "\n",
      "\n",
      "lcms2-2.16           | 566 KB    | ########## | 100% \u001b[A\u001b[A\u001b[A\u001b[A\u001b[A\u001b[A\u001b[A\u001b[A\u001b[A\u001b[A\u001b[A\u001b[A\n",
      "\n",
      "\n",
      "\n",
      "\n",
      "\n",
      "\n",
      "\n",
      "\n",
      "\n",
      "\n",
      "\n",
      "\n",
      "lcms2-2.16           | 566 KB    | ########## | 100% \u001b[A\u001b[A\u001b[A\u001b[A\u001b[A\u001b[A\u001b[A\u001b[A\u001b[A\u001b[A\u001b[A\u001b[A\n",
      "qtbase-6.7.2         | 32.5 MB   | #####3     |  54% \n",
      "qtbase-6.7.2         | 32.5 MB   | #####5     |  55% \n",
      "qtbase-6.7.2         | 32.5 MB   | #####6     |  56% \n",
      "qtbase-6.7.2         | 32.5 MB   | #####7     |  58% \n",
      "qtbase-6.7.2         | 32.5 MB   | #####8     |  59% \n",
      "qtbase-6.7.2         | 32.5 MB   | ######     |  60% \n",
      "qtbase-6.7.2         | 32.5 MB   | ######1    |  62% \n",
      "qtbase-6.7.2         | 32.5 MB   | ######3    |  63% \n",
      "qtbase-6.7.2         | 32.5 MB   | ######4    |  65% \n",
      "qtbase-6.7.2         | 32.5 MB   | ######6    |  66% \n",
      "\n",
      "\n",
      "\n",
      "\n",
      "\n",
      "\n",
      "\n",
      "\n",
      "\n",
      "\n",
      "pillow-11.1.0        | 927 KB    | ########## | 100% \u001b[A\u001b[A\u001b[A\u001b[A\u001b[A\u001b[A\u001b[A\u001b[A\u001b[A\u001b[A\n",
      "qtbase-6.7.2         | 32.5 MB   | ######8    |  68% \n",
      "\n",
      "\n",
      "\n",
      "\n",
      "\n",
      "\n",
      "\n",
      "\n",
      "\n",
      "\n",
      "\n",
      "\n",
      "\n",
      "unicodedata2-15.1.0  | 525 KB    | ########## | 100% \u001b[A\u001b[A\u001b[A\u001b[A\u001b[A\u001b[A\u001b[A\u001b[A\u001b[A\u001b[A\u001b[A\u001b[A\u001b[A\n",
      "qtbase-6.7.2         | 32.5 MB   | ######9    |  70% \n",
      "qtbase-6.7.2         | 32.5 MB   | #######2   |  72% \n",
      "qtbase-6.7.2         | 32.5 MB   | #######3   |  74% \n",
      "\n",
      "\n",
      "\n",
      "\n",
      "\n",
      "\n",
      "\n",
      "\n",
      "\n",
      "\n",
      "\n",
      "sip-6.10.0           | 718 KB    | ########## | 100% \u001b[A\u001b[A\u001b[A\u001b[A\u001b[A\u001b[A\u001b[A\u001b[A\u001b[A\u001b[A\u001b[A\n",
      "qtbase-6.7.2         | 32.5 MB   | #######6   |  76% \n",
      "qtbase-6.7.2         | 32.5 MB   | #######8   |  78% \n",
      "\n",
      "\n",
      "\n",
      "\n",
      "\n",
      "\n",
      "\n",
      "\n",
      "\n",
      "\n",
      "\n",
      "\n",
      "\n",
      "\n",
      "\n",
      "brotli-python-1.0.9  | 346 KB    | ########## | 100% \u001b[A\u001b[A\u001b[A\u001b[A\u001b[A\u001b[A\u001b[A\u001b[A\u001b[A\u001b[A\u001b[A\u001b[A\u001b[A\u001b[A\u001b[A\n",
      "\n",
      "\n",
      "\n",
      "\n",
      "\n",
      "\n",
      "\n",
      "\n",
      "\n",
      "\n",
      "\n",
      "\n",
      "\n",
      "\n",
      "\n",
      "brotli-python-1.0.9  | 346 KB    | ########## | 100% \u001b[A\u001b[A\u001b[A\u001b[A\u001b[A\u001b[A\u001b[A\u001b[A\u001b[A\u001b[A\u001b[A\u001b[A\u001b[A\u001b[A\u001b[A\n",
      "qtbase-6.7.2         | 32.5 MB   | ########   |  81% \n",
      "qtbase-6.7.2         | 32.5 MB   | ########3  |  83% \n",
      "qtbase-6.7.2         | 32.5 MB   | ########5  |  86% \n",
      "qtbase-6.7.2         | 32.5 MB   | ########8  |  89% \n",
      "qtbase-6.7.2         | 32.5 MB   | #########  |  91% \n",
      "qtbase-6.7.2         | 32.5 MB   | #########3 |  94% \n",
      "\n",
      "\n",
      "\n",
      "\n",
      "\n",
      "\n",
      "\n",
      "\n",
      "\n",
      "\n",
      "\n",
      "\n",
      "\n",
      "\n",
      "pyparsing-3.2.0      | 480 KB    | ########## | 100% \u001b[A\u001b[A\u001b[A\u001b[A\u001b[A\u001b[A\u001b[A\u001b[A\u001b[A\u001b[A\u001b[A\u001b[A\u001b[A\u001b[A\n",
      "qtbase-6.7.2         | 32.5 MB   | #########6 |  97% \n",
      "\n",
      "\n",
      "\n",
      "\n",
      "\n",
      "\n",
      "\n",
      "\n",
      "\n",
      "\n",
      "\n",
      "\n",
      "\n",
      "\n",
      "\n",
      "\n",
      "\n",
      "libwebp-base-1.3.2   | 303 KB    | ########## | 100% \u001b[A\u001b[A\u001b[A\u001b[A\u001b[A\u001b[A\u001b[A\u001b[A\u001b[A\u001b[A\u001b[A\u001b[A\u001b[A\u001b[A\u001b[A\u001b[A\u001b[A\n",
      "\n",
      "\n",
      "\n",
      "\n",
      "\n",
      "\n",
      "\n",
      "\n",
      "\n",
      "\n",
      "\n",
      "\n",
      "\n",
      "\n",
      "\n",
      "\n",
      "\n",
      "libwebp-base-1.3.2   | 303 KB    | ########## | 100% \u001b[A\u001b[A\u001b[A\u001b[A\u001b[A\u001b[A\u001b[A\u001b[A\u001b[A\u001b[A\u001b[A\u001b[A\u001b[A\u001b[A\u001b[A\u001b[A\u001b[A\n",
      "qtbase-6.7.2         | 32.5 MB   | ########## | 100% \n",
      "qtbase-6.7.2         | 32.5 MB   | ########## | 100% \n",
      "\n",
      "\n",
      "\n",
      "\n",
      "\n",
      "\n",
      "\n",
      "\n",
      "\n",
      "\n",
      "\n",
      "\n",
      "\n",
      "\n",
      "\n",
      "\n",
      "qtsvg-6.7.2          | 311 KB    | ########## | 100% \u001b[A\u001b[A\u001b[A\u001b[A\u001b[A\u001b[A\u001b[A\u001b[A\u001b[A\u001b[A\u001b[A\u001b[A\u001b[A\u001b[A\u001b[A\u001b[A\n",
      "\n",
      "\n",
      "\n",
      "\n",
      "\n",
      "\n",
      "\n",
      "\n",
      "\n",
      "\n",
      "\n",
      "\n",
      "\n",
      "\n",
      "\n",
      "\n",
      "qtsvg-6.7.2          | 311 KB    | ########## | 100% \u001b[A\u001b[A\u001b[A\u001b[A\u001b[A\u001b[A\u001b[A\u001b[A\u001b[A\u001b[A\u001b[A\u001b[A\u001b[A\u001b[A\u001b[A\u001b[A\n",
      "\n",
      "\n",
      "\n",
      "\n",
      "\n",
      "\n",
      "\n",
      "\n",
      "\n",
      "\n",
      "\n",
      "\n",
      "\n",
      "\n",
      "\n",
      "\n",
      "\n",
      "\n",
      "mkl_random-1.2.8     | 266 KB    | ########## | 100% \u001b[A\u001b[A\u001b[A\u001b[A\u001b[A\u001b[A\u001b[A\u001b[A\u001b[A\u001b[A\u001b[A\u001b[A\u001b[A\u001b[A\u001b[A\u001b[A\u001b[A\u001b[A\n",
      "\n",
      "\n",
      "\n",
      "\n",
      "\n",
      "\n",
      "\n",
      "\n",
      "\n",
      "\n",
      "\n",
      "\n",
      "\n",
      "\n",
      "\n",
      "\n",
      "\n",
      "\n",
      "\n",
      " ... (more hidden) ...\u001b[A\u001b[A\u001b[A\u001b[A\u001b[A\u001b[A\u001b[A\u001b[A\u001b[A\u001b[A\u001b[A\u001b[A\u001b[A\u001b[A\u001b[A\u001b[A\u001b[A\u001b[A\u001b[A\n",
      "\n",
      "\n",
      "\n",
      "\n",
      "\n",
      "\n",
      "\n",
      "\n",
      "\n",
      "\n",
      "\n",
      "\n",
      "\n",
      "\n",
      "\n",
      "\n",
      "\n",
      "\n",
      "\n",
      " ... (more hidden) ...\u001b[A\u001b[A\u001b[A\u001b[A\u001b[A\u001b[A\u001b[A\u001b[A\u001b[A\u001b[A\u001b[A\u001b[A\u001b[A\u001b[A\u001b[A\u001b[A\u001b[A\u001b[A\u001b[A\n",
      "\n",
      "\n",
      "\n",
      "\n",
      "\n",
      "\n",
      "\n",
      "pyqt-6.7.1           | 3.5 MB    | ########## | 100% \u001b[A\u001b[A\u001b[A\u001b[A\u001b[A\u001b[A\u001b[A\n",
      "\n",
      "\n",
      "\n",
      "\n",
      "\n",
      "\n",
      "libpq-17.0           | 3.8 MB    | ########## | 100% \u001b[A\u001b[A\u001b[A\u001b[A\u001b[A\u001b[A\n",
      "\n",
      "qtdeclarative-6.7.2  | 20.9 MB   | ########## | 100% \u001b[A\n",
      "qtbase-6.7.2         | 32.5 MB   | ########## | 100% \n",
      "\n",
      "\n",
      "\n",
      "\n",
      "\n",
      "\n",
      "\n",
      "\n",
      "\n",
      "\n",
      "\n",
      "\n",
      "\n",
      "\n",
      "\n",
      "\n",
      "\n",
      "\n",
      "\n",
      "                      \n",
      "\u001b[A\u001b[A\u001b[A\u001b[A\u001b[A\u001b[A\u001b[A\u001b[A\u001b[A\u001b[A\u001b[A\u001b[A\u001b[A\u001b[A\u001b[A\u001b[A\u001b[A\u001b[A\u001b[A\n",
      "                                                     \n",
      "\n",
      "\n",
      "                                                     \u001b[A\n",
      "\n",
      "\n",
      "                                                     \u001b[A\u001b[A\n",
      "\n",
      "\n",
      "\n",
      "                                                     \u001b[A\u001b[A\u001b[A\n",
      "\n",
      "\n",
      "\n",
      "\n",
      "                                                     \u001b[A\u001b[A\u001b[A\u001b[A\n",
      "\n",
      "\n",
      "\n",
      "\n",
      "\n",
      "                                                     \u001b[A\u001b[A\u001b[A\u001b[A\u001b[A\n",
      "\n",
      "\n",
      "\n",
      "\n",
      "\n",
      "\n",
      "                                                     \u001b[A\u001b[A\u001b[A\u001b[A\u001b[A\u001b[A\n",
      "\n",
      "\n",
      "\n",
      "\n",
      "\n",
      "\n",
      "\n",
      "                                                     \u001b[A\u001b[A\u001b[A\u001b[A\u001b[A\u001b[A\u001b[A\n",
      "\n",
      "\n",
      "\n",
      "\n",
      "\n",
      "\n",
      "\n",
      "\n",
      "                                                     \u001b[A\u001b[A\u001b[A\u001b[A\u001b[A\u001b[A\u001b[A\u001b[A\n",
      "\n",
      "\n",
      "\n",
      "\n",
      "\n",
      "\n",
      "\n",
      "\n",
      "\n",
      "                                                     \u001b[A\u001b[A\u001b[A\u001b[A\u001b[A\u001b[A\u001b[A\u001b[A\u001b[A\n",
      "\n",
      "\n",
      "\n",
      "\n",
      "\n",
      "\n",
      "\n",
      "\n",
      "\n",
      "\n",
      "                                                     \u001b[A\u001b[A\u001b[A\u001b[A\u001b[A\u001b[A\u001b[A\u001b[A\u001b[A\u001b[A\n",
      "\n",
      "\n",
      "\n",
      "\n",
      "\n",
      "\n",
      "\n",
      "\n",
      "\n",
      "\n",
      "\n",
      "                                                     \u001b[A\u001b[A\u001b[A\u001b[A\u001b[A\u001b[A\u001b[A\u001b[A\u001b[A\u001b[A\u001b[A\n",
      "\n",
      "\n",
      "\n",
      "\n",
      "\n",
      "\n",
      "\n",
      "\n",
      "\n",
      "\n",
      "\n",
      "\n",
      "                                                     \u001b[A\u001b[A\u001b[A\u001b[A\u001b[A\u001b[A\u001b[A\u001b[A\u001b[A\u001b[A\u001b[A\u001b[A\n",
      "\n",
      "\n",
      "\n",
      "\n",
      "\n",
      "\n",
      "\n",
      "\n",
      "\n",
      "\n",
      "\n",
      "\n",
      "\n",
      "                                                     \u001b[A\u001b[A\u001b[A\u001b[A\u001b[A\u001b[A\u001b[A\u001b[A\u001b[A\u001b[A\u001b[A\u001b[A\u001b[A\n",
      "\n",
      "\n",
      "\n",
      "\n",
      "\n",
      "\n",
      "\n",
      "\n",
      "\n",
      "\n",
      "\n",
      "\n",
      "\n",
      "\n",
      "                                                     \u001b[A\u001b[A\u001b[A\u001b[A\u001b[A\u001b[A\u001b[A\u001b[A\u001b[A\u001b[A\u001b[A\u001b[A\u001b[A\u001b[A\n",
      "\n",
      "\n",
      "\n",
      "\n",
      "\n",
      "\n",
      "\n",
      "\n",
      "\n",
      "\n",
      "\n",
      "\n",
      "\n",
      "\n",
      "\n",
      "                                                     \u001b[A\u001b[A\u001b[A\u001b[A\u001b[A\u001b[A\u001b[A\u001b[A\u001b[A\u001b[A\u001b[A\u001b[A\u001b[A\u001b[A\u001b[A\n",
      "\n",
      "\n",
      "\n",
      "\n",
      "\n",
      "\n",
      "\n",
      "\n",
      "\n",
      "\n",
      "\n",
      "\n",
      "\n",
      "\n",
      "\n",
      "\n",
      "                                                     \u001b[A\u001b[A\u001b[A\u001b[A\u001b[A\u001b[A\u001b[A\u001b[A\u001b[A\u001b[A\u001b[A\u001b[A\u001b[A\u001b[A\u001b[A\u001b[A\n",
      "\n",
      "\n",
      "\n",
      "\n",
      "\n",
      "\n",
      "\n",
      "\n",
      "\n",
      "\n",
      "\n",
      "\n",
      "\n",
      "\n",
      "\n",
      "\n",
      "\n",
      "                                                     \u001b[A\u001b[A\u001b[A\u001b[A\u001b[A\u001b[A\u001b[A\u001b[A\u001b[A\u001b[A\u001b[A\u001b[A\u001b[A\u001b[A\u001b[A\u001b[A\u001b[A\n",
      "\n",
      "\n",
      "\n",
      "\n",
      "\n",
      "\n",
      "\n",
      "\n",
      "\n",
      "\n",
      "\n",
      "\n",
      "\n",
      "\n",
      "\n",
      "\n",
      "\n",
      "\n",
      "                                                     \u001b[A\u001b[A\u001b[A\u001b[A\u001b[A\u001b[A\u001b[A\u001b[A\u001b[A\u001b[A\u001b[A\u001b[A\u001b[A\u001b[A\u001b[A\u001b[A\u001b[A\u001b[A\n",
      "\n",
      "\n",
      "\n",
      "\u001b[A\n",
      "\n",
      "\n",
      "\u001b[A\u001b[A\n",
      "\n",
      "\n",
      "\n",
      "\u001b[A\u001b[A\u001b[A\n",
      "\n",
      "\n",
      "\n",
      "\n",
      "\u001b[A\u001b[A\u001b[A\u001b[A\n",
      "\n",
      "\n",
      "\n",
      "\n",
      "\n",
      "\u001b[A\u001b[A\u001b[A\u001b[A\u001b[A\n",
      "\n",
      "\n",
      "\n",
      "\n",
      "\n",
      "\n",
      "\u001b[A\u001b[A\u001b[A\u001b[A\u001b[A\u001b[A\n",
      "\n",
      "\n",
      "\n",
      "\n",
      "\n",
      "\n",
      "\n",
      "\u001b[A\u001b[A\u001b[A\u001b[A\u001b[A\u001b[A\u001b[A\n",
      "\n",
      "\n",
      "\n",
      "\n",
      "\n",
      "\n",
      "\n",
      "\n",
      "\u001b[A\u001b[A\u001b[A\u001b[A\u001b[A\u001b[A\u001b[A\u001b[A\n",
      "\n",
      "\n",
      "\n",
      "\n",
      "\n",
      "\n",
      "\n",
      "\n",
      "\n",
      "\u001b[A\u001b[A\u001b[A\u001b[A\u001b[A\u001b[A\u001b[A\u001b[A\u001b[A\n",
      "\n",
      "\n",
      "\n",
      "\n",
      "\n",
      "\n",
      "\n",
      "\n",
      "\n",
      "\n",
      "\u001b[A\u001b[A\u001b[A\u001b[A\u001b[A\u001b[A\u001b[A\u001b[A\u001b[A\u001b[A done\n",
      "Preparing transaction: done\n",
      "Verifying transaction: done\n",
      "Executing transaction: done\n",
      "\n",
      "Note: you may need to restart the kernel to use updated packages.\n"
     ]
    }
   ],
   "source": [
    "conda install matplotlib"
   ]
  },
  {
   "cell_type": "code",
   "execution_count": 4,
   "metadata": {},
   "outputs": [
    {
     "name": "stdout",
     "output_type": "stream",
     "text": [
      "Channels:\n",
      " - defaults\n",
      " - conda-forge\n",
      "Platform: win-64\n",
      "Collecting package metadata (repodata.json): ...working... done\n",
      "Solving environment: ...working... done\n",
      "\n",
      "## Package Plan ##\n",
      "\n",
      "  environment location: c:\\Users\\Admin\\anaconda3\\envs\\Jannat\n",
      "\n",
      "  added / updated specs:\n",
      "    - pandas\n",
      "\n",
      "\n",
      "The following packages will be downloaded:\n",
      "\n",
      "    package                    |            build\n",
      "    ---------------------------|-----------------\n",
      "    bottleneck-1.4.2           |  py311h57dcf0c_0         146 KB\n",
      "    numexpr-2.10.1             |  py311h4cd664f_0         207 KB\n",
      "    pandas-2.2.3               |  py311h5da7b33_0        14.7 MB\n",
      "    pytz-2024.1                |  py311haa95532_0         223 KB\n",
      "    ------------------------------------------------------------\n",
      "                                           Total:        15.3 MB\n",
      "\n",
      "The following NEW packages will be INSTALLED:\n",
      "\n",
      "  bottleneck         pkgs/main/win-64::bottleneck-1.4.2-py311h57dcf0c_0 \n",
      "  numexpr            pkgs/main/win-64::numexpr-2.10.1-py311h4cd664f_0 \n",
      "  pandas             pkgs/main/win-64::pandas-2.2.3-py311h5da7b33_0 \n",
      "  python-tzdata      pkgs/main/noarch::python-tzdata-2023.3-pyhd3eb1b0_0 \n",
      "  pytz               pkgs/main/win-64::pytz-2024.1-py311haa95532_0 \n",
      "\n",
      "\n",
      "\n",
      "Downloading and Extracting Packages: ...working...\n",
      "pandas-2.2.3         | 14.7 MB   |            |   0% \n",
      "\n",
      "pytz-2024.1          | 223 KB    |            |   0% \u001b[A\n",
      "\n",
      "\n",
      "numexpr-2.10.1       | 207 KB    |            |   0% \u001b[A\u001b[A\n",
      "\n",
      "\n",
      "\n",
      "bottleneck-1.4.2     | 146 KB    |            |   0% \u001b[A\u001b[A\u001b[A\n",
      "\n",
      "pytz-2024.1          | 223 KB    | 7          |   7% \u001b[A\n",
      "\n",
      "\n",
      "numexpr-2.10.1       | 207 KB    | 7          |   8% \u001b[A\u001b[A\n",
      "\n",
      "\n",
      "\n",
      "bottleneck-1.4.2     | 146 KB    | #          |  11% \u001b[A\u001b[A\u001b[A\n",
      "pandas-2.2.3         | 14.7 MB   |            |   0% \n",
      "\n",
      "pytz-2024.1          | 223 KB    | #########3 |  93% \u001b[A\n",
      "\n",
      "\n",
      "numexpr-2.10.1       | 207 KB    | ######1    |  62% \u001b[A\u001b[A\n",
      "\n",
      "pytz-2024.1          | 223 KB    | ########## | 100% \u001b[A\n",
      "\n",
      "\n",
      "\n",
      "bottleneck-1.4.2     | 146 KB    | ########## | 100% \u001b[A\u001b[A\u001b[A\n",
      "\n",
      "\n",
      "\n",
      "bottleneck-1.4.2     | 146 KB    | ########## | 100% \u001b[A\u001b[A\u001b[A\n",
      "\n",
      "\n",
      "numexpr-2.10.1       | 207 KB    | ########## | 100% \u001b[A\u001b[A\n",
      "pandas-2.2.3         | 14.7 MB   | 1          |   1% \n",
      "pandas-2.2.3         | 14.7 MB   | 3          |   3% \n",
      "pandas-2.2.3         | 14.7 MB   | 6          |   6% \n",
      "\n",
      "\n",
      "numexpr-2.10.1       | 207 KB    | ########## | 100% \u001b[A\u001b[A\n",
      "\n",
      "\n",
      "numexpr-2.10.1       | 207 KB    | ########## | 100% \u001b[A\u001b[A\n",
      "pandas-2.2.3         | 14.7 MB   | #2         |  12% \n",
      "\n",
      "\n",
      "\n",
      "bottleneck-1.4.2     | 146 KB    | ########## | 100% \u001b[A\u001b[A\u001b[A\n",
      "pandas-2.2.3         | 14.7 MB   | ##1        |  22% \n",
      "pandas-2.2.3         | 14.7 MB   | ##9        |  30% \n",
      "pandas-2.2.3         | 14.7 MB   | ###8       |  38% \n",
      "pandas-2.2.3         | 14.7 MB   | ####5      |  46% \n",
      "pandas-2.2.3         | 14.7 MB   | #####3     |  54% \n",
      "pandas-2.2.3         | 14.7 MB   | ######1    |  61% \n",
      "pandas-2.2.3         | 14.7 MB   | ######9    |  69% \n",
      "pandas-2.2.3         | 14.7 MB   | #######6   |  77% \n",
      "\n",
      "pytz-2024.1          | 223 KB    | ########## | 100% \u001b[A\n",
      "pandas-2.2.3         | 14.7 MB   | ########4  |  84% \n",
      "pandas-2.2.3         | 14.7 MB   | #########1 |  92% \n",
      "pandas-2.2.3         | 14.7 MB   | ########## | 100% \n",
      "pandas-2.2.3         | 14.7 MB   | ########## | 100% \n",
      "pandas-2.2.3         | 14.7 MB   | ########## | 100% \n",
      "                                                     \n",
      "\n",
      "\n",
      "                                                     \u001b[A\n",
      "\n",
      "\n",
      "                                                     \u001b[A\u001b[A\n",
      "\n",
      "\n",
      "\n",
      "                                                     \u001b[A\u001b[A\u001b[A done\n",
      "Preparing transaction: done\n",
      "Verifying transaction: done\n",
      "Executing transaction: done\n",
      "\n",
      "Note: you may need to restart the kernel to use updated packages.\n"
     ]
    }
   ],
   "source": [
    "conda install pandas"
   ]
  },
  {
   "cell_type": "code",
   "execution_count": 5,
   "metadata": {},
   "outputs": [
    {
     "name": "stdout",
     "output_type": "stream",
     "text": [
      "Channels:\n",
      " - defaults\n",
      " - conda-forge\n",
      "Platform: win-64\n",
      "Collecting package metadata (repodata.json): ...working... done\n",
      "Solving environment: ...working... done\n",
      "\n",
      "## Package Plan ##\n",
      "\n",
      "  environment location: c:\\Users\\Admin\\anaconda3\\envs\\Jannat\n",
      "\n",
      "  added / updated specs:\n",
      "    - numpy\n",
      "\n",
      "\n",
      "The following packages will be downloaded:\n",
      "\n",
      "    package                    |            build\n",
      "    ---------------------------|-----------------\n",
      "    numpy-2.2.2                |  py311hdab7c0b_0          12 KB\n",
      "    numpy-base-2.2.2           |  py311hd01c5d8_0        10.2 MB\n",
      "    setuptools-72.1.0          |  py311haa95532_0         3.0 MB\n",
      "    ------------------------------------------------------------\n",
      "                                           Total:        13.2 MB\n",
      "\n",
      "The following packages will be UPDATED:\n",
      "\n",
      "  numpy                               2.0.1-py311hdab7c0b_1 --> 2.2.2-py311hdab7c0b_0 \n",
      "  numpy-base                          2.0.1-py311hd01c5d8_1 --> 2.2.2-py311hd01c5d8_0 \n",
      "\n",
      "The following packages will be DOWNGRADED:\n",
      "\n",
      "  setuptools                         75.8.0-py311haa95532_0 --> 72.1.0-py311haa95532_0 \n",
      "\n",
      "\n",
      "\n",
      "Downloading and Extracting Packages: ...working...\n",
      "numpy-base-2.2.2     | 10.2 MB   |            |   0% \n",
      "\n",
      "setuptools-72.1.0    | 3.0 MB    |            |   0% \u001b[A\n",
      "\n",
      "\n",
      "numpy-2.2.2          | 12 KB     |            |   0% \u001b[A\u001b[A\n",
      "\n",
      "\n",
      "numpy-2.2.2          | 12 KB     | ########## | 100% \u001b[A\u001b[A\n",
      "\n",
      "\n",
      "numpy-2.2.2          | 12 KB     | ########## | 100% \u001b[A\u001b[A\n",
      "\n",
      "setuptools-72.1.0    | 3.0 MB    |            |   1% \u001b[A\n",
      "numpy-base-2.2.2     | 10.2 MB   |            |   0% \n",
      "\n",
      "\n",
      "numpy-2.2.2          | 12 KB     | ########## | 100% \u001b[A\u001b[A\n",
      "\n",
      "setuptools-72.1.0    | 3.0 MB    | 4          |   5% \u001b[A\n",
      "numpy-base-2.2.2     | 10.2 MB   | 4          |   4% \n",
      "\n",
      "setuptools-72.1.0    | 3.0 MB    | ##         |  21% \u001b[A\n",
      "numpy-base-2.2.2     | 10.2 MB   | #2         |  12% \n",
      "\n",
      "setuptools-72.1.0    | 3.0 MB    | ###9       |  39% \u001b[A\n",
      "numpy-base-2.2.2     | 10.2 MB   | ##         |  21% \n",
      "\n",
      "setuptools-72.1.0    | 3.0 MB    | #######6   |  77% \u001b[A\n",
      "numpy-base-2.2.2     | 10.2 MB   | ###4       |  35% \n",
      "\n",
      "setuptools-72.1.0    | 3.0 MB    | #########7 |  98% \u001b[A\n",
      "numpy-base-2.2.2     | 10.2 MB   | ####2      |  43% \n",
      "\n",
      "setuptools-72.1.0    | 3.0 MB    | ########## | 100% \u001b[A\n",
      "numpy-base-2.2.2     | 10.2 MB   | #####5     |  55% \n",
      "numpy-base-2.2.2     | 10.2 MB   | ######6    |  67% \n",
      "numpy-base-2.2.2     | 10.2 MB   | #######9   |  80% \n",
      "numpy-base-2.2.2     | 10.2 MB   | #########4 |  95% \n",
      "numpy-base-2.2.2     | 10.2 MB   | ########## | 100% \n",
      "\n",
      "setuptools-72.1.0    | 3.0 MB    | ########## | 100% \u001b[A\n",
      "numpy-base-2.2.2     | 10.2 MB   | ########## | 100% \n",
      "                                                     \n",
      "\n",
      "\n",
      "                                                     \u001b[A\n",
      "\n",
      "\n",
      "                                                     \u001b[A\u001b[A done\n",
      "Preparing transaction: done\n",
      "Verifying transaction: done\n",
      "Executing transaction: done\n",
      "\n",
      "Note: you may need to restart the kernel to use updated packages.\n"
     ]
    }
   ],
   "source": [
    "conda install numpy"
   ]
  },
  {
   "cell_type": "markdown",
   "metadata": {},
   "source": [
    "The Baltimore salaries data set is available in `Baltimore_City_Employee_Salaries_2011.csv`. This is a file and needs to be in the same directory as this notebook. Column 0 is the name of the employee and we'll use it as an index. Column 4 is a date. (Note that we count columns starting with \"0\").\n",
    "\n",
    "The pandas `read_csv` function reads it into a dataframe called `salaries`"
   ]
  },
  {
   "cell_type": "code",
   "execution_count": 2,
   "metadata": {},
   "outputs": [
    {
     "ename": "NameError",
     "evalue": "name 'salaries' is not defined",
     "output_type": "error",
     "traceback": [
      "\u001b[31m---------------------------------------------------------------------------\u001b[39m",
      "\u001b[31mNameError\u001b[39m                                 Traceback (most recent call last)",
      "\u001b[36mCell\u001b[39m\u001b[36m \u001b[39m\u001b[32mIn[2]\u001b[39m\u001b[32m, line 1\u001b[39m\n\u001b[32m----> \u001b[39m\u001b[32m1\u001b[39m \u001b[43msalaries\u001b[49m \n",
      "\u001b[31mNameError\u001b[39m: name 'salaries' is not defined"
     ]
    }
   ],
   "source": [
    "salaries "
   ]
  },
  {
   "cell_type": "code",
   "execution_count": 6,
   "metadata": {},
   "outputs": [
    {
     "name": "stdout",
     "output_type": "stream",
     "text": [
      "Channels:\n",
      " - defaults\n",
      " - conda-forge\n",
      "Platform: win-64\n",
      "Collecting package metadata (repodata.json): ...working... done\n",
      "Solving environment: ...working... done\n",
      "\n",
      "## Package Plan ##\n",
      "\n",
      "  environment location: c:\\Users\\Admin\\anaconda3\\envs\\Jannat\n",
      "\n",
      "  added / updated specs:\n",
      "    - seaborn\n",
      "\n",
      "\n",
      "The following packages will be downloaded:\n",
      "\n",
      "    package                    |            build\n",
      "    ---------------------------|-----------------\n",
      "    seaborn-0.13.2             |  py311haa95532_2         739 KB\n",
      "    ------------------------------------------------------------\n",
      "                                           Total:         739 KB\n",
      "\n",
      "The following NEW packages will be INSTALLED:\n",
      "\n",
      "  seaborn            pkgs/main/win-64::seaborn-0.13.2-py311haa95532_2 \n",
      "\n",
      "\n",
      "\n",
      "Downloading and Extracting Packages: ...working...\n",
      "seaborn-0.13.2       | 739 KB    |            |   0% \n",
      "seaborn-0.13.2       | 739 KB    | 2          |   2% \n",
      "seaborn-0.13.2       | 739 KB    | ##5        |  26% \n",
      "seaborn-0.13.2       | 739 KB    | ########4  |  84% \n",
      "seaborn-0.13.2       | 739 KB    | ########## | 100% \n",
      "seaborn-0.13.2       | 739 KB    | ########## | 100% \n",
      "                                                     \n",
      " done\n",
      "Preparing transaction: done\n",
      "Verifying transaction: done\n",
      "Executing transaction: done\n",
      "\n",
      "Note: you may need to restart the kernel to use updated packages.\n"
     ]
    }
   ],
   "source": [
    "conda install seaborn"
   ]
  },
  {
   "cell_type": "code",
   "execution_count": null,
   "metadata": {},
   "outputs": [],
   "source": [
    "salaries.sample\n",
    "\n",
    "\n"
   ]
  },
  {
   "cell_type": "code",
   "execution_count": null,
   "metadata": {},
   "outputs": [
    {
     "ename": "NameError",
     "evalue": "name 'pd' is not defined",
     "output_type": "error",
     "traceback": [
      "\u001b[31m---------------------------------------------------------------------------\u001b[39m",
      "\u001b[31mNameError\u001b[39m                                 Traceback (most recent call last)",
      "\u001b[36mCell\u001b[39m\u001b[36m \u001b[39m\u001b[32mIn[2]\u001b[39m\u001b[32m, line 1\u001b[39m\n\u001b[32m----> \u001b[39m\u001b[32m1\u001b[39m salaries = \u001b[43mpd\u001b[49m.read_csv(\u001b[33m'\u001b[39m\u001b[33mBaltimore_City_Employee_Salaries_2011.csv\u001b[39m\u001b[33m'\u001b[39m, \n\u001b[32m      2\u001b[39m                        index_col=\u001b[32m0\u001b[39m,\n\u001b[32m      3\u001b[39m                       parse_dates=[\u001b[32m4\u001b[39m])\n\u001b[32m      4\u001b[39m salaries.head()\n\u001b[32m      5\u001b[39m salaries.sample\n",
      "\u001b[31mNameError\u001b[39m: name 'pd' is not defined"
     ]
    }
   ],
   "source": [
    "salaries = pd.read_csv('Baltimore_City_Employee_Salaries_2011.csv', \n",
    "                       index_col=0,\n",
    "                      parse_dates=[4])\n",
    "salaries.head()\n",
    "salaries.sample\n",
    "\n",
    "\n"
   ]
  },
  {
   "cell_type": "code",
   "execution_count": null,
   "metadata": {},
   "outputs": [],
   "source": []
  },
  {
   "cell_type": "code",
   "execution_count": null,
   "metadata": {},
   "outputs": [
    {
     "ename": "NameError",
     "evalue": "name 'salaries' is not defined",
     "output_type": "error",
     "traceback": [
      "\u001b[31m---------------------------------------------------------------------------\u001b[39m",
      "\u001b[31mNameError\u001b[39m                                 Traceback (most recent call last)",
      "\u001b[36mCell\u001b[39m\u001b[36m \u001b[39m\u001b[32mIn[3]\u001b[39m\u001b[32m, line 1\u001b[39m\n\u001b[32m----> \u001b[39m\u001b[32m1\u001b[39m \u001b[43msalaries\u001b[49m\n",
      "\u001b[31mNameError\u001b[39m: name 'salaries' is not defined"
     ]
    }
   ],
   "source": [
    "salaries"
   ]
  },
  {
   "cell_type": "code",
   "execution_count": 7,
   "metadata": {},
   "outputs": [
    {
     "name": "stdout",
     "output_type": "stream",
     "text": [
      "Channels:\n",
      " - defaults\n",
      " - conda-forge\n",
      "Platform: win-64\n",
      "Collecting package metadata (repodata.json): ...working... done\n",
      "Solving environment: ...working... failed\n",
      "\n",
      "Note: you may need to restart the kernel to use updated packages.\n"
     ]
    },
    {
     "name": "stderr",
     "output_type": "stream",
     "text": [
      "\n",
      "PackagesNotFoundError: The following packages are not available from current channels:\n",
      "\n",
      "  - sklearn.linear_model\n",
      "\n",
      "Current channels:\n",
      "\n",
      "  - defaults\n",
      "  - https://repo.anaconda.com/pkgs/main\n",
      "  - https://repo.anaconda.com/pkgs/r\n",
      "  - https://repo.anaconda.com/pkgs/msys2\n",
      "  - https://conda.anaconda.org/conda-forge\n",
      "\n",
      "To search for alternate channels that may provide the conda package you're\n",
      "looking for, navigate to\n",
      "\n",
      "    https://anaconda.org\n",
      "\n",
      "and use the search bar at the top of the page.\n",
      "\n",
      "\n"
     ]
    }
   ],
   "source": [
    "conda install sklearn.linear_model"
   ]
  },
  {
   "cell_type": "code",
   "execution_count": 8,
   "metadata": {},
   "outputs": [
    {
     "name": "stdout",
     "output_type": "stream",
     "text": [
      "Channels:\n",
      " - defaults\n",
      " - conda-forge\n",
      "Platform: win-64\n",
      "Collecting package metadata (repodata.json): ...working... done\n",
      "Solving environment: ...working... failed\n",
      "\n",
      "Note: you may need to restart the kernel to use updated packages.\n"
     ]
    },
    {
     "name": "stderr",
     "output_type": "stream",
     "text": [
      "\n",
      "PackagesNotFoundError: The following packages are not available from current channels:\n",
      "\n",
      "  - datetime\n",
      "\n",
      "Current channels:\n",
      "\n",
      "  - defaults\n",
      "  - https://repo.anaconda.com/pkgs/main\n",
      "  - https://repo.anaconda.com/pkgs/r\n",
      "  - https://repo.anaconda.com/pkgs/msys2\n",
      "  - https://conda.anaconda.org/conda-forge\n",
      "\n",
      "To search for alternate channels that may provide the conda package you're\n",
      "looking for, navigate to\n",
      "\n",
      "    https://anaconda.org\n",
      "\n",
      "and use the search bar at the top of the page.\n",
      "\n",
      "\n"
     ]
    }
   ],
   "source": [
    "conda install datetime"
   ]
  },
  {
   "cell_type": "code",
   "execution_count": 10,
   "metadata": {},
   "outputs": [
    {
     "name": "stdout",
     "output_type": "stream",
     "text": [
      "Channels:\n",
      " - defaults\n",
      " - conda-forge\n",
      "Platform: win-64\n",
      "Collecting package metadata (repodata.json): ...working... done\n",
      "Solving environment: ...working... failed\n",
      "\n",
      "Note: you may need to restart the kernel to use updated packages.\n"
     ]
    },
    {
     "name": "stderr",
     "output_type": "stream",
     "text": [
      "\n",
      "PackagesNotFoundError: The following packages are not available from current channels:\n",
      "\n",
      "  - sklearn.metrics\n",
      "\n",
      "Current channels:\n",
      "\n",
      "  - defaults\n",
      "  - https://repo.anaconda.com/pkgs/main\n",
      "  - https://repo.anaconda.com/pkgs/r\n",
      "  - https://repo.anaconda.com/pkgs/msys2\n",
      "  - https://conda.anaconda.org/conda-forge\n",
      "\n",
      "To search for alternate channels that may provide the conda package you're\n",
      "looking for, navigate to\n",
      "\n",
      "    https://anaconda.org\n",
      "\n",
      "and use the search bar at the top of the page.\n",
      "\n",
      "\n"
     ]
    }
   ],
   "source": [
    "conda install sklearn.metrics"
   ]
  },
  {
   "cell_type": "code",
   "execution_count": 9,
   "metadata": {},
   "outputs": [
    {
     "name": "stdout",
     "output_type": "stream",
     "text": [
      "Channels:\n",
      " - defaults\n",
      " - conda-forge\n",
      "Platform: win-64\n",
      "Collecting package metadata (repodata.json): ...working... done\n",
      "Solving environment: ...working... failed\n",
      "\n",
      "Note: you may need to restart the kernel to use updated packages.\n"
     ]
    },
    {
     "name": "stderr",
     "output_type": "stream",
     "text": [
      "\n",
      "PackagesNotFoundError: The following packages are not available from current channels:\n",
      "\n",
      "  - sklearn.model_selection\n",
      "\n",
      "Current channels:\n",
      "\n",
      "  - defaults\n",
      "  - https://repo.anaconda.com/pkgs/main\n",
      "  - https://repo.anaconda.com/pkgs/r\n",
      "  - https://repo.anaconda.com/pkgs/msys2\n",
      "  - https://conda.anaconda.org/conda-forge\n",
      "\n",
      "To search for alternate channels that may provide the conda package you're\n",
      "looking for, navigate to\n",
      "\n",
      "    https://anaconda.org\n",
      "\n",
      "and use the search bar at the top of the page.\n",
      "\n",
      "\n"
     ]
    }
   ],
   "source": [
    "conda install sklearn.model_selection"
   ]
  },
  {
   "cell_type": "code",
   "execution_count": null,
   "metadata": {},
   "outputs": [
    {
     "ename": "NameError",
     "evalue": "name 'annualsalaries' is not defined",
     "output_type": "error",
     "traceback": [
      "\u001b[31m---------------------------------------------------------------------------\u001b[39m",
      "\u001b[31mNameError\u001b[39m                                 Traceback (most recent call last)",
      "\u001b[36mCell\u001b[39m\u001b[36m \u001b[39m\u001b[32mIn[4]\u001b[39m\u001b[32m, line 1\u001b[39m\n\u001b[32m----> \u001b[39m\u001b[32m1\u001b[39m \u001b[43mannualsalaries\u001b[49m.sample\n",
      "\u001b[31mNameError\u001b[39m: name 'annualsalaries' is not defined"
     ]
    }
   ],
   "source": [
    "annualsalaries.sample\n"
   ]
  },
  {
   "cell_type": "markdown",
   "metadata": {},
   "source": [
    "## Your Turn....\n",
    "\n",
    "Last week you learned about the `.tail()` method to see the last few rows in a database. Use that now to look at\n",
    "the end of the `salaries` dataframe."
   ]
  },
  {
   "cell_type": "code",
   "execution_count": 1,
   "metadata": {},
   "outputs": [],
   "source": [
    "import pandas as pd\n",
    "\n",
    "# Load data from a CSV file\n",
    "df = pd.read_csv('Baltimore_City_Employee_Salaries_2011.csv')"
   ]
  },
  {
   "cell_type": "code",
   "execution_count": 2,
   "metadata": {},
   "outputs": [
    {
     "name": "stdout",
     "output_type": "stream",
     "text": [
      "                  Name                        JobTitle AgencyID  \\\n",
      "14444   Lewis,Andrea N             CALL CENTER AGENT I   A40002   \n",
      "14445   Lewis,Angelo S     MECHANICAL SWEEPER OPERATOR   B70403   \n",
      "14446    Lewis,Anthony    RECREATION CENTER DIRECTOR I   A04001   \n",
      "14447  Lewis,Anthony L            MAINTENANCE MECHANIC   A91014   \n",
      "14448  Lewis,Antione J                  POLICE OFFICER   A99195   \n",
      "14449   Lewis,Awanda S  SCHOOL HEALTH AIDE (10 MONTHS)   A65104   \n",
      "14450  Lewis,Bernard T              FIRE PUMP OPERATOR   A64120   \n",
      "14451    Lewis,Brian C                  POLICE OFFICER   A99322   \n",
      "14452    Lewis,Capri T               JTPA TRAINEE MOMR   W03T19   \n",
      "14453   Lewis,Carlos E                    CARPENTER II   A50212   \n",
      "\n",
      "                        Agency    HireDate AnnualSalary   GrossPay  \n",
      "14444      M-R Info Technology  07/05/2005    $33841.00  $26939.01  \n",
      "14445          DPW-Solid Waste  11/01/2004    $33966.00  $32030.91  \n",
      "14446           R&P-Recreation  12/09/1976    $41640.00  $38949.67  \n",
      "14447    M-R Convention Center  11/06/1997    $41706.00  $36710.69  \n",
      "14448        Police Department  06/23/2008    $43034.00  $46035.47  \n",
      "14449   HLTH-Health Department  07/01/2006    $23395.00  $21746.79  \n",
      "14450          Fire Department  03/26/1990    $61653.00  $59866.23  \n",
      "14451        Police Department  04/20/1998    $61672.00  $84219.58  \n",
      "14452               Youth Cust  06/11/2009    $15080.00   $1881.38  \n",
      "14453  DPW-Water & Waste Water  08/02/1993    $34643.00  $29709.64  \n"
     ]
    }
   ],
   "source": [
    "print(df.tail(10))"
   ]
  },
  {
   "cell_type": "markdown",
   "metadata": {},
   "source": [
    "You can also use `.sample(5)` to get 5 random rows from the `salaries` dataframe."
   ]
  },
  {
   "cell_type": "code",
   "execution_count": 3,
   "metadata": {},
   "outputs": [
    {
     "ename": "AttributeError",
     "evalue": "'builtin_function_or_method' object has no attribute 'sample'",
     "output_type": "error",
     "traceback": [
      "\u001b[31m---------------------------------------------------------------------------\u001b[39m",
      "\u001b[31mAttributeError\u001b[39m                            Traceback (most recent call last)",
      "\u001b[36mCell\u001b[39m\u001b[36m \u001b[39m\u001b[32mIn[3]\u001b[39m\u001b[32m, line 1\u001b[39m\n\u001b[32m----> \u001b[39m\u001b[32m1\u001b[39m \u001b[38;5;28;43mprint\u001b[39;49m\u001b[43m.\u001b[49m\u001b[43msample\u001b[49m(\u001b[32m5\u001b[39m)\n",
      "\u001b[31mAttributeError\u001b[39m: 'builtin_function_or_method' object has no attribute 'sample'"
     ]
    }
   ],
   "source": [
    "print.sample(5)"
   ]
  },
  {
   "cell_type": "code",
   "execution_count": 4,
   "metadata": {},
   "outputs": [
    {
     "name": "stdout",
     "output_type": "stream",
     "text": [
      "                    Name                        JobTitle AgencyID  \\\n",
      "1551     McNeil,Tahlea S                       PARALEGAL   A06019   \n",
      "11123     Gaddis,Brian A                  POLICE OFFICER   A99399   \n",
      "13369      Johnson,Dax X         TRAFFIC INVESTIGATOR II   A49102   \n",
      "14449     Lewis,Awanda S  SCHOOL HEALTH AIDE (10 MONTHS)   A65104   \n",
      "14213  Landsman,Joseph C                  POLICE OFFICER   A99322   \n",
      "\n",
      "                        Agency    HireDate AnnualSalary   GrossPay  \n",
      "1551   Housing & Community Dev  08/20/2007    $43423.00  $35975.68  \n",
      "11123        Police Department  10/29/2008    $43034.00  $38484.38  \n",
      "13369           TRANS-Highways  12/15/2003    $32653.00  $44533.30  \n",
      "14449   HLTH-Health Department  07/01/2006    $23395.00  $21746.79  \n",
      "14213        Police Department  07/01/2001    $58815.00  $78969.32  \n"
     ]
    }
   ],
   "source": [
    "print(df.sample(n=5))"
   ]
  },
  {
   "cell_type": "markdown",
   "metadata": {},
   "source": [
    "# Data Preprocessing\n",
    "\n",
    "## Preprocess the Data (Convert Strings to Numbers)\n",
    "\n",
    "The `AnnualSalary` and `GrossPay` columns are strings and start with a `$`. We'll have to strip this off and convert these columns to floats.\n",
    "\n",
    "Don't worry too much about this code... just confirm that it works by checking that it now looks like a number without a `$` sign."
   ]
  },
  {
   "cell_type": "code",
   "execution_count": 6,
   "metadata": {},
   "outputs": [
    {
     "ename": "NameError",
     "evalue": "name 'salaries' is not defined",
     "output_type": "error",
     "traceback": [
      "\u001b[31m---------------------------------------------------------------------------\u001b[39m",
      "\u001b[31mNameError\u001b[39m                                 Traceback (most recent call last)",
      "\u001b[36mCell\u001b[39m\u001b[36m \u001b[39m\u001b[32mIn[6]\u001b[39m\u001b[32m, line 1\u001b[39m\n\u001b[32m----> \u001b[39m\u001b[32m1\u001b[39m salaries.AnnualSalary = \u001b[43msalaries\u001b[49m.AnnualSalary.str.strip(\u001b[33m'\u001b[39m\u001b[33m$\u001b[39m\u001b[33m'\u001b[39m).astype(\u001b[38;5;28mfloat\u001b[39m)\n\u001b[32m      2\u001b[39m salaries.GrossPay = salaries.GrossPay.str.strip(\u001b[33m'\u001b[39m\u001b[33m$\u001b[39m\u001b[33m'\u001b[39m).astype(\u001b[38;5;28mfloat\u001b[39m)\n\u001b[32m      3\u001b[39m salaries.head()\n",
      "\u001b[31mNameError\u001b[39m: name 'salaries' is not defined"
     ]
    }
   ],
   "source": [
    "salaries.AnnualSalary = salaries.AnnualSalary.str.strip('$').astype(float)\n",
    "salaries.GrossPay = salaries.GrossPay.str.strip('$').astype(float)\n",
    "salaries.head()"
   ]
  },
  {
   "cell_type": "code",
   "execution_count": 5,
   "metadata": {},
   "outputs": [
    {
     "ename": "NameError",
     "evalue": "name 'salaries' is not defined",
     "output_type": "error",
     "traceback": [
      "\u001b[31m---------------------------------------------------------------------------\u001b[39m",
      "\u001b[31mNameError\u001b[39m                                 Traceback (most recent call last)",
      "\u001b[36mCell\u001b[39m\u001b[36m \u001b[39m\u001b[32mIn[5]\u001b[39m\u001b[32m, line 1\u001b[39m\n\u001b[32m----> \u001b[39m\u001b[32m1\u001b[39m salaries.AnnualSalary = \u001b[43msalaries\u001b[49m.AnnualSalary.str.strip(\u001b[33m'\u001b[39m\u001b[33m$\u001b[39m\u001b[33m'\u001b[39m).astype(\u001b[38;5;28mfloat\u001b[39m)\n",
      "\u001b[31mNameError\u001b[39m: name 'salaries' is not defined"
     ]
    }
   ],
   "source": [
    "salaries.AnnualSalary = salaries.AnnualSalary.str.strip('$').astype(float)"
   ]
  },
  {
   "cell_type": "code",
   "execution_count": 8,
   "metadata": {},
   "outputs": [
    {
     "ename": "AttributeError",
     "evalue": "Can only use .str accessor with string values!",
     "output_type": "error",
     "traceback": [
      "\u001b[31m---------------------------------------------------------------------------\u001b[39m",
      "\u001b[31mAttributeError\u001b[39m                            Traceback (most recent call last)",
      "\u001b[36mCell\u001b[39m\u001b[36m \u001b[39m\u001b[32mIn[8]\u001b[39m\u001b[32m, line 1\u001b[39m\n\u001b[32m----> \u001b[39m\u001b[32m1\u001b[39m df[\u001b[33m'\u001b[39m\u001b[33mAnnualSalary\u001b[39m\u001b[33m'\u001b[39m] = \u001b[43mdf\u001b[49m\u001b[43m[\u001b[49m\u001b[33;43m'\u001b[39;49m\u001b[33;43mAnnualSalary\u001b[39;49m\u001b[33;43m'\u001b[39;49m\u001b[43m]\u001b[49m\u001b[43m.\u001b[49m\u001b[43mstr\u001b[49m.replace(\u001b[33mr\u001b[39m\u001b[33m'\u001b[39m\u001b[33m\\\u001b[39m\u001b[33m$\u001b[39m\u001b[33m'\u001b[39m, \u001b[33m'\u001b[39m\u001b[33m'\u001b[39m, regex=\u001b[38;5;28;01mTrue\u001b[39;00m).astype(\u001b[38;5;28mfloat\u001b[39m)\n",
      "\u001b[36mFile \u001b[39m\u001b[32mc:\\Users\\Admin\\anaconda3\\envs\\Jannat\\Lib\\site-packages\\pandas\\core\\generic.py:6299\u001b[39m, in \u001b[36mNDFrame.__getattr__\u001b[39m\u001b[34m(self, name)\u001b[39m\n\u001b[32m   6292\u001b[39m \u001b[38;5;28;01mif\u001b[39;00m (\n\u001b[32m   6293\u001b[39m     name \u001b[38;5;129;01mnot\u001b[39;00m \u001b[38;5;129;01min\u001b[39;00m \u001b[38;5;28mself\u001b[39m._internal_names_set\n\u001b[32m   6294\u001b[39m     \u001b[38;5;129;01mand\u001b[39;00m name \u001b[38;5;129;01mnot\u001b[39;00m \u001b[38;5;129;01min\u001b[39;00m \u001b[38;5;28mself\u001b[39m._metadata\n\u001b[32m   6295\u001b[39m     \u001b[38;5;129;01mand\u001b[39;00m name \u001b[38;5;129;01mnot\u001b[39;00m \u001b[38;5;129;01min\u001b[39;00m \u001b[38;5;28mself\u001b[39m._accessors\n\u001b[32m   6296\u001b[39m     \u001b[38;5;129;01mand\u001b[39;00m \u001b[38;5;28mself\u001b[39m._info_axis._can_hold_identifiers_and_holds_name(name)\n\u001b[32m   6297\u001b[39m ):\n\u001b[32m   6298\u001b[39m     \u001b[38;5;28;01mreturn\u001b[39;00m \u001b[38;5;28mself\u001b[39m[name]\n\u001b[32m-> \u001b[39m\u001b[32m6299\u001b[39m \u001b[38;5;28;01mreturn\u001b[39;00m \u001b[38;5;28;43mobject\u001b[39;49m\u001b[43m.\u001b[49m\u001b[34;43m__getattribute__\u001b[39;49m\u001b[43m(\u001b[49m\u001b[38;5;28;43mself\u001b[39;49m\u001b[43m,\u001b[49m\u001b[43m \u001b[49m\u001b[43mname\u001b[49m\u001b[43m)\u001b[49m\n",
      "\u001b[36mFile \u001b[39m\u001b[32mc:\\Users\\Admin\\anaconda3\\envs\\Jannat\\Lib\\site-packages\\pandas\\core\\accessor.py:224\u001b[39m, in \u001b[36mCachedAccessor.__get__\u001b[39m\u001b[34m(self, obj, cls)\u001b[39m\n\u001b[32m    221\u001b[39m \u001b[38;5;28;01mif\u001b[39;00m obj \u001b[38;5;129;01mis\u001b[39;00m \u001b[38;5;28;01mNone\u001b[39;00m:\n\u001b[32m    222\u001b[39m     \u001b[38;5;66;03m# we're accessing the attribute of the class, i.e., Dataset.geo\u001b[39;00m\n\u001b[32m    223\u001b[39m     \u001b[38;5;28;01mreturn\u001b[39;00m \u001b[38;5;28mself\u001b[39m._accessor\n\u001b[32m--> \u001b[39m\u001b[32m224\u001b[39m accessor_obj = \u001b[38;5;28;43mself\u001b[39;49m\u001b[43m.\u001b[49m\u001b[43m_accessor\u001b[49m\u001b[43m(\u001b[49m\u001b[43mobj\u001b[49m\u001b[43m)\u001b[49m\n\u001b[32m    225\u001b[39m \u001b[38;5;66;03m# Replace the property with the accessor object. Inspired by:\u001b[39;00m\n\u001b[32m    226\u001b[39m \u001b[38;5;66;03m# https://www.pydanny.com/cached-property.html\u001b[39;00m\n\u001b[32m    227\u001b[39m \u001b[38;5;66;03m# We need to use object.__setattr__ because we overwrite __setattr__ on\u001b[39;00m\n\u001b[32m    228\u001b[39m \u001b[38;5;66;03m# NDFrame\u001b[39;00m\n\u001b[32m    229\u001b[39m \u001b[38;5;28mobject\u001b[39m.\u001b[34m__setattr__\u001b[39m(obj, \u001b[38;5;28mself\u001b[39m._name, accessor_obj)\n",
      "\u001b[36mFile \u001b[39m\u001b[32mc:\\Users\\Admin\\anaconda3\\envs\\Jannat\\Lib\\site-packages\\pandas\\core\\strings\\accessor.py:191\u001b[39m, in \u001b[36mStringMethods.__init__\u001b[39m\u001b[34m(self, data)\u001b[39m\n\u001b[32m    188\u001b[39m \u001b[38;5;28;01mdef\u001b[39;00m\u001b[38;5;250m \u001b[39m\u001b[34m__init__\u001b[39m(\u001b[38;5;28mself\u001b[39m, data) -> \u001b[38;5;28;01mNone\u001b[39;00m:\n\u001b[32m    189\u001b[39m     \u001b[38;5;28;01mfrom\u001b[39;00m\u001b[38;5;250m \u001b[39m\u001b[34;01mpandas\u001b[39;00m\u001b[34;01m.\u001b[39;00m\u001b[34;01mcore\u001b[39;00m\u001b[34;01m.\u001b[39;00m\u001b[34;01marrays\u001b[39;00m\u001b[34;01m.\u001b[39;00m\u001b[34;01mstring_\u001b[39;00m\u001b[38;5;250m \u001b[39m\u001b[38;5;28;01mimport\u001b[39;00m StringDtype\n\u001b[32m--> \u001b[39m\u001b[32m191\u001b[39m     \u001b[38;5;28mself\u001b[39m._inferred_dtype = \u001b[38;5;28;43mself\u001b[39;49m\u001b[43m.\u001b[49m\u001b[43m_validate\u001b[49m\u001b[43m(\u001b[49m\u001b[43mdata\u001b[49m\u001b[43m)\u001b[49m\n\u001b[32m    192\u001b[39m     \u001b[38;5;28mself\u001b[39m._is_categorical = \u001b[38;5;28misinstance\u001b[39m(data.dtype, CategoricalDtype)\n\u001b[32m    193\u001b[39m     \u001b[38;5;28mself\u001b[39m._is_string = \u001b[38;5;28misinstance\u001b[39m(data.dtype, StringDtype)\n",
      "\u001b[36mFile \u001b[39m\u001b[32mc:\\Users\\Admin\\anaconda3\\envs\\Jannat\\Lib\\site-packages\\pandas\\core\\strings\\accessor.py:245\u001b[39m, in \u001b[36mStringMethods._validate\u001b[39m\u001b[34m(data)\u001b[39m\n\u001b[32m    242\u001b[39m inferred_dtype = lib.infer_dtype(values, skipna=\u001b[38;5;28;01mTrue\u001b[39;00m)\n\u001b[32m    244\u001b[39m \u001b[38;5;28;01mif\u001b[39;00m inferred_dtype \u001b[38;5;129;01mnot\u001b[39;00m \u001b[38;5;129;01min\u001b[39;00m allowed_types:\n\u001b[32m--> \u001b[39m\u001b[32m245\u001b[39m     \u001b[38;5;28;01mraise\u001b[39;00m \u001b[38;5;167;01mAttributeError\u001b[39;00m(\u001b[33m\"\u001b[39m\u001b[33mCan only use .str accessor with string values!\u001b[39m\u001b[33m\"\u001b[39m)\n\u001b[32m    246\u001b[39m \u001b[38;5;28;01mreturn\u001b[39;00m inferred_dtype\n",
      "\u001b[31mAttributeError\u001b[39m: Can only use .str accessor with string values!"
     ]
    }
   ],
   "source": [
    "df['AnnualSalary'] = df['AnnualSalary'].str.replace(r'\\$', '', regex=True).astype(float)"
   ]
  },
  {
   "cell_type": "code",
   "execution_count": 9,
   "metadata": {},
   "outputs": [],
   "source": [
    "df['GrossPay'] = df['GrossPay'].str.replace(r'\\$', '', regex=True).astype(float)\n"
   ]
  },
  {
   "cell_type": "code",
   "execution_count": 10,
   "metadata": {},
   "outputs": [
    {
     "name": "stdout",
     "output_type": "stream",
     "text": [
      "                    Name                        JobTitle AgencyID  \\\n",
      "2585     Paige,Douglas K  LIQUOUR BOARD ASST EXE SECRETA   A09001   \n",
      "10563       Evans,Cherry                 FIRE DISPATCHER   A64603   \n",
      "3686     Robinson,Ryne L                  POLICE OFFICER   A99125   \n",
      "12267     Hart,Shontee L           SYSTEMS PROGRAMMER II   A64001   \n",
      "7753   Boblitz,Richard S     FIRE PREVENTION INSPECTOR I   A64004   \n",
      "\n",
      "                     Agency    HireDate  AnnualSalary  GrossPay  \n",
      "2585   Liquor License Board  06/05/1990       81277.0  72212.03  \n",
      "10563       Fire Department  12/18/2002       44986.0  43860.95  \n",
      "3686      Police Department  06/20/1988       66810.0  71038.71  \n",
      "12267       Fire Department  07/01/1997       70200.0  62640.71  \n",
      "7753        Fire Department  06/01/1992       64714.0  59736.00  \n"
     ]
    }
   ],
   "source": [
    "print(df.sample(n=5))"
   ]
  },
  {
   "cell_type": "markdown",
   "metadata": {},
   "source": [
    "## Perform Exploratory Data Analysis\n",
    "\n",
    "Create a scatterplot of annual salary versus gross pay."
   ]
  },
  {
   "cell_type": "code",
   "execution_count": 11,
   "metadata": {},
   "outputs": [
    {
     "ename": "NameError",
     "evalue": "name 'salaries' is not defined",
     "output_type": "error",
     "traceback": [
      "\u001b[31m---------------------------------------------------------------------------\u001b[39m",
      "\u001b[31mNameError\u001b[39m                                 Traceback (most recent call last)",
      "\u001b[36mCell\u001b[39m\u001b[36m \u001b[39m\u001b[32mIn[11]\u001b[39m\u001b[32m, line 1\u001b[39m\n\u001b[32m----> \u001b[39m\u001b[32m1\u001b[39m \u001b[43msalaries\u001b[49m.plot.scatter(x=\u001b[33m'\u001b[39m\u001b[33mAnnualSalary\u001b[39m\u001b[33m'\u001b[39m, y=\u001b[33m'\u001b[39m\u001b[33mGrossPay\u001b[39m\u001b[33m'\u001b[39m)\n",
      "\u001b[31mNameError\u001b[39m: name 'salaries' is not defined"
     ]
    }
   ],
   "source": [
    "salaries.plot.scatter(x='AnnualSalary', y='GrossPay')"
   ]
  },
  {
   "cell_type": "code",
   "execution_count": 12,
   "metadata": {},
   "outputs": [
    {
     "ename": "NameError",
     "evalue": "name 'salaries' is not defined",
     "output_type": "error",
     "traceback": [
      "\u001b[31m---------------------------------------------------------------------------\u001b[39m",
      "\u001b[31mNameError\u001b[39m                                 Traceback (most recent call last)",
      "\u001b[36mCell\u001b[39m\u001b[36m \u001b[39m\u001b[32mIn[12]\u001b[39m\u001b[32m, line 1\u001b[39m\n\u001b[32m----> \u001b[39m\u001b[32m1\u001b[39m \u001b[43msalaries\u001b[49m.plot.scatter(x=\u001b[33m'\u001b[39m\u001b[33mAnnualSalary\u001b[39m\u001b[33m'\u001b[39m, y=\u001b[33m'\u001b[39m\u001b[33mGrossPay\u001b[39m\u001b[33m'\u001b[39m, figsize=(\u001b[32m10\u001b[39m, \u001b[32m6\u001b[39m), alpha=\u001b[32m0.5\u001b[39m, title=\u001b[33m\"\u001b[39m\u001b[33mAnnual Salary vs Gross Pay\u001b[39m\u001b[33m\"\u001b[39m)\n",
      "\u001b[31mNameError\u001b[39m: name 'salaries' is not defined"
     ]
    }
   ],
   "source": [
    "salaries.plot.scatter(x='AnnualSalary', y='GrossPay', figsize=(10, 6), alpha=0.5, title=\"Annual Salary vs Gross Pay\")\n"
   ]
  },
  {
   "cell_type": "code",
   "execution_count": 13,
   "metadata": {},
   "outputs": [
    {
     "ename": "NameError",
     "evalue": "name 'plt' is not defined",
     "output_type": "error",
     "traceback": [
      "\u001b[31m---------------------------------------------------------------------------\u001b[39m",
      "\u001b[31mNameError\u001b[39m                                 Traceback (most recent call last)",
      "\u001b[36mCell\u001b[39m\u001b[36m \u001b[39m\u001b[32mIn[13]\u001b[39m\u001b[32m, line 1\u001b[39m\n\u001b[32m----> \u001b[39m\u001b[32m1\u001b[39m \u001b[43mplt\u001b[49m.figure(figsize=(\u001b[32m10\u001b[39m, \u001b[32m6\u001b[39m))\n\u001b[32m      2\u001b[39m plt.scatter(df[\u001b[33m'\u001b[39m\u001b[33mAnnualSalary\u001b[39m\u001b[33m'\u001b[39m], df[\u001b[33m'\u001b[39m\u001b[33mGrossPay\u001b[39m\u001b[33m'\u001b[39m], alpha=\u001b[32m0.5\u001b[39m, s=\u001b[32m10\u001b[39m, marker=\u001b[33m'\u001b[39m\u001b[33mo\u001b[39m\u001b[33m'\u001b[39m)\n",
      "\u001b[31mNameError\u001b[39m: name 'plt' is not defined"
     ]
    }
   ],
   "source": [
    "plt.figure(figsize=(10, 6))\n",
    "plt.scatter(df['AnnualSalary'], df['GrossPay'], alpha=0.5, s=10, marker='o')\n"
   ]
  },
  {
   "cell_type": "code",
   "execution_count": 14,
   "metadata": {},
   "outputs": [
    {
     "name": "stderr",
     "output_type": "stream",
     "text": [
      "Matplotlib is building the font cache; this may take a moment.\n"
     ]
    }
   ],
   "source": [
    "import matplotlib.pyplot as plt"
   ]
  },
  {
   "cell_type": "code",
   "execution_count": 15,
   "metadata": {},
   "outputs": [],
   "source": [
    "file_path = \"Baltimore_City_Employee_Salaries_2011.csv\""
   ]
  },
  {
   "cell_type": "code",
   "execution_count": 16,
   "metadata": {},
   "outputs": [
    {
     "data": {
      "text/plain": [
       "<matplotlib.collections.PathCollection at 0x20d46b86f10>"
      ]
     },
     "execution_count": 16,
     "metadata": {},
     "output_type": "execute_result"
    },
    {
     "data": {
      "image/png": "[encoded data removed]",
      "text/plain": [
       "<Figure size 640x480 with 1 Axes>"
      ]
     },
     "metadata": {},
     "output_type": "display_data"
    }
   ],
   "source": [
    "plt.scatter(df['AnnualSalary'], df['GrossPay'], alpha=0.5, s=10, marker='o')\n"
   ]
  },
  {
   "cell_type": "code",
   "execution_count": 19,
   "metadata": {},
   "outputs": [
    {
     "data": {
      "text/plain": [
       "Text(0.5, 1.0, 'Scatter Plot of Annual Salary vs Gross Pay')"
      ]
     },
     "execution_count": 19,
     "metadata": {},
     "output_type": "execute_result"
    },
    {
     "data": {
      "image/png": "[encoded data removed]",
      "text/plain": [
       "<Figure size 640x480 with 1 Axes>"
      ]
     },
     "metadata": {},
     "output_type": "display_data"
    }
   ],
   "source": [
    "# Labels and title\n",
    "plt.xlabel(\"Annual Salary ($)\")\n",
    "plt.ylabel(\"Gross Pay ($)\")\n",
    "plt.title(\"Scatter Plot of Annual Salary vs Gross Pay\")\n"
   ]
  },
  {
   "cell_type": "code",
   "execution_count": 20,
   "metadata": {},
   "outputs": [
    {
     "name": "stdout",
     "output_type": "stream",
     "text": [
      "                 Name                       JobTitle AgencyID  \\\n",
      "0    Aaron,Patricia G  Facilities/Office Services II   A03031   \n",
      "1       Aaron,Petra L     ASSISTANT STATE'S ATTORNEY   A29005   \n",
      "2  Abaineh,Yohannes T                 EPIDEMIOLOGIST   A65026   \n",
      "3  Abdal-Rahim,Naim A                EMT Firefighter   A64063   \n",
      "4      Abdi,Ezekiel W                 POLICE OFFICER   A99398   \n",
      "\n",
      "                    Agency    HireDate  AnnualSalary  GrossPay  \n",
      "0       OED-Employment Dev  10/24/1979       50845.0  45505.94  \n",
      "1  States Attorneys Office  09/25/2006       56595.0  51588.89  \n",
      "2   HLTH-Health Department  07/23/2009       56500.0  50633.26  \n",
      "3    Fire Academy Recruits  03/30/2011       33476.0   3888.95  \n",
      "4        Police Department  06/14/2007       50919.0  51421.73  \n"
     ]
    }
   ],
   "source": [
    "print(df.head(5))  # Shows the first 5 rows"
   ]
  },
  {
   "cell_type": "code",
   "execution_count": 21,
   "metadata": {},
   "outputs": [],
   "source": [
    "import matplotlib.pyplot as plt"
   ]
  },
  {
   "cell_type": "code",
   "execution_count": 22,
   "metadata": {},
   "outputs": [
    {
     "ename": "IndentationError",
     "evalue": "unexpected indent (768118616.py, line 3)",
     "output_type": "error",
     "traceback": [
      "  \u001b[36mCell\u001b[39m\u001b[36m \u001b[39m\u001b[32mIn[22]\u001b[39m\u001b[32m, line 3\u001b[39m\n\u001b[31m    \u001b[39m\u001b[31mplt.xlabel(\"Annual Salary ($)\")\u001b[39m\n    ^\n\u001b[31mIndentationError\u001b[39m\u001b[31m:\u001b[39m unexpected indent\n"
     ]
    }
   ],
   "source": [
    "plt.scatter(df['AnnualSalary'], df['GrossPay'], alpha=0.5, s=10, marker='o')\n",
    "    \n",
    "    plt.xlabel(\"Annual Salary ($)\")\n",
    "    plt.ylabel(\"Gross Pay ($)\")\n",
    "    plt.title(\"Scatter Plot of Annual Salary vs Gross Pay\")"
   ]
  },
  {
   "cell_type": "code",
   "execution_count": 23,
   "metadata": {},
   "outputs": [
    {
     "data": {
      "text/plain": [
       "<matplotlib.collections.PathCollection at 0x20d46c5f250>"
      ]
     },
     "execution_count": 23,
     "metadata": {},
     "output_type": "execute_result"
    },
    {
     "data": {
      "image/png": "[encoded data removed]",
      "text/plain": [
       "<Figure size 640x480 with 1 Axes>"
      ]
     },
     "metadata": {},
     "output_type": "display_data"
    }
   ],
   "source": [
    "plt.scatter(df['AnnualSalary'], df['GrossPay'], alpha=0.5, s=10, marker='o')"
   ]
  },
  {
   "cell_type": "code",
   "execution_count": 24,
   "metadata": {},
   "outputs": [
    {
     "ename": "IndentationError",
     "evalue": "unexpected indent (182460056.py, line 2)",
     "output_type": "error",
     "traceback": [
      "  \u001b[36mCell\u001b[39m\u001b[36m \u001b[39m\u001b[32mIn[24]\u001b[39m\u001b[32m, line 2\u001b[39m\n\u001b[31m    \u001b[39m\u001b[31mplt.ylabel(\"Gross Pay ($)\")\u001b[39m\n    ^\n\u001b[31mIndentationError\u001b[39m\u001b[31m:\u001b[39m unexpected indent\n"
     ]
    }
   ],
   "source": [
    " plt.xlabel(\"Annual Salary ($)\")\n",
    "    plt.ylabel(\"Gross Pay ($)\")\n",
    "    plt.title(\"Scatter Plot of Annual Salary vs Gross Pay\")"
   ]
  },
  {
   "cell_type": "code",
   "execution_count": 26,
   "metadata": {},
   "outputs": [
    {
     "name": "stdout",
     "output_type": "stream",
     "text": [
      "<class 'pandas.core.frame.DataFrame'>\n",
      "RangeIndex: 14454 entries, 0 to 14453\n",
      "Data columns (total 2 columns):\n",
      " #   Column        Non-Null Count  Dtype  \n",
      "---  ------        --------------  -----  \n",
      " 0   AnnualSalary  14454 non-null  float64\n",
      " 1   GrossPay      14454 non-null  float64\n",
      "dtypes: float64(2)\n",
      "memory usage: 226.0 KB\n",
      "None\n"
     ]
    }
   ],
   "source": [
    "print(df[['AnnualSalary', 'GrossPay']].info())  # Check data types"
   ]
  },
  {
   "cell_type": "code",
   "execution_count": 27,
   "metadata": {},
   "outputs": [
    {
     "name": "stdout",
     "output_type": "stream",
     "text": [
      "        AnnualSalary       GrossPay\n",
      "count   14454.000000   14454.000000\n",
      "mean    46006.618203   42322.026667\n",
      "std     19903.012135   22702.528299\n",
      "min       377.000000       7.250000\n",
      "25%     31609.000000   27607.822500\n",
      "50%     43614.000000   41096.140000\n",
      "75%     59916.000000   58325.515000\n",
      "max    238772.000000  170422.990000\n"
     ]
    }
   ],
   "source": [
    "print(df[['AnnualSalary', 'GrossPay']].describe())"
   ]
  },
  {
   "cell_type": "code",
   "execution_count": null,
   "metadata": {},
   "outputs": [],
   "source": []
  },
  {
   "cell_type": "code",
   "execution_count": null,
   "metadata": {},
   "outputs": [],
   "source": [
    "df[['AnnualSalary', 'GrossPay']].hist(bins=50, figsize=(10, 5))\n",
    "plt.show()"
   ]
  },
  {
   "cell_type": "code",
   "execution_count": 28,
   "metadata": {},
   "outputs": [
    {
     "data": {
      "text/plain": [
       "<matplotlib.collections.PathCollection at 0x20d47444ed0>"
      ]
     },
     "execution_count": 28,
     "metadata": {},
     "output_type": "execute_result"
    },
    {
     "data": {
      "image/png": "[encoded data removed]",
      "text/plain": [
       "<Figure size 1000x600 with 1 Axes>"
      ]
     },
     "metadata": {},
     "output_type": "display_data"
    }
   ],
   "source": [
    "plt.figure(figsize=(10, 6))\n",
    "plt.scatter(df['AnnualSalary'], df['GrossPay'], alpha=0.5, s=10, marker='o')"
   ]
  },
  {
   "cell_type": "code",
   "execution_count": 30,
   "metadata": {},
   "outputs": [
    {
     "data": {
      "text/plain": [
       "Text(0.5, 1.0, 'Scatter Plot of Annual Salary vs Gross Pay (Log Scale)')"
      ]
     },
     "execution_count": 30,
     "metadata": {},
     "output_type": "execute_result"
    },
    {
     "data": {
      "image/png": "[encoded data removed]",
      "text/plain": [
       "<Figure size 640x480 with 1 Axes>"
      ]
     },
     "metadata": {},
     "output_type": "display_data"
    }
   ],
   "source": [
    "plt.xlabel(\"Annual Salary ($)\")\n",
    "plt.ylabel(\"Gross Pay ($)\")\n",
    "plt.title(\"Scatter Plot of Annual Salary vs Gross Pay (Log Scale)\")\n"
   ]
  },
  {
   "cell_type": "code",
   "execution_count": 31,
   "metadata": {},
   "outputs": [],
   "source": [
    "plt.show()"
   ]
  },
  {
   "cell_type": "code",
   "execution_count": 32,
   "metadata": {},
   "outputs": [],
   "source": [
    "df_filtered = df[(df['AnnualSalary'] > 10000) & (df['GrossPay'] > 10000)]"
   ]
  },
  {
   "cell_type": "code",
   "execution_count": 33,
   "metadata": {},
   "outputs": [
    {
     "data": {
      "text/plain": [
       "<matplotlib.collections.PathCollection at 0x20d48745990>"
      ]
     },
     "execution_count": 33,
     "metadata": {},
     "output_type": "execute_result"
    },
    {
     "data": {
      "image/png": "[encoded data removed]",
      "text/plain": [
       "<Figure size 1000x600 with 1 Axes>"
      ]
     },
     "metadata": {},
     "output_type": "display_data"
    }
   ],
   "source": [
    "plt.figure(figsize=(10, 6))\n",
    "plt.scatter(df_filtered['AnnualSalary'], df_filtered['GrossPay'], alpha=0.5, s=10, marker='o')"
   ]
  },
  {
   "cell_type": "code",
   "execution_count": 34,
   "metadata": {},
   "outputs": [
    {
     "data": {
      "text/plain": [
       "Text(0.5, 1.0, 'Filtered Scatter Plot of Annual Salary vs Gross Pay')"
      ]
     },
     "execution_count": 34,
     "metadata": {},
     "output_type": "execute_result"
    },
    {
     "data": {
      "image/png": "[encoded data removed]",
      "text/plain": [
       "<Figure size 640x480 with 1 Axes>"
      ]
     },
     "metadata": {},
     "output_type": "display_data"
    }
   ],
   "source": [
    "plt.xlabel(\"Annual Salary ($)\")\n",
    "plt.ylabel(\"Gross Pay ($)\")\n",
    "plt.title(\"Filtered Scatter Plot of Annual Salary vs Gross Pay\")"
   ]
  },
  {
   "cell_type": "markdown",
   "metadata": {},
   "source": [
    "# Look for a Linear Relationship\n",
    "\n",
    "It seems like there is a linear relationship in there, but it's obscured by a lot of noise.\n",
    "\n",
    "Let's get a vibe for the data, and what we should expect to see in our machine generated model.\n",
    "\n",
    "We will extract a tiny sample of it and do an approximation of the Theil-Sen algorithm by hand.\n",
    "\n",
    "Note that because we are _sampling_ the data, everyone is going to get a different subset of the data here."
   ]
  },
  {
   "cell_type": "markdown",
   "metadata": {},
   "source": [
    "The next cell creates an image"
   ]
  },
  {
   "cell_type": "code",
   "execution_count": 60,
   "metadata": {},
   "outputs": [
    {
     "data": {
      "image/png": "[encoded data removed]",
      "text/plain": [
       "<Figure size 2000x1600 with 1 Axes>"
      ]
     },
     "metadata": {},
     "output_type": "display_data"
    }
   ],
   "source": [
    "fig, ax = plt.subplots(figsize=(20,16))\n",
    "tiny_sample.plot.scatter(x='AnnualSalary', y='GrossPay', ax=ax)\n",
    "for name, details in tiny_sample.iterrows():\n",
    "    ax.annotate(text=name, xy=(details.AnnualSalary,details.GrossPay), xytext=(details.AnnualSalary+5000, details.GrossPay-5000),\n",
    "                arrowprops=dict(arrowstyle=\"-\", color='black')\n",
    "               )# Extract a small random sample (e.g., 20 rows)\n",
    "sample_df = df.sample(n=20, random_state=42)\n"
   ]
  },
  {
   "cell_type": "code",
   "execution_count": 61,
   "metadata": {},
   "outputs": [],
   "source": [
    "# Get pairs of points to compute slopes for Theil-Sen estimator\n",
    "pairs = list(combinations(sample_df.index, 2))\n"
   ]
  },
  {
   "cell_type": "code",
   "execution_count": 62,
   "metadata": {},
   "outputs": [],
   "source": [
    "# Compute slopes for each pair (Theil-Sen method)\n",
    "slopes = [\n",
    "    (sample_df.loc[j, 'GrossPay'] - sample_df.loc[i, 'GrossPay']) /\n",
    "    (sample_df.loc[j, 'AnnualSalary'] - sample_df.loc[i, 'AnnualSalary'])\n",
    "    for i, j in pairs if sample_df.loc[j, 'AnnualSalary'] != sample_df.loc[i, 'AnnualSalary']\n",
    "]"
   ]
  },
  {
   "cell_type": "code",
   "execution_count": 63,
   "metadata": {},
   "outputs": [
    {
     "name": "stdout",
     "output_type": "stream",
     "text": [
      "[np.float64(0.8458964420592325), np.float64(0.4133593224895814), np.float64(0.9112586715572919), np.float64(1.0880690090264968), np.float64(0.679583026218806), np.float64(1.032509971386456), np.float64(0.9077780273254723), np.float64(-0.089013408376096), np.float64(1.1735085511906422), np.float64(0.9602030869212022), np.float64(1.0632980604934197), np.float64(0.6071830859602706), np.float64(0.5054442988204467), np.float64(1.2582862953138814), np.float64(1.016663907645393), np.float64(0.9975289685078551), np.float64(1.0111469259319024), np.float64(1.009816644928263), np.float64(1.0164243290313937), np.float64(1.0995538037051635), np.float64(0.7377983647632861), np.float64(0.5918384074941452), np.float64(0.755880227508463), np.float64(2.3089921821889874), np.float64(0.7237382694155028), np.float64(0.7238849402665859), np.float64(0.47172920325722495), np.float64(1.3228845092629091), np.float64(-0.20683988967919847), np.float64(1.1425224271465981), np.float64(0.7916408371276996), np.float64(2.2764354066985644), np.float64(2.230554574355352), np.float64(0.49373947498761733), np.float64(1.7241616638078905), np.float64(-16.35192105263159), np.float64(1.2712758531060862), np.float64(1.6372236377891027), np.float64(2.8405708798882685), np.float64(0.6160697849686512), np.float64(1.3272473923337813), np.float64(1.5292160175720202), np.float64(0.26828385678091665), np.float64(2.8920164108798057), np.float64(1.1739973722244121), np.float64(1.5865267031004815), np.float64(0.9956661727064532), np.float64(0.44457526212902077), np.float64(1.559947446726819), np.float64(1.3059126063418407), np.float64(1.653177429088715), np.float64(1.267469594789325), np.float64(1.3649223689475791), np.float64(1.1879774765300855), np.float64(0.09728328865058139), np.float64(0.7596592114873151), np.float64(1.1769862232779096), np.float64(0.8543172075933855), np.float64(0.7171050348616779), np.float64(-0.6420452663538497), np.float64(1.0042813543499336), np.float64(1.5240268213120691), np.float64(3.3496583962603386), np.float64(0.8166033871362193), np.float64(1.5348894114656157), np.float64(1.1435975609756097), np.float64(1.706517038007864), np.float64(1.1134330856536294), np.float64(1.1770039226295144), np.float64(1.0790835451457348), np.float64(0.8032008635502488), np.float64(0.9876596411501998), np.float64(0.29964642330987085), np.float64(0.8212188989379666), np.float64(3.237479484173505), np.float64(0.8786983017292047), np.float64(1.0232737395122715), np.float64(-5.238914454277285), np.float64(0.9306307550644568), np.float64(1.3558685733363007), np.float64(0.9585160448940879), np.float64(0.749698459086079), np.float64(0.9564332067656197), np.float64(0.9261042467033539), np.float64(0.9847254847229082), np.float64(0.8534961598854909), np.float64(0.7617424528301886), np.float64(0.7916159154521764), np.float64(0.8333186354142491), np.float64(0.8275053277300881), np.float64(0.8379169759042105), np.float64(0.6564467085088699), np.float64(0.7129208380378871), np.float64(0.9941470658912865), np.float64(0.8452812249049735), np.float64(0.7978746082333804), np.float64(0.8489364420312998), np.float64(0.8303019930626309), np.float64(0.8769305972231912), np.float64(1.20412319101818), np.float64(0.9026511797289786), np.float64(0.9098784095975357), np.float64(0.4697368034112631), np.float64(0.9521013074453928), np.float64(1.4305299819562753), np.float64(0.9577078605706633), np.float64(2.258047609905932), np.float64(4.309504504504501), np.float64(1.0871913545949548), np.float64(0.724991289198607), np.float64(1.1769444444444441), np.float64(0.981166912149), np.float64(0.7239455366955672), np.float64(-0.17713660578386584), np.float64(1.0136219391257915), np.float64(1.6886318482841658), np.float64(2.426483914816493), np.float64(0.8183965642742758), np.float64(1.57214010390481), np.float64(1.1682078666319353), np.float64(2.6872374911909813), np.float64(1.1319421722584315), np.float64(1.2170668288603361), np.float64(1.088154408857256), np.float64(0.896166909090909), np.float64(0.8527266252925018), np.float64(0.8866200507614211), np.float64(0.4587911932820548), np.float64(2.765431088735056), np.float64(1.1282510265054082), np.float64(0.8880928182325653), np.float64(0.8054645208485736), np.float64(0.8916498552600823), np.float64(0.8652255549020889), np.float64(0.9252204315760721), np.float64(0.8147712397534473), np.float64(0.8645579831932771), np.float64(-13.82604513064133), np.float64(0.9982763243837877), np.float64(1.3101299478498762), np.float64(0.8790119013537279), np.float64(0.4317842696629219), np.float64(0.8872319237471993), np.float64(0.8190042913792168), np.float64(0.9426957567804025), np.float64(0.7845034229079393), np.float64(1.2172120658135284), np.float64(0.9029105229265393), np.float64(5.62058612109483), np.float64(0.5911134842659831), np.float64(0.9178575749022136), np.float64(0.20786714328269218), np.float64(0.8088067355530041), np.float64(1.2253221957040574), np.float64(1.983158799059504), np.float64(0.9594549757251946), np.float64(1.5387663317666336), np.float64(0.8927161182375909), np.float64(1.4174315789473673), np.float64(0.9038700129493744), np.float64(0.7357213089568297), np.float64(0.9701895328208162), np.float64(0.5812478701012329), np.float64(1.682247656865894), np.float64(1.4034584268711086), np.float64(2.489917709583405), np.float64(1.341441979835014), np.float64(1.5209529230944385), np.float64(1.2197865323766657), np.float64(1.1687851355562482), np.float64(0.9438098617855809), np.float64(0.8925461357789958), np.float64(0.9436975142467574), np.float64(0.9287951071624069), np.float64(0.9643079041291823), np.float64(2.3008505639097745), np.float64(1.5164558699324324), np.float64(3.0151233151706336), np.float64(1.8520992686728208), np.float64(-0.27036597986640315), np.float64(1.0469486948694868), np.float64(0.9420567375886529), np.float64(1.0618454154253556), np.float64(1.0159071888664255), np.float64(1.029015017255853), np.float64(1.0392781660132946), np.float64(1.0300394416698682), np.float64(1.0166100123609394), np.float64(1.0312872805771744), np.float64(1.0260700816520816)]\n"
     ]
    }
   ],
   "source": [
    "print(slopes) "
   ]
  },
  {
   "cell_type": "code",
   "execution_count": 64,
   "metadata": {},
   "outputs": [],
   "source": [
    "# Compute the Theil-Sen estimator (median slope)\n",
    "theil_sen_slope = np.median(slopes)\n"
   ]
  },
  {
   "cell_type": "code",
   "execution_count": 65,
   "metadata": {},
   "outputs": [
    {
     "name": "stdout",
     "output_type": "stream",
     "text": [
      "Theil-Sen Estimated Slope: 0.9672487184749993\n"
     ]
    }
   ],
   "source": [
    "print(\"Theil-Sen Estimated Slope:\", theil_sen_slope)"
   ]
  },
  {
   "cell_type": "code",
   "execution_count": 66,
   "metadata": {},
   "outputs": [],
   "source": [
    "# Compute the median intercept\n",
    "median_intercept = np.median(sample_df['GrossPay'] - theil_sen_slope * sample_df['AnnualSalary'])\n"
   ]
  },
  {
   "cell_type": "code",
   "execution_count": 67,
   "metadata": {},
   "outputs": [
    {
     "name": "stdout",
     "output_type": "stream",
     "text": [
      "-2118.3467668830745\n"
     ]
    }
   ],
   "source": [
    "print(median_intercept)"
   ]
  },
  {
   "cell_type": "code",
   "execution_count": 75,
   "metadata": {},
   "outputs": [],
   "source": [
    "## I need the plot on grid to calculate the pairs of points.# Sample Scatter Plot Data\n",
    "x = [20000, 25000, 30000, 40000, 50000, 60000, 70000, 80000, 90000, 100000, 125000]\n",
    "y = [15000, 18000, 27000, 35000, 45000, 55000, 65000, 75000, 82000, 90000, 110000]"
   ]
  },
  {
   "cell_type": "code",
   "execution_count": 73,
   "metadata": {},
   "outputs": [
    {
     "data": {
      "text/plain": [
       "<matplotlib.collections.PathCollection at 0x20d496ad3d0>"
      ]
     },
     "execution_count": 73,
     "metadata": {},
     "output_type": "execute_result"
    },
    {
     "data": {
      "image/png": "[encoded data removed]",
      "text/plain": [
       "<Figure size 800x600 with 1 Axes>"
      ]
     },
     "metadata": {},
     "output_type": "display_data"
    }
   ],
   "source": [
    "# Scatter plot of the sample data\n",
    "plt.figure(figsize=(8, 6))\n",
    "plt.scatter(sample_df['AnnualSalary'], sample_df['GrossPay'], color='blue', alpha=0.6, label=\"Sample Data\")"
   ]
  },
  {
   "cell_type": "code",
   "execution_count": 76,
   "metadata": {},
   "outputs": [
    {
     "data": {
      "image/png": "[encoded data removed]",
      "text/plain": [
       "<Figure size 640x480 with 1 Axes>"
      ]
     },
     "metadata": {},
     "output_type": "display_data"
    }
   ],
   "source": [
    "# Add a grid to mimic graph paper\n",
    "plt.grid(True, linestyle='--', linewidth=0.5, alpha=0.7)  # Dashed light grid\n"
   ]
  },
  {
   "cell_type": "code",
   "execution_count": 78,
   "metadata": {},
   "outputs": [],
   "source": [
    "# Show the plot\n",
    "plt.show()"
   ]
  },
  {
   "cell_type": "code",
   "execution_count": 69,
   "metadata": {},
   "outputs": [
    {
     "data": {
      "text/plain": [
       "[<matplotlib.lines.Line2D at 0x20d487dcbd0>]"
      ]
     },
     "execution_count": 69,
     "metadata": {},
     "output_type": "execute_result"
    },
    {
     "data": {
      "image/png": "[encoded data removed]",
      "text/plain": [
       "<Figure size 640x480 with 1 Axes>"
      ]
     },
     "metadata": {},
     "output_type": "display_data"
    }
   ],
   "source": [
    "# Theil-Sen regression line (y = mx + c)\n",
    "x_vals = np.linspace(sample_df['AnnualSalary'].min(), sample_df['AnnualSalary'].max(), 100)\n",
    "y_vals = theil_sen_slope * x_vals + median_intercept\n",
    "\n",
    "plt.plot(x_vals, y_vals, color='red', linestyle='--', label=\"Theil-Sen Regression\")\n"
   ]
  },
  {
   "cell_type": "markdown",
   "metadata": {},
   "source": [
    "Take that image, and open it in an editing tool that has a ruler tool.\n",
    "\n",
    "**Windows** You could use *Microsoft Paint* (type \"Paint\" in the start menu) or *Snipping Tool / Snip & Sketch* (Take a screenshot with Windows + Shift + S and then annotate directly on the captured image.)\n",
    "\n",
    "**macOS** Preview or Quick Look\n",
    "\n",
    "The next cell will give you a five random pairs of people to draw a line between. Draw them, and then **save the image into your\n",
    "github classroom repo so that we know that you've done it**."
   ]
  },
  {
   "cell_type": "code",
   "execution_count": null,
   "metadata": {},
   "outputs": [],
   "source": []
  },
  {
   "cell_type": "code",
   "execution_count": 37,
   "metadata": {},
   "outputs": [
    {
     "name": "stdout",
     "output_type": "stream",
     "text": [
      "       AnnualSalary   GrossPay\n",
      "3146        82259.0   79669.04\n",
      "14088       42011.0   45623.40\n",
      "14112       67381.0   73519.08\n",
      "6942        57177.0   56812.85\n",
      "13010       61653.0   57248.29\n",
      "7267       129744.0  111939.04\n",
      "7960        36127.0   32037.29\n",
      "5245        55544.0   55417.75\n",
      "6551        88300.0   79131.31\n",
      "5400        60800.0   54486.72\n"
     ]
    }
   ],
   "source": [
    "print(tiny_sample[['AnnualSalary', 'GrossPay']])"
   ]
  },
  {
   "cell_type": "code",
   "execution_count": 40,
   "metadata": {},
   "outputs": [],
   "source": [
    "# Extract sample data\n",
    "X = tiny_sample['AnnualSalary'].values\n",
    "y = tiny_sample['GrossPay'].values"
   ]
  },
  {
   "cell_type": "code",
   "execution_count": 44,
   "metadata": {},
   "outputs": [],
   "source": [
    "import numpy as np\n",
    "import pandas as pd\n",
    "import matplotlib.pyplot as plt\n",
    "from itertools import combinations  # Import combinations"
   ]
  },
  {
   "cell_type": "code",
   "execution_count": 45,
   "metadata": {},
   "outputs": [],
   "source": [
    "# Take a small random sample\n",
    "tiny_sample = df.sample(10, random_state=42)"
   ]
  },
  {
   "cell_type": "code",
   "execution_count": 46,
   "metadata": {},
   "outputs": [],
   "source": [
    "# Extract X (AnnualSalary) and y (GrossPay)\n",
    "X = tiny_sample['AnnualSalary'].values\n",
    "y = tiny_sample['GrossPay'].values"
   ]
  },
  {
   "cell_type": "code",
   "execution_count": 47,
   "metadata": {},
   "outputs": [],
   "source": [
    "# Compute all pairwise slopes\n",
    "slopes = []\n",
    "for (x1, y1), (x2, y2) in combinations(zip(X, y), 2):\n",
    "    if x2 != x1:  # Avoid division by zero\n",
    "        slopes.append((y2 - y1) / (x2 - x1))"
   ]
  },
  {
   "cell_type": "code",
   "execution_count": 48,
   "metadata": {},
   "outputs": [],
   "source": [
    "# The Theil-Sen estimate of slope is the median of all pairwise slopes\n",
    "median_slope = np.median(slopes)\n",
    "\n",
    "# Compute intercept as median of y - slope*x\n",
    "median_intercept = np.median(y - median_slope * X)"
   ]
  },
  {
   "cell_type": "code",
   "execution_count": 49,
   "metadata": {},
   "outputs": [
    {
     "name": "stdout",
     "output_type": "stream",
     "text": [
      "Theil-Sen Approximate Model: y = 0.83 * x + 7501.80\n"
     ]
    }
   ],
   "source": [
    "print(f\"Theil-Sen Approximate Model: y = {median_slope:.2f} * x + {median_intercept:.2f}\")"
   ]
  },
  {
   "cell_type": "code",
   "execution_count": 54,
   "metadata": {},
   "outputs": [],
   "source": [
    "import matplotlib.pyplot as plt\n"
   ]
  },
  {
   "cell_type": "code",
   "execution_count": 55,
   "metadata": {},
   "outputs": [],
   "source": [
    "# Sample a few data points to avoid overcrowding\n",
    "df_sample = df.sample(10, random_state=42)"
   ]
  },
  {
   "cell_type": "code",
   "execution_count": 56,
   "metadata": {},
   "outputs": [
    {
     "data": {
      "text/plain": [
       "<Figure size 1000x600 with 0 Axes>"
      ]
     },
     "execution_count": 56,
     "metadata": {},
     "output_type": "execute_result"
    },
    {
     "data": {
      "text/plain": [
       "<Figure size 1000x600 with 0 Axes>"
      ]
     },
     "metadata": {},
     "output_type": "display_data"
    }
   ],
   "source": [
    "plt.figure(figsize=(10, 6))"
   ]
  },
  {
   "cell_type": "markdown",
   "metadata": {},
   "source": [
    "### Get an estimate\n",
    "\n",
    "Which was the \"middle\" slope line on your diagram? i.e. what was the median gradient? \n",
    "\n",
    "(Write it in the next cell so that we know you did it. Note that it's unlikely that two students will get the same answer.)"
   ]
  },
  {
   "cell_type": "markdown",
   "metadata": {},
   "source": [
    "_Answer:_ "
   ]
  },
  {
   "cell_type": "markdown",
   "metadata": {},
   "source": [
    "To find out the \"middle\" slope line we need to find out the slope of all five pairs of points. According to my drawn diagram the slope for A= 0.714; B=0.5; C=0.75; D=2.0; E=1.0. SO median is 0.75. So the C line is the middle slope according to my diagram."
   ]
  },
  {
   "cell_type": "markdown",
   "metadata": {},
   "source": [
    "### A moment of reflection\n",
    "\n",
    "Does that mean that Baltimore employees typically get more pay than their salary, or less than their salary?\n",
    "\n",
    "(Write it in the next cell so that we know you did it. You might or might not have the same answer as your neighbour, but generally you will.)"
   ]
  },
  {
   "cell_type": "markdown",
   "metadata": {},
   "source": [
    "_Answer:_ "
   ]
  },
  {
   "cell_type": "markdown",
   "metadata": {},
   "source": [
    "According to Theil-Sen Estimator theory, the median is 0.75 which is less than 1 and if we consider annual and gross salaries where annual salary>gross salary it indicates Baltimore employees get paid less except police and fire service department as they get paid overtime or extra payment for night shifts. "
   ]
  },
  {
   "cell_type": "markdown",
   "metadata": {},
   "source": [
    "# Data Splitting\n",
    "\n",
    "We need to have train, validation and test data. (We actually should have done that before we did our manual Theil-Sen algorithm.)"
   ]
  },
  {
   "cell_type": "code",
   "execution_count": 1,
   "metadata": {},
   "outputs": [
    {
     "ename": "NameError",
     "evalue": "name 'sklearn' is not defined",
     "output_type": "error",
     "traceback": [
      "\u001b[31m---------------------------------------------------------------------------\u001b[39m",
      "\u001b[31mNameError\u001b[39m                                 Traceback (most recent call last)",
      "\u001b[36mCell\u001b[39m\u001b[36m \u001b[39m\u001b[32mIn[1]\u001b[39m\u001b[32m, line 1\u001b[39m\n\u001b[32m----> \u001b[39m\u001b[32m1\u001b[39m training_data, holdout_data = \u001b[43msklearn\u001b[49m.model_selection.train_test_split(salaries, test_size=\u001b[32m0.2\u001b[39m)\n\u001b[32m      2\u001b[39m validation_data, test_data = sklearn.model_selection.train_test_split(holdout_data, test_size=\u001b[32m0.5\u001b[39m)\n",
      "\u001b[31mNameError\u001b[39m: name 'sklearn' is not defined"
     ]
    }
   ],
   "source": [
    "training_data, holdout_data = sklearn.model_selection.train_test_split(salaries, test_size=0.2)\n",
    "validation_data, test_data = sklearn.model_selection.train_test_split(holdout_data, test_size=0.5)"
   ]
  },
  {
   "cell_type": "code",
   "execution_count": 9,
   "metadata": {},
   "outputs": [],
   "source": [
    "import pandas as pd"
   ]
  },
  {
   "cell_type": "code",
   "execution_count": 4,
   "metadata": {},
   "outputs": [],
   "source": [
    "# Loading the dataset\n",
    "file_path= \"Baltimore_City_Employee_Salaries_2011.csv\""
   ]
  },
  {
   "cell_type": "code",
   "execution_count": 6,
   "metadata": {},
   "outputs": [
    {
     "ename": "NameError",
     "evalue": "name 'pd' is not defined",
     "output_type": "error",
     "traceback": [
      "\u001b[31m---------------------------------------------------------------------------\u001b[39m",
      "\u001b[31mNameError\u001b[39m                                 Traceback (most recent call last)",
      "\u001b[36mCell\u001b[39m\u001b[36m \u001b[39m\u001b[32mIn[6]\u001b[39m\u001b[32m, line 1\u001b[39m\n\u001b[32m----> \u001b[39m\u001b[32m1\u001b[39m df=\u001b[43mpd\u001b[49m.read_csv(file_path)\n",
      "\u001b[31mNameError\u001b[39m: name 'pd' is not defined"
     ]
    }
   ],
   "source": [
    "df=pd.read_csv(file_path)"
   ]
  },
  {
   "cell_type": "code",
   "execution_count": 7,
   "metadata": {},
   "outputs": [
    {
     "ename": "NameError",
     "evalue": "name 'pd' is not defined",
     "output_type": "error",
     "traceback": [
      "\u001b[31m---------------------------------------------------------------------------\u001b[39m",
      "\u001b[31mNameError\u001b[39m                                 Traceback (most recent call last)",
      "\u001b[36mCell\u001b[39m\u001b[36m \u001b[39m\u001b[32mIn[7]\u001b[39m\u001b[32m, line 1\u001b[39m\n\u001b[32m----> \u001b[39m\u001b[32m1\u001b[39m df=\u001b[43mpd\u001b[49m.read_csv(file_path)\n",
      "\u001b[31mNameError\u001b[39m: name 'pd' is not defined"
     ]
    }
   ],
   "source": [
    "df=pd.read_csv(file_path)"
   ]
  },
  {
   "cell_type": "code",
   "execution_count": 10,
   "metadata": {},
   "outputs": [],
   "source": [
    "df= pd.read_csv(file_path)"
   ]
  },
  {
   "cell_type": "code",
   "execution_count": 11,
   "metadata": {},
   "outputs": [
    {
     "data": {
      "text/plain": [
       "<bound method NDFrame.head of                      Name                        JobTitle AgencyID  \\\n",
       "0        Aaron,Patricia G   Facilities/Office Services II   A03031   \n",
       "1           Aaron,Petra L      ASSISTANT STATE'S ATTORNEY   A29005   \n",
       "2      Abaineh,Yohannes T                  EPIDEMIOLOGIST   A65026   \n",
       "3      Abdal-Rahim,Naim A                 EMT Firefighter   A64063   \n",
       "4          Abdi,Ezekiel W                  POLICE OFFICER   A99398   \n",
       "...                   ...                             ...      ...   \n",
       "14449      Lewis,Awanda S  SCHOOL HEALTH AIDE (10 MONTHS)   A65104   \n",
       "14450     Lewis,Bernard T              FIRE PUMP OPERATOR   A64120   \n",
       "14451       Lewis,Brian C                  POLICE OFFICER   A99322   \n",
       "14452       Lewis,Capri T               JTPA TRAINEE MOMR   W03T19   \n",
       "14453      Lewis,Carlos E                    CARPENTER II   A50212   \n",
       "\n",
       "                        Agency    HireDate AnnualSalary   GrossPay  \n",
       "0           OED-Employment Dev  10/24/1979    $50845.00  $45505.94  \n",
       "1      States Attorneys Office  09/25/2006    $56595.00  $51588.89  \n",
       "2       HLTH-Health Department  07/23/2009    $56500.00  $50633.26  \n",
       "3        Fire Academy Recruits  03/30/2011    $33476.00   $3888.95  \n",
       "4            Police Department  06/14/2007    $50919.00  $51421.73  \n",
       "...                        ...         ...          ...        ...  \n",
       "14449   HLTH-Health Department  07/01/2006    $23395.00  $21746.79  \n",
       "14450          Fire Department  03/26/1990    $61653.00  $59866.23  \n",
       "14451        Police Department  04/20/1998    $61672.00  $84219.58  \n",
       "14452               Youth Cust  06/11/2009    $15080.00   $1881.38  \n",
       "14453  DPW-Water & Waste Water  08/02/1993    $34643.00  $29709.64  \n",
       "\n",
       "[14454 rows x 7 columns]>"
      ]
     },
     "execution_count": 11,
     "metadata": {},
     "output_type": "execute_result"
    }
   ],
   "source": [
    "# Let see first few rows\n",
    "df.head"
   ]
  },
  {
   "cell_type": "code",
   "execution_count": 12,
   "metadata": {},
   "outputs": [
    {
     "name": "stdout",
     "output_type": "stream",
     "text": [
      "<bound method DataFrame.sum of         Name  JobTitle  AgencyID  Agency  HireDate  AnnualSalary  GrossPay\n",
      "0      False     False     False   False     False         False     False\n",
      "1      False     False     False   False     False         False     False\n",
      "2      False     False     False   False     False         False     False\n",
      "3      False     False     False   False     False         False     False\n",
      "4      False     False     False   False     False         False     False\n",
      "...      ...       ...       ...     ...       ...           ...       ...\n",
      "14449  False     False     False   False     False         False     False\n",
      "14450  False     False     False   False     False         False     False\n",
      "14451  False     False     False   False     False         False     False\n",
      "14452  False     False     False   False     False         False     False\n",
      "14453  False     False     False   False     False         False     False\n",
      "\n",
      "[14454 rows x 7 columns]>\n"
     ]
    }
   ],
   "source": [
    "# Before splitting the data, let's check if there are any missing values or categorical features which might need to either remove or fill with values.\n",
    "print(df.isnull().sum)"
   ]
  },
  {
   "cell_type": "code",
   "execution_count": 13,
   "metadata": {},
   "outputs": [
    {
     "name": "stdout",
     "output_type": "stream",
     "text": [
      "<class 'pandas.core.frame.DataFrame'>\n",
      "RangeIndex: 14454 entries, 0 to 14453\n",
      "Data columns (total 7 columns):\n",
      " #   Column        Non-Null Count  Dtype \n",
      "---  ------        --------------  ----- \n",
      " 0   Name          14454 non-null  object\n",
      " 1   JobTitle      14454 non-null  object\n",
      " 2   AgencyID      14454 non-null  object\n",
      " 3   Agency        14454 non-null  object\n",
      " 4   HireDate      14379 non-null  object\n",
      " 5   AnnualSalary  14454 non-null  object\n",
      " 6   GrossPay      14454 non-null  object\n",
      "dtypes: object(7)\n",
      "memory usage: 790.6+ KB\n"
     ]
    }
   ],
   "source": [
    "# Get dataset info\n",
    "df.info()"
   ]
  },
  {
   "cell_type": "code",
   "execution_count": null,
   "metadata": {},
   "outputs": [],
   "source": [
    "# From above data chart, we can see, there are some(75) values are missing in column named \"Hire Date\". Lets remove those rows with missing data"
   ]
  },
  {
   "cell_type": "code",
   "execution_count": 15,
   "metadata": {},
   "outputs": [],
   "source": [
    "df_cleaned = df.dropna(subset=['HireDate'])"
   ]
  },
  {
   "cell_type": "code",
   "execution_count": 17,
   "metadata": {},
   "outputs": [
    {
     "name": "stdout",
     "output_type": "stream",
     "text": [
      "['10/24/1979' '09/25/2006' '07/23/2009' ... '11/01/1995' '12/09/1976'\n",
      " '11/06/1997']\n"
     ]
    }
   ],
   "source": [
    "print(df['HireDate'].unique())"
   ]
  },
  {
   "cell_type": "code",
   "execution_count": 20,
   "metadata": {},
   "outputs": [],
   "source": [
    "missing_hiredate = df['HireDate'].isnull().sum()"
   ]
  },
  {
   "cell_type": "code",
   "execution_count": 23,
   "metadata": {},
   "outputs": [
    {
     "name": "stdout",
     "output_type": "stream",
     "text": [
      "<class 'pandas.core.frame.DataFrame'>\n",
      "RangeIndex: 14454 entries, 0 to 14453\n",
      "Data columns (total 7 columns):\n",
      " #   Column        Non-Null Count  Dtype \n",
      "---  ------        --------------  ----- \n",
      " 0   Name          14454 non-null  object\n",
      " 1   JobTitle      14454 non-null  object\n",
      " 2   AgencyID      14454 non-null  object\n",
      " 3   Agency        14454 non-null  object\n",
      " 4   HireDate      14379 non-null  object\n",
      " 5   AnnualSalary  14454 non-null  object\n",
      " 6   GrossPay      14454 non-null  object\n",
      "dtypes: object(7)\n",
      "memory usage: 790.6+ KB\n"
     ]
    }
   ],
   "source": [
    "df.info()"
   ]
  },
  {
   "cell_type": "code",
   "execution_count": 24,
   "metadata": {},
   "outputs": [],
   "source": [
    "df = df.dropna(subset=['HireDate'])"
   ]
  },
  {
   "cell_type": "code",
   "execution_count": 25,
   "metadata": {},
   "outputs": [
    {
     "name": "stderr",
     "output_type": "stream",
     "text": [
      "C:\\Users\\Admin\\AppData\\Local\\Temp\\ipykernel_10360\\2221205933.py:1: SettingWithCopyWarning: \n",
      "A value is trying to be set on a copy of a slice from a DataFrame\n",
      "\n",
      "See the caveats in the documentation: https://pandas.pydata.org/pandas-docs/stable/user_guide/indexing.html#returning-a-view-versus-a-copy\n",
      "  df.dropna(subset=['HireDate'], inplace=True)\n"
     ]
    }
   ],
   "source": [
    "df.dropna(subset=['HireDate'], inplace=True)"
   ]
  },
  {
   "cell_type": "code",
   "execution_count": 26,
   "metadata": {},
   "outputs": [
    {
     "name": "stdout",
     "output_type": "stream",
     "text": [
      "Total Rows After Dropping: 14379\n"
     ]
    }
   ],
   "source": [
    "print(f\"Total Rows After Dropping: {df.shape[0]}\")"
   ]
  },
  {
   "cell_type": "code",
   "execution_count": 27,
   "metadata": {},
   "outputs": [
    {
     "name": "stdout",
     "output_type": "stream",
     "text": [
      "<class 'pandas.core.frame.DataFrame'>\n",
      "Index: 14379 entries, 0 to 14453\n",
      "Data columns (total 7 columns):\n",
      " #   Column        Non-Null Count  Dtype \n",
      "---  ------        --------------  ----- \n",
      " 0   Name          14379 non-null  object\n",
      " 1   JobTitle      14379 non-null  object\n",
      " 2   AgencyID      14379 non-null  object\n",
      " 3   Agency        14379 non-null  object\n",
      " 4   HireDate      14379 non-null  object\n",
      " 5   AnnualSalary  14379 non-null  object\n",
      " 6   GrossPay      14379 non-null  object\n",
      "dtypes: object(7)\n",
      "memory usage: 898.7+ KB\n"
     ]
    }
   ],
   "source": [
    "df.info()"
   ]
  },
  {
   "cell_type": "code",
   "execution_count": 28,
   "metadata": {},
   "outputs": [
    {
     "name": "stdout",
     "output_type": "stream",
     "text": [
      "0    10/24/1979\n",
      "1    09/25/2006\n",
      "2    07/23/2009\n",
      "3    03/30/2011\n",
      "4    06/14/2007\n",
      "5    01/17/1995\n",
      "6    07/27/2009\n",
      "7    04/14/2008\n",
      "8    12/01/1986\n",
      "9    06/10/2004\n",
      "Name: HireDate, dtype: object\n"
     ]
    }
   ],
   "source": [
    "print(df['HireDate'].head(10))"
   ]
  },
  {
   "cell_type": "code",
   "execution_count": 29,
   "metadata": {},
   "outputs": [
    {
     "name": "stdout",
     "output_type": "stream",
     "text": [
      "['10/24/1979' '09/25/2006' '07/23/2009' ... '11/01/1995' '12/09/1976'\n",
      " '11/06/1997']\n"
     ]
    }
   ],
   "source": [
    "print(df['HireDate'].unique())"
   ]
  },
  {
   "cell_type": "code",
   "execution_count": 30,
   "metadata": {},
   "outputs": [
    {
     "name": "stderr",
     "output_type": "stream",
     "text": [
      "C:\\Users\\Admin\\AppData\\Local\\Temp\\ipykernel_10360\\353317277.py:2: SettingWithCopyWarning: \n",
      "A value is trying to be set on a copy of a slice from a DataFrame.\n",
      "Try using .loc[row_indexer,col_indexer] = value instead\n",
      "\n",
      "See the caveats in the documentation: https://pandas.pydata.org/pandas-docs/stable/user_guide/indexing.html#returning-a-view-versus-a-copy\n",
      "  df['HireDate_converted'] = pd.to_datetime(df['HireDate'], errors='coerce')\n"
     ]
    }
   ],
   "source": [
    "# Convert HireDate to datetime, setting invalid formats as NaT\n",
    "df['HireDate_converted'] = pd.to_datetime(df['HireDate'], errors='coerce')"
   ]
  },
  {
   "cell_type": "code",
   "execution_count": 31,
   "metadata": {},
   "outputs": [],
   "source": [
    "# Find rows where conversion failed (invalid dates)\n",
    "invalid_dates = df[df['HireDate_converted'].isna()]"
   ]
  },
  {
   "cell_type": "code",
   "execution_count": 32,
   "metadata": {},
   "outputs": [
    {
     "name": "stdout",
     "output_type": "stream",
     "text": [
      "Unusual or invalid date formats found:\n",
      "Empty DataFrame\n",
      "Columns: [HireDate]\n",
      "Index: []\n"
     ]
    }
   ],
   "source": [
    "# Display unusual date formats\n",
    "print(\"Unusual or invalid date formats found:\")\n",
    "print(invalid_dates[['HireDate']])"
   ]
  },
  {
   "cell_type": "code",
   "execution_count": 33,
   "metadata": {},
   "outputs": [
    {
     "name": "stdout",
     "output_type": "stream",
     "text": [
      "AnnualSalary    object\n",
      "GrossPay        object\n",
      "dtype: object\n"
     ]
    }
   ],
   "source": [
    "#lets convert 'Annual salaries' and 'Gross salaries' as numeric taking off the '$' using float.ExceptionGrou\n",
    "print(df[['AnnualSalary', 'GrossPay']].dtypes)"
   ]
  },
  {
   "cell_type": "code",
   "execution_count": 42,
   "metadata": {},
   "outputs": [
    {
     "ename": "NameError",
     "evalue": "name 'salaries' is not defined",
     "output_type": "error",
     "traceback": [
      "\u001b[31m---------------------------------------------------------------------------\u001b[39m",
      "\u001b[31mNameError\u001b[39m                                 Traceback (most recent call last)",
      "\u001b[36mCell\u001b[39m\u001b[36m \u001b[39m\u001b[32mIn[42]\u001b[39m\u001b[32m, line 1\u001b[39m\n\u001b[32m----> \u001b[39m\u001b[32m1\u001b[39m salaries.AnnualSalary = \u001b[43msalaries\u001b[49m.AnnualSalary.str.strip(\u001b[33m'\u001b[39m\u001b[33m$\u001b[39m\u001b[33m'\u001b[39m).astype(\u001b[38;5;28mfloat\u001b[39m)\n",
      "\u001b[31mNameError\u001b[39m: name 'salaries' is not defined"
     ]
    }
   ],
   "source": [
    "salaries.AnnualSalary = salaries.AnnualSalary.str.strip('$').astype(float)"
   ]
  },
  {
   "cell_type": "code",
   "execution_count": 46,
   "metadata": {},
   "outputs": [
    {
     "name": "stderr",
     "output_type": "stream",
     "text": [
      "C:\\Users\\Admin\\AppData\\Local\\Temp\\ipykernel_10360\\17241339.py:1: SettingWithCopyWarning: \n",
      "A value is trying to be set on a copy of a slice from a DataFrame.\n",
      "Try using .loc[row_indexer,col_indexer] = value instead\n",
      "\n",
      "See the caveats in the documentation: https://pandas.pydata.org/pandas-docs/stable/user_guide/indexing.html#returning-a-view-versus-a-copy\n",
      "  df['AnnualSalary'] = df['AnnualSalary'].astype(str).str.replace('[\\$,]', '', regex=True).astype(float)\n"
     ]
    }
   ],
   "source": [
    "df['AnnualSalary'] = df['AnnualSalary'].astype(str).str.replace('[\\$,]', '', regex=True).astype(float)"
   ]
  },
  {
   "cell_type": "code",
   "execution_count": 47,
   "metadata": {},
   "outputs": [
    {
     "name": "stderr",
     "output_type": "stream",
     "text": [
      "C:\\Users\\Admin\\AppData\\Local\\Temp\\ipykernel_10360\\2784792090.py:1: SettingWithCopyWarning: \n",
      "A value is trying to be set on a copy of a slice from a DataFrame.\n",
      "Try using .loc[row_indexer,col_indexer] = value instead\n",
      "\n",
      "See the caveats in the documentation: https://pandas.pydata.org/pandas-docs/stable/user_guide/indexing.html#returning-a-view-versus-a-copy\n",
      "  df['GrossPay'] = df['GrossPay'].astype(str).str.replace('[\\$,]', '', regex=True).astype(float)\n"
     ]
    }
   ],
   "source": [
    "df['GrossPay'] = df['GrossPay'].astype(str).str.replace('[\\$,]', '', regex=True).astype(float)"
   ]
  },
  {
   "cell_type": "code",
   "execution_count": 48,
   "metadata": {},
   "outputs": [
    {
     "name": "stdout",
     "output_type": "stream",
     "text": [
      "AnnualSalary    float64\n",
      "GrossPay        float64\n",
      "dtype: object\n"
     ]
    }
   ],
   "source": [
    "print(df[['AnnualSalary', 'GrossPay']].dtypes)"
   ]
  },
  {
   "cell_type": "code",
   "execution_count": 49,
   "metadata": {},
   "outputs": [
    {
     "name": "stdout",
     "output_type": "stream",
     "text": [
      "   AnnualSalary  GrossPay\n",
      "0       50845.0  45505.94\n",
      "1       56595.0  51588.89\n",
      "2       56500.0  50633.26\n",
      "3       33476.0   3888.95\n",
      "4       50919.0  51421.73\n",
      "5       43278.0  39116.93\n",
      "6       26388.0  23758.19\n",
      "7       38582.0  31096.45\n",
      "8       34453.0  31273.03\n",
      "9       37677.0  36844.61\n"
     ]
    }
   ],
   "source": [
    "print(df[['AnnualSalary', 'GrossPay']].head(10))"
   ]
  },
  {
   "cell_type": "code",
   "execution_count": 50,
   "metadata": {},
   "outputs": [
    {
     "name": "stdout",
     "output_type": "stream",
     "text": [
      "    AnnualSalary  GrossPay\n",
      "0        50845.0  45505.94\n",
      "1        56595.0  51588.89\n",
      "2        56500.0  50633.26\n",
      "3        33476.0   3888.95\n",
      "4        50919.0  51421.73\n",
      "5        43278.0  39116.93\n",
      "6        26388.0  23758.19\n",
      "7        38582.0  31096.45\n",
      "8        34453.0  31273.03\n",
      "9        37677.0  36844.61\n",
      "10       63800.0  56930.02\n",
      "11       55497.0  49947.91\n",
      "12       95000.0  79389.60\n",
      "13       45090.0  41535.38\n",
      "14       29723.0  26407.92\n",
      "15       55544.0  48984.40\n",
      "16       29763.0  27477.21\n",
      "17       28891.0  26998.37\n",
      "18       32853.0  29696.79\n",
      "19       45661.0  41277.93\n"
     ]
    }
   ],
   "source": [
    "print(df[['AnnualSalary', 'GrossPay']].head(20))"
   ]
  },
  {
   "cell_type": "code",
   "execution_count": 51,
   "metadata": {},
   "outputs": [
    {
     "name": "stdout",
     "output_type": "stream",
     "text": [
      "    AnnualSalary  GrossPay\n",
      "0        50845.0  45505.94\n",
      "1        56595.0  51588.89\n",
      "2        56500.0  50633.26\n",
      "3        33476.0   3888.95\n",
      "4        50919.0  51421.73\n",
      "..           ...       ...\n",
      "95       42391.0  51754.08\n",
      "96       52192.0  50981.74\n",
      "97       59000.0  52325.40\n",
      "98       65600.0  44974.73\n",
      "99       59958.0  62148.05\n",
      "\n",
      "[100 rows x 2 columns]\n"
     ]
    }
   ],
   "source": [
    "print(df[['AnnualSalary', 'GrossPay']].head(100))"
   ]
  },
  {
   "cell_type": "code",
   "execution_count": 52,
   "metadata": {},
   "outputs": [],
   "source": [
    "#Lets create a sample\n",
    "df_sample = df.sample(frac=0.1, random_state=42)"
   ]
  },
  {
   "cell_type": "code",
   "execution_count": 53,
   "metadata": {},
   "outputs": [
    {
     "name": "stdout",
     "output_type": "stream",
     "text": [
      "                        Name                        JobTitle AgencyID  \\\n",
      "3322             Ray,Tommy W  Waste Water Opns Tech II Sanit   A50207   \n",
      "10905      Ford,Bernadette D  FINGERPRINT TECHNICIAN SUPERVI   A99363   \n",
      "3764   Rollhauser,Jennifer E                  POLICE OFFICER   A99226   \n",
      "12472            Henry,Scott                  POLICE OFFICER   A99065   \n",
      "13063       Jackson,Gerald F          TRAFFIC MAINT WORKER I   A49506   \n",
      "...                      ...                             ...      ...   \n",
      "1489     McLarney,Terrence P          POLICE COMMAND STAFF I   A99322   \n",
      "5042         Stern,Raymond A  FIREFIGHTER-PARAMEDIC APPRENTI   A64465   \n",
      "11463           Glee,Kevin D                  DEPUTY SHERIFF   A38001   \n",
      "135          Alford,Tameka N                  POLICE OFFICER   A99162   \n",
      "433           Ausby,Robert G                         LABORER   B70337   \n",
      "\n",
      "                        Agency    HireDate  AnnualSalary  GrossPay  \\\n",
      "3322   DPW-Water & Waste Water  10/25/1982       42011.0  43494.19   \n",
      "10905        Police Department  12/11/1970       48886.0  43341.82   \n",
      "3764         Police Department  01/03/2002       59388.0  55820.18   \n",
      "12472        Police Department  08/30/2000       59958.0  71117.93   \n",
      "13063           TRANS-Highways  09/19/2006       29326.0  24641.40   \n",
      "...                        ...         ...           ...       ...   \n",
      "1489         Police Department  08/29/1976       92282.0  77198.72   \n",
      "5042           Fire Department  01/15/2003       54032.0  55118.46   \n",
      "11463         Sheriff's Office  06/01/1995       48543.0  46838.47   \n",
      "135          Police Department  11/28/2006       54125.0  53795.11   \n",
      "433            DPW-Solid Waste  11/02/1998       28891.0  27404.97   \n",
      "\n",
      "      HireDate_converted  \n",
      "3322          1982-10-25  \n",
      "10905         1970-12-11  \n",
      "3764          2002-01-03  \n",
      "12472         2000-08-30  \n",
      "13063         2006-09-19  \n",
      "...                  ...  \n",
      "1489          1976-08-29  \n",
      "5042          2003-01-15  \n",
      "11463         1995-06-01  \n",
      "135           2006-11-28  \n",
      "433           1998-11-02  \n",
      "\n",
      "[1438 rows x 8 columns]\n"
     ]
    }
   ],
   "source": [
    "print(df_sample)"
   ]
  },
  {
   "cell_type": "code",
   "execution_count": 56,
   "metadata": {},
   "outputs": [
    {
     "name": "stdout",
     "output_type": "stream",
     "text": [
      "Retrieving notices: done\n",
      "Channels:\n",
      " - defaults\n",
      " - conda-forge\n",
      "Platform: win-64\n",
      "Collecting package metadata (repodata.json): ...working... done\n",
      "Solving environment: ...working... done\n",
      "\n",
      "## Package Plan ##\n",
      "\n",
      "  environment location: c:\\Users\\Admin\\anaconda3\\envs\\Jannat\n",
      "\n",
      "  added / updated specs:\n",
      "    - scikit-learn\n",
      "\n",
      "\n",
      "The following packages will be downloaded:\n",
      "\n",
      "    package                    |            build\n",
      "    ---------------------------|-----------------\n",
      "    joblib-1.4.2               |  py311haa95532_0         531 KB\n",
      "    scikit-learn-1.6.1         |  py311h585ebfc_0         9.7 MB\n",
      "    scipy-1.15.1               |  py311h9f229c6_0        30.0 MB\n",
      "    threadpoolctl-3.5.0        |  py311h746a85d_0          50 KB\n",
      "    ------------------------------------------------------------\n",
      "                                           Total:        40.3 MB\n",
      "\n",
      "The following NEW packages will be INSTALLED:\n",
      "\n",
      "  icc_rt             pkgs/main/win-64::icc_rt-2022.1.0-h6049295_2 \n",
      "  joblib             pkgs/main/win-64::joblib-1.4.2-py311haa95532_0 \n",
      "  scikit-learn       pkgs/main/win-64::scikit-learn-1.6.1-py311h585ebfc_0 \n",
      "  scipy              pkgs/main/win-64::scipy-1.15.1-py311h9f229c6_0 \n",
      "  threadpoolctl      pkgs/main/win-64::threadpoolctl-3.5.0-py311h746a85d_0 \n",
      "\n",
      "\n",
      "\n",
      "Downloading and Extracting Packages: ...working...\n",
      "scipy-1.15.1         | 30.0 MB   |            |   0% \n",
      "\n",
      "scikit-learn-1.6.1   | 9.7 MB    |            |   0% \u001b[A\n",
      "\n",
      "\n",
      "joblib-1.4.2         | 531 KB    |            |   0% \u001b[A\u001b[A\n",
      "\n",
      "\n",
      "\n",
      "threadpoolctl-3.5.0  | 50 KB     |            |   0% \u001b[A\u001b[A\u001b[A\n",
      "scipy-1.15.1         | 30.0 MB   |            |   0% \n",
      "\n",
      "scikit-learn-1.6.1   | 9.7 MB    |            |   0% \u001b[A\n",
      "\n",
      "\n",
      "joblib-1.4.2         | 531 KB    | 3          |   3% \u001b[A\u001b[A\n",
      "\n",
      "\n",
      "\n",
      "threadpoolctl-3.5.0  | 50 KB     | ###2       |  32% \u001b[A\u001b[A\u001b[A\n",
      "\n",
      "\n",
      "\n",
      "threadpoolctl-3.5.0  | 50 KB     | ########## | 100% \u001b[A\u001b[A\u001b[A\n",
      "scipy-1.15.1         | 30.0 MB   |            |   1% \n",
      "\n",
      "\n",
      "\n",
      "threadpoolctl-3.5.0  | 50 KB     | ########## | 100% \u001b[A\u001b[A\u001b[A\n",
      "\n",
      "scikit-learn-1.6.1   | 9.7 MB    | 2          |   2% \u001b[A\n",
      "\n",
      "\n",
      "joblib-1.4.2         | 531 KB    | ####2      |  42% \u001b[A\u001b[A\n",
      "scipy-1.15.1         | 30.0 MB   | 3          |   3% \n",
      "\n",
      "scikit-learn-1.6.1   | 9.7 MB    | 4          |   5% \u001b[A\n",
      "\n",
      "\n",
      "joblib-1.4.2         | 531 KB    | ########## | 100% \u001b[A\u001b[A\n",
      "scipy-1.15.1         | 30.0 MB   | 5          |   6% \n",
      "\n",
      "scikit-learn-1.6.1   | 9.7 MB    | #1         |  11% \u001b[A\n",
      "scipy-1.15.1         | 30.0 MB   | 8          |   8% \n",
      "\n",
      "scikit-learn-1.6.1   | 9.7 MB    | #7         |  18% \u001b[A\n",
      "scipy-1.15.1         | 30.0 MB   | #1         |  12% \n",
      "\n",
      "scikit-learn-1.6.1   | 9.7 MB    | ##2        |  22% \u001b[A\n",
      "\n",
      "\n",
      "joblib-1.4.2         | 531 KB    | ########## | 100% \u001b[A\u001b[A\n",
      "\n",
      "\n",
      "joblib-1.4.2         | 531 KB    | ########## | 100% \u001b[A\u001b[A\n",
      "scipy-1.15.1         | 30.0 MB   | #3         |  14% \n",
      "\n",
      "scikit-learn-1.6.1   | 9.7 MB    | ##6        |  27% \u001b[A\n",
      "scipy-1.15.1         | 30.0 MB   | #5         |  16% \n",
      "scipy-1.15.1         | 30.0 MB   | ##         |  20% \n",
      "\n",
      "scikit-learn-1.6.1   | 9.7 MB    | ###        |  31% \u001b[A\n",
      "\n",
      "scikit-learn-1.6.1   | 9.7 MB    | ####       |  40% \u001b[A\n",
      "scipy-1.15.1         | 30.0 MB   | ##2        |  22% \n",
      "scipy-1.15.1         | 30.0 MB   | ##5        |  26% \n",
      "\n",
      "scikit-learn-1.6.1   | 9.7 MB    | ####7      |  48% \u001b[A\n",
      "\n",
      "scikit-learn-1.6.1   | 9.7 MB    | #####3     |  53% \u001b[A\n",
      "scipy-1.15.1         | 30.0 MB   | ##8        |  29% \n",
      "\n",
      "scikit-learn-1.6.1   | 9.7 MB    | #####9     |  60% \u001b[A\n",
      "scipy-1.15.1         | 30.0 MB   | ###2       |  32% \n",
      "scipy-1.15.1         | 30.0 MB   | ###5       |  36% \n",
      "\n",
      "scikit-learn-1.6.1   | 9.7 MB    | ######5    |  65% \u001b[A\n",
      "scipy-1.15.1         | 30.0 MB   | ###9       |  39% \n",
      "\n",
      "scikit-learn-1.6.1   | 9.7 MB    | #######1   |  71% \u001b[A\n",
      "scipy-1.15.1         | 30.0 MB   | ####3      |  43% \n",
      "\n",
      "scikit-learn-1.6.1   | 9.7 MB    | #######7   |  78% \u001b[A\n",
      "scipy-1.15.1         | 30.0 MB   | ####7      |  47% \n",
      "\n",
      "scikit-learn-1.6.1   | 9.7 MB    | ########3  |  84% \u001b[A\n",
      "scipy-1.15.1         | 30.0 MB   | #####      |  51% \n",
      "\n",
      "scikit-learn-1.6.1   | 9.7 MB    | ########9  |  90% \u001b[A\n",
      "\n",
      "scikit-learn-1.6.1   | 9.7 MB    | #########5 |  96% \u001b[A\n",
      "scipy-1.15.1         | 30.0 MB   | #####4     |  55% \n",
      "\n",
      "scikit-learn-1.6.1   | 9.7 MB    | ########## | 100% \u001b[A\n",
      "scipy-1.15.1         | 30.0 MB   | #####8     |  59% \n",
      "scipy-1.15.1         | 30.0 MB   | ######3    |  63% \n",
      "scipy-1.15.1         | 30.0 MB   | ######6    |  67% \n",
      "scipy-1.15.1         | 30.0 MB   | #######    |  71% \n",
      "scipy-1.15.1         | 30.0 MB   | #######5   |  75% \n",
      "scipy-1.15.1         | 30.0 MB   | #######9   |  80% \n",
      "scipy-1.15.1         | 30.0 MB   | ########4  |  84% \n",
      "scipy-1.15.1         | 30.0 MB   | ########8  |  88% \n",
      "scipy-1.15.1         | 30.0 MB   | #########1 |  91% \n",
      "scipy-1.15.1         | 30.0 MB   | #########6 |  96% \n",
      "scipy-1.15.1         | 30.0 MB   | #########9 |  99% \n",
      "scipy-1.15.1         | 30.0 MB   | ########## | 100% \n",
      "\n",
      "scikit-learn-1.6.1   | 9.7 MB    | ########## | 100% \u001b[A\n",
      "scipy-1.15.1         | 30.0 MB   | ########## | 100% \n",
      "                                                     \n",
      "\n",
      "\n",
      "                                                     \u001b[A\n",
      "\n",
      "\n",
      "                                                     \u001b[A\u001b[A\n",
      "\n",
      "\n",
      "\n",
      "                                                     \u001b[A\u001b[A\u001b[A done\n",
      "Preparing transaction: done\n",
      "Verifying transaction: done\n",
      "Executing transaction: done\n",
      "\n",
      "Note: you may need to restart the kernel to use updated packages.\n"
     ]
    }
   ],
   "source": [
    "conda install scikit-learn"
   ]
  },
  {
   "cell_type": "code",
   "execution_count": 57,
   "metadata": {},
   "outputs": [
    {
     "name": "stdout",
     "output_type": "stream",
     "text": [
      "1.6.1\n"
     ]
    }
   ],
   "source": [
    "import sklearn\n",
    "print(sklearn.__version__)"
   ]
  },
  {
   "cell_type": "code",
   "execution_count": 59,
   "metadata": {},
   "outputs": [],
   "source": [
    "#Lets split data into training 60%, Validation 20% and testing 20%\n",
    "from sklearn.model_selection import train_test_split"
   ]
  },
  {
   "cell_type": "code",
   "execution_count": 61,
   "metadata": {},
   "outputs": [
    {
     "ename": "NameError",
     "evalue": "name 'X' is not defined",
     "output_type": "error",
     "traceback": [
      "\u001b[31m---------------------------------------------------------------------------\u001b[39m",
      "\u001b[31mNameError\u001b[39m                                 Traceback (most recent call last)",
      "\u001b[36mCell\u001b[39m\u001b[36m \u001b[39m\u001b[32mIn[61]\u001b[39m\u001b[32m, line 2\u001b[39m\n\u001b[32m      1\u001b[39m \u001b[38;5;66;03m# Split data into Training (60%), Validation (20%), and Test (20%)\u001b[39;00m\n\u001b[32m----> \u001b[39m\u001b[32m2\u001b[39m X_train, X_temp, y_train, y_temp = train_test_split(\u001b[43mX\u001b[49m, y, test_size=\u001b[32m0.4\u001b[39m, random_state=\u001b[32m42\u001b[39m)\n",
      "\u001b[31mNameError\u001b[39m: name 'X' is not defined"
     ]
    }
   ],
   "source": [
    "# Split data into Training (60%), Validation (20%), and Test (20%)\n",
    "X_train, X_temp, y_train, y_temp = train_test_split(X, y, test_size=0.4, random_state=42)"
   ]
  },
  {
   "cell_type": "code",
   "execution_count": 62,
   "metadata": {},
   "outputs": [],
   "source": [
    "# Define features (X) and target variable (y)\n",
    "X = df.drop(columns=['GrossPay'])  # Features: All columns except GrossPay\n",
    "y = df['GrossPay']  # Target: What we want to predict"
   ]
  },
  {
   "cell_type": "code",
   "execution_count": 64,
   "metadata": {},
   "outputs": [],
   "source": [
    "# Split data into Training (60%), Validation (20%), and Test (20%)\n",
    "X_train, X_temp, y_train, y_temp = train_test_split(X, y, test_size=0.4, random_state=42)"
   ]
  },
  {
   "cell_type": "code",
   "execution_count": 65,
   "metadata": {},
   "outputs": [],
   "source": [
    "X_val, X_test, y_val, y_test = train_test_split(X_temp, y_temp, test_size=0.5, random_state=42)\n"
   ]
  },
  {
   "cell_type": "code",
   "execution_count": 66,
   "metadata": {},
   "outputs": [
    {
     "name": "stdout",
     "output_type": "stream",
     "text": [
      "Training Set: (8627, 7), Labels: (8627,)\n",
      "Validation Set: (2876, 7), Labels: (2876,)\n",
      "Test Set: (2876, 7), Labels: (2876,)\n"
     ]
    }
   ],
   "source": [
    "# Print dataset sizes\n",
    "print(f\"Training Set: {X_train.shape}, Labels: {y_train.shape}\")\n",
    "print(f\"Validation Set: {X_val.shape}, Labels: {y_val.shape}\")\n",
    "print(f\"Test Set: {X_test.shape}, Labels: {y_test.shape}\")"
   ]
  },
  {
   "cell_type": "code",
   "execution_count": 69,
   "metadata": {},
   "outputs": [
    {
     "name": "stdout",
     "output_type": "stream",
     "text": [
      "Name                  0\n",
      "JobTitle              0\n",
      "AgencyID              0\n",
      "Agency                0\n",
      "HireDate              0\n",
      "AnnualSalary          0\n",
      "GrossPay              0\n",
      "HireDate_converted    0\n",
      "dtype: int64\n"
     ]
    }
   ],
   "source": [
    "print(df.isnull().sum())  # Shows missing values per column"
   ]
  },
  {
   "cell_type": "code",
   "execution_count": 70,
   "metadata": {},
   "outputs": [
    {
     "name": "stdout",
     "output_type": "stream",
     "text": [
      "Name                          object\n",
      "JobTitle                      object\n",
      "AgencyID                      object\n",
      "Agency                        object\n",
      "HireDate                      object\n",
      "AnnualSalary                 float64\n",
      "GrossPay                     float64\n",
      "HireDate_converted    datetime64[ns]\n",
      "dtype: object\n"
     ]
    }
   ],
   "source": [
    "print(df.dtypes)  # Ensures all features are numeric"
   ]
  },
  {
   "cell_type": "code",
   "execution_count": 71,
   "metadata": {},
   "outputs": [],
   "source": [
    "# Convert object into numeric\n",
    "from sklearn.preprocessing import LabelEncoder\n"
   ]
  },
  {
   "cell_type": "code",
   "execution_count": 72,
   "metadata": {},
   "outputs": [],
   "source": [
    "encoder = LabelEncoder()\n"
   ]
  },
  {
   "cell_type": "code",
   "execution_count": 73,
   "metadata": {},
   "outputs": [
    {
     "name": "stderr",
     "output_type": "stream",
     "text": [
      "C:\\Users\\Admin\\AppData\\Local\\Temp\\ipykernel_10360\\2698585548.py:3: SettingWithCopyWarning: \n",
      "A value is trying to be set on a copy of a slice from a DataFrame.\n",
      "Try using .loc[row_indexer,col_indexer] = value instead\n",
      "\n",
      "See the caveats in the documentation: https://pandas.pydata.org/pandas-docs/stable/user_guide/indexing.html#returning-a-view-versus-a-copy\n",
      "  df[col] = encoder.fit_transform(df[col])\n",
      "C:\\Users\\Admin\\AppData\\Local\\Temp\\ipykernel_10360\\2698585548.py:3: SettingWithCopyWarning: \n",
      "A value is trying to be set on a copy of a slice from a DataFrame.\n",
      "Try using .loc[row_indexer,col_indexer] = value instead\n",
      "\n",
      "See the caveats in the documentation: https://pandas.pydata.org/pandas-docs/stable/user_guide/indexing.html#returning-a-view-versus-a-copy\n",
      "  df[col] = encoder.fit_transform(df[col])\n",
      "C:\\Users\\Admin\\AppData\\Local\\Temp\\ipykernel_10360\\2698585548.py:3: SettingWithCopyWarning: \n",
      "A value is trying to be set on a copy of a slice from a DataFrame.\n",
      "Try using .loc[row_indexer,col_indexer] = value instead\n",
      "\n",
      "See the caveats in the documentation: https://pandas.pydata.org/pandas-docs/stable/user_guide/indexing.html#returning-a-view-versus-a-copy\n",
      "  df[col] = encoder.fit_transform(df[col])\n"
     ]
    }
   ],
   "source": [
    "# Encode categorical columns\n",
    "for col in ['JobTitle', 'AgencyID', 'Agency']:\n",
    "    df[col] = encoder.fit_transform(df[col])\n"
   ]
  },
  {
   "cell_type": "code",
   "execution_count": 74,
   "metadata": {},
   "outputs": [
    {
     "name": "stdout",
     "output_type": "stream",
     "text": [
      "Name                          object\n",
      "JobTitle                       int64\n",
      "AgencyID                       int64\n",
      "Agency                         int64\n",
      "HireDate                      object\n",
      "AnnualSalary                 float64\n",
      "GrossPay                     float64\n",
      "HireDate_converted    datetime64[ns]\n",
      "dtype: object\n"
     ]
    }
   ],
   "source": [
    "print(df.dtypes)"
   ]
  },
  {
   "cell_type": "code",
   "execution_count": 75,
   "metadata": {},
   "outputs": [
    {
     "name": "stderr",
     "output_type": "stream",
     "text": [
      "C:\\Users\\Admin\\AppData\\Local\\Temp\\ipykernel_10360\\3968650980.py:1: SettingWithCopyWarning: \n",
      "A value is trying to be set on a copy of a slice from a DataFrame\n",
      "\n",
      "See the caveats in the documentation: https://pandas.pydata.org/pandas-docs/stable/user_guide/indexing.html#returning-a-view-versus-a-copy\n",
      "  df.drop(columns=['HireDate', 'Name'], inplace=True)\n"
     ]
    }
   ],
   "source": [
    "df.drop(columns=['HireDate', 'Name'], inplace=True)"
   ]
  },
  {
   "cell_type": "code",
   "execution_count": 76,
   "metadata": {},
   "outputs": [],
   "source": [
    "# Convert HireDate_converted to number of years since hire\n",
    "from datetime import datetime"
   ]
  },
  {
   "cell_type": "code",
   "execution_count": 77,
   "metadata": {},
   "outputs": [
    {
     "name": "stderr",
     "output_type": "stream",
     "text": [
      "C:\\Users\\Admin\\AppData\\Local\\Temp\\ipykernel_10360\\2484824898.py:1: SettingWithCopyWarning: \n",
      "A value is trying to be set on a copy of a slice from a DataFrame.\n",
      "Try using .loc[row_indexer,col_indexer] = value instead\n",
      "\n",
      "See the caveats in the documentation: https://pandas.pydata.org/pandas-docs/stable/user_guide/indexing.html#returning-a-view-versus-a-copy\n",
      "  df['YearsAtCompany'] = datetime.now().year - df['HireDate_converted'].dt.year\n"
     ]
    }
   ],
   "source": [
    "df['YearsAtCompany'] = datetime.now().year - df['HireDate_converted'].dt.year"
   ]
  },
  {
   "cell_type": "code",
   "execution_count": 78,
   "metadata": {},
   "outputs": [
    {
     "name": "stdout",
     "output_type": "stream",
     "text": [
      "JobTitle                       int64\n",
      "AgencyID                       int64\n",
      "Agency                         int64\n",
      "AnnualSalary                 float64\n",
      "GrossPay                     float64\n",
      "HireDate_converted    datetime64[ns]\n",
      "YearsAtCompany                 int32\n",
      "dtype: object\n"
     ]
    }
   ],
   "source": [
    "print(df.dtypes) "
   ]
  },
  {
   "cell_type": "code",
   "execution_count": 79,
   "metadata": {},
   "outputs": [
    {
     "name": "stderr",
     "output_type": "stream",
     "text": [
      "C:\\Users\\Admin\\AppData\\Local\\Temp\\ipykernel_10360\\2398710165.py:2: SettingWithCopyWarning: \n",
      "A value is trying to be set on a copy of a slice from a DataFrame\n",
      "\n",
      "See the caveats in the documentation: https://pandas.pydata.org/pandas-docs/stable/user_guide/indexing.html#returning-a-view-versus-a-copy\n",
      "  df.drop(columns=['HireDate_converted'], inplace=True)\n"
     ]
    }
   ],
   "source": [
    "# Drop the datetime column since we now have YearsAtCompany\n",
    "df.drop(columns=['HireDate_converted'], inplace=True)\n"
   ]
  },
  {
   "cell_type": "code",
   "execution_count": 80,
   "metadata": {},
   "outputs": [],
   "source": [
    "from sklearn.model_selection import train_test_split"
   ]
  },
  {
   "cell_type": "code",
   "execution_count": 81,
   "metadata": {},
   "outputs": [],
   "source": [
    "\n",
    "# Define features (X) and target variable (y)\n",
    "X = df.drop(columns=['GrossPay'])  # Features\n",
    "y = df['GrossPay']  # Target variable"
   ]
  },
  {
   "cell_type": "code",
   "execution_count": 82,
   "metadata": {},
   "outputs": [],
   "source": [
    "# Split into training, validation, and test sets\n",
    "X_train, X_temp, y_train, y_temp = train_test_split(X, y, test_size=0.4, random_state=42)\n",
    "X_val, X_test, y_val, y_test = train_test_split(X_temp, y_temp, test_size=0.5, random_state=42)"
   ]
  },
  {
   "cell_type": "code",
   "execution_count": 84,
   "metadata": {},
   "outputs": [
    {
     "name": "stdout",
     "output_type": "stream",
     "text": [
      "Training Set: (8627, 5), Labels: (8627,)\n"
     ]
    }
   ],
   "source": [
    "#Print dataset sizes\n",
    "print(f\"Training Set: {X_train.shape}, Labels: {y_train.shape}\")"
   ]
  },
  {
   "cell_type": "code",
   "execution_count": 85,
   "metadata": {},
   "outputs": [
    {
     "name": "stdout",
     "output_type": "stream",
     "text": [
      "Validation Set: (2876, 5), Labels: (2876,)\n",
      "Test Set: (2876, 5), Labels: (2876,)\n"
     ]
    }
   ],
   "source": [
    "print(f\"Validation Set: {X_val.shape}, Labels: {y_val.shape}\")\n",
    "print(f\"Test Set: {X_test.shape}, Labels: {y_test.shape}\")"
   ]
  },
  {
   "cell_type": "code",
   "execution_count": null,
   "metadata": {},
   "outputs": [],
   "source": []
  },
  {
   "cell_type": "markdown",
   "metadata": {},
   "source": [
    "# Scikit Learn Regression\n",
    "\n",
    "We'll follow the pattern we followed in the code from lectures:\n",
    "\n",
    "- Construct a Regressor object\n",
    "\n",
    "- `.fit()` it\n",
    "\n",
    "- Use it to `.predict()` the validation data\n",
    "\n",
    "- Look at the coefficients of the model (in this case, the gradient)."
   ]
  },
  {
   "cell_type": "code",
   "execution_count": 86,
   "metadata": {},
   "outputs": [],
   "source": [
    "from sklearn.linear_model import LinearRegression"
   ]
  },
  {
   "cell_type": "code",
   "execution_count": 87,
   "metadata": {},
   "outputs": [],
   "source": [
    "# Initialize Linear Regression Model\n",
    "model = LinearRegression()"
   ]
  },
  {
   "cell_type": "code",
   "execution_count": 88,
   "metadata": {},
   "outputs": [
    {
     "data": {
      "text/html": [
       "<style>#sk-container-id-1 {\n",
       "  /* Definition of color scheme common for light and dark mode */\n",
       "  --sklearn-color-text: #000;\n",
       "  --sklearn-color-text-muted: #666;\n",
       "  --sklearn-color-line: gray;\n",
       "  /* Definition of color scheme for unfitted estimators */\n",
       "  --sklearn-color-unfitted-level-0: #fff5e6;\n",
       "  --sklearn-color-unfitted-level-1: #f6e4d2;\n",
       "  --sklearn-color-unfitted-level-2: #ffe0b3;\n",
       "  --sklearn-color-unfitted-level-3: chocolate;\n",
       "  /* Definition of color scheme for fitted estimators */\n",
       "  --sklearn-color-fitted-level-0: #f0f8ff;\n",
       "  --sklearn-color-fitted-level-1: #d4ebff;\n",
       "  --sklearn-color-fitted-level-2: #b3dbfd;\n",
       "  --sklearn-color-fitted-level-3: cornflowerblue;\n",
       "\n",
       "  /* Specific color for light theme */\n",
       "  --sklearn-color-text-on-default-background: var(--sg-text-color, var(--theme-code-foreground, var(--jp-content-font-color1, black)));\n",
       "  --sklearn-color-background: var(--sg-background-color, var(--theme-background, var(--jp-layout-color0, white)));\n",
       "  --sklearn-color-border-box: var(--sg-text-color, var(--theme-code-foreground, var(--jp-content-font-color1, black)));\n",
       "  --sklearn-color-icon: #696969;\n",
       "\n",
       "  @media (prefers-color-scheme: dark) {\n",
       "    /* Redefinition of color scheme for dark theme */\n",
       "    --sklearn-color-text-on-default-background: var(--sg-text-color, var(--theme-code-foreground, var(--jp-content-font-color1, white)));\n",
       "    --sklearn-color-background: var(--sg-background-color, var(--theme-background, var(--jp-layout-color0, #111)));\n",
       "    --sklearn-color-border-box: var(--sg-text-color, var(--theme-code-foreground, var(--jp-content-font-color1, white)));\n",
       "    --sklearn-color-icon: #878787;\n",
       "  }\n",
       "}\n",
       "\n",
       "#sk-container-id-1 {\n",
       "  color: var(--sklearn-color-text);\n",
       "}\n",
       "\n",
       "#sk-container-id-1 pre {\n",
       "  padding: 0;\n",
       "}\n",
       "\n",
       "#sk-container-id-1 input.sk-hidden--visually {\n",
       "  border: 0;\n",
       "  clip: rect(1px 1px 1px 1px);\n",
       "  clip: rect(1px, 1px, 1px, 1px);\n",
       "  height: 1px;\n",
       "  margin: -1px;\n",
       "  overflow: hidden;\n",
       "  padding: 0;\n",
       "  position: absolute;\n",
       "  width: 1px;\n",
       "}\n",
       "\n",
       "#sk-container-id-1 div.sk-dashed-wrapped {\n",
       "  border: 1px dashed var(--sklearn-color-line);\n",
       "  margin: 0 0.4em 0.5em 0.4em;\n",
       "  box-sizing: border-box;\n",
       "  padding-bottom: 0.4em;\n",
       "  background-color: var(--sklearn-color-background);\n",
       "}\n",
       "\n",
       "#sk-container-id-1 div.sk-container {\n",
       "  /* jupyter's `normalize.less` sets `[hidden] { display: none; }`\n",
       "     but bootstrap.min.css set `[hidden] { display: none !important; }`\n",
       "     so we also need the `!important` here to be able to override the\n",
       "     default hidden behavior on the sphinx rendered scikit-learn.org.\n",
       "     See: https://github.com/scikit-learn/scikit-learn/issues/21755 */\n",
       "  display: inline-block !important;\n",
       "  position: relative;\n",
       "}\n",
       "\n",
       "#sk-container-id-1 div.sk-text-repr-fallback {\n",
       "  display: none;\n",
       "}\n",
       "\n",
       "div.sk-parallel-item,\n",
       "div.sk-serial,\n",
       "div.sk-item {\n",
       "  /* draw centered vertical line to link estimators */\n",
       "  background-image: linear-gradient(var(--sklearn-color-text-on-default-background), var(--sklearn-color-text-on-default-background));\n",
       "  background-size: 2px 100%;\n",
       "  background-repeat: no-repeat;\n",
       "  background-position: center center;\n",
       "}\n",
       "\n",
       "/* Parallel-specific style estimator block */\n",
       "\n",
       "#sk-container-id-1 div.sk-parallel-item::after {\n",
       "  content: \"\";\n",
       "  width: 100%;\n",
       "  border-bottom: 2px solid var(--sklearn-color-text-on-default-background);\n",
       "  flex-grow: 1;\n",
       "}\n",
       "\n",
       "#sk-container-id-1 div.sk-parallel {\n",
       "  display: flex;\n",
       "  align-items: stretch;\n",
       "  justify-content: center;\n",
       "  background-color: var(--sklearn-color-background);\n",
       "  position: relative;\n",
       "}\n",
       "\n",
       "#sk-container-id-1 div.sk-parallel-item {\n",
       "  display: flex;\n",
       "  flex-direction: column;\n",
       "}\n",
       "\n",
       "#sk-container-id-1 div.sk-parallel-item:first-child::after {\n",
       "  align-self: flex-end;\n",
       "  width: 50%;\n",
       "}\n",
       "\n",
       "#sk-container-id-1 div.sk-parallel-item:last-child::after {\n",
       "  align-self: flex-start;\n",
       "  width: 50%;\n",
       "}\n",
       "\n",
       "#sk-container-id-1 div.sk-parallel-item:only-child::after {\n",
       "  width: 0;\n",
       "}\n",
       "\n",
       "/* Serial-specific style estimator block */\n",
       "\n",
       "#sk-container-id-1 div.sk-serial {\n",
       "  display: flex;\n",
       "  flex-direction: column;\n",
       "  align-items: center;\n",
       "  background-color: var(--sklearn-color-background);\n",
       "  padding-right: 1em;\n",
       "  padding-left: 1em;\n",
       "}\n",
       "\n",
       "\n",
       "/* Toggleable style: style used for estimator/Pipeline/ColumnTransformer box that is\n",
       "clickable and can be expanded/collapsed.\n",
       "- Pipeline and ColumnTransformer use this feature and define the default style\n",
       "- Estimators will overwrite some part of the style using the `sk-estimator` class\n",
       "*/\n",
       "\n",
       "/* Pipeline and ColumnTransformer style (default) */\n",
       "\n",
       "#sk-container-id-1 div.sk-toggleable {\n",
       "  /* Default theme specific background. It is overwritten whether we have a\n",
       "  specific estimator or a Pipeline/ColumnTransformer */\n",
       "  background-color: var(--sklearn-color-background);\n",
       "}\n",
       "\n",
       "/* Toggleable label */\n",
       "#sk-container-id-1 label.sk-toggleable__label {\n",
       "  cursor: pointer;\n",
       "  display: flex;\n",
       "  width: 100%;\n",
       "  margin-bottom: 0;\n",
       "  padding: 0.5em;\n",
       "  box-sizing: border-box;\n",
       "  text-align: center;\n",
       "  align-items: start;\n",
       "  justify-content: space-between;\n",
       "  gap: 0.5em;\n",
       "}\n",
       "\n",
       "#sk-container-id-1 label.sk-toggleable__label .caption {\n",
       "  font-size: 0.6rem;\n",
       "  font-weight: lighter;\n",
       "  color: var(--sklearn-color-text-muted);\n",
       "}\n",
       "\n",
       "#sk-container-id-1 label.sk-toggleable__label-arrow:before {\n",
       "  /* Arrow on the left of the label */\n",
       "  content: \"▸\";\n",
       "  float: left;\n",
       "  margin-right: 0.25em;\n",
       "  color: var(--sklearn-color-icon);\n",
       "}\n",
       "\n",
       "#sk-container-id-1 label.sk-toggleable__label-arrow:hover:before {\n",
       "  color: var(--sklearn-color-text);\n",
       "}\n",
       "\n",
       "/* Toggleable content - dropdown */\n",
       "\n",
       "#sk-container-id-1 div.sk-toggleable__content {\n",
       "  max-height: 0;\n",
       "  max-width: 0;\n",
       "  overflow: hidden;\n",
       "  text-align: left;\n",
       "  /* unfitted */\n",
       "  background-color: var(--sklearn-color-unfitted-level-0);\n",
       "}\n",
       "\n",
       "#sk-container-id-1 div.sk-toggleable__content.fitted {\n",
       "  /* fitted */\n",
       "  background-color: var(--sklearn-color-fitted-level-0);\n",
       "}\n",
       "\n",
       "#sk-container-id-1 div.sk-toggleable__content pre {\n",
       "  margin: 0.2em;\n",
       "  border-radius: 0.25em;\n",
       "  color: var(--sklearn-color-text);\n",
       "  /* unfitted */\n",
       "  background-color: var(--sklearn-color-unfitted-level-0);\n",
       "}\n",
       "\n",
       "#sk-container-id-1 div.sk-toggleable__content.fitted pre {\n",
       "  /* unfitted */\n",
       "  background-color: var(--sklearn-color-fitted-level-0);\n",
       "}\n",
       "\n",
       "#sk-container-id-1 input.sk-toggleable__control:checked~div.sk-toggleable__content {\n",
       "  /* Expand drop-down */\n",
       "  max-height: 200px;\n",
       "  max-width: 100%;\n",
       "  overflow: auto;\n",
       "}\n",
       "\n",
       "#sk-container-id-1 input.sk-toggleable__control:checked~label.sk-toggleable__label-arrow:before {\n",
       "  content: \"▾\";\n",
       "}\n",
       "\n",
       "/* Pipeline/ColumnTransformer-specific style */\n",
       "\n",
       "#sk-container-id-1 div.sk-label input.sk-toggleable__control:checked~label.sk-toggleable__label {\n",
       "  color: var(--sklearn-color-text);\n",
       "  background-color: var(--sklearn-color-unfitted-level-2);\n",
       "}\n",
       "\n",
       "#sk-container-id-1 div.sk-label.fitted input.sk-toggleable__control:checked~label.sk-toggleable__label {\n",
       "  background-color: var(--sklearn-color-fitted-level-2);\n",
       "}\n",
       "\n",
       "/* Estimator-specific style */\n",
       "\n",
       "/* Colorize estimator box */\n",
       "#sk-container-id-1 div.sk-estimator input.sk-toggleable__control:checked~label.sk-toggleable__label {\n",
       "  /* unfitted */\n",
       "  background-color: var(--sklearn-color-unfitted-level-2);\n",
       "}\n",
       "\n",
       "#sk-container-id-1 div.sk-estimator.fitted input.sk-toggleable__control:checked~label.sk-toggleable__label {\n",
       "  /* fitted */\n",
       "  background-color: var(--sklearn-color-fitted-level-2);\n",
       "}\n",
       "\n",
       "#sk-container-id-1 div.sk-label label.sk-toggleable__label,\n",
       "#sk-container-id-1 div.sk-label label {\n",
       "  /* The background is the default theme color */\n",
       "  color: var(--sklearn-color-text-on-default-background);\n",
       "}\n",
       "\n",
       "/* On hover, darken the color of the background */\n",
       "#sk-container-id-1 div.sk-label:hover label.sk-toggleable__label {\n",
       "  color: var(--sklearn-color-text);\n",
       "  background-color: var(--sklearn-color-unfitted-level-2);\n",
       "}\n",
       "\n",
       "/* Label box, darken color on hover, fitted */\n",
       "#sk-container-id-1 div.sk-label.fitted:hover label.sk-toggleable__label.fitted {\n",
       "  color: var(--sklearn-color-text);\n",
       "  background-color: var(--sklearn-color-fitted-level-2);\n",
       "}\n",
       "\n",
       "/* Estimator label */\n",
       "\n",
       "#sk-container-id-1 div.sk-label label {\n",
       "  font-family: monospace;\n",
       "  font-weight: bold;\n",
       "  display: inline-block;\n",
       "  line-height: 1.2em;\n",
       "}\n",
       "\n",
       "#sk-container-id-1 div.sk-label-container {\n",
       "  text-align: center;\n",
       "}\n",
       "\n",
       "/* Estimator-specific */\n",
       "#sk-container-id-1 div.sk-estimator {\n",
       "  font-family: monospace;\n",
       "  border: 1px dotted var(--sklearn-color-border-box);\n",
       "  border-radius: 0.25em;\n",
       "  box-sizing: border-box;\n",
       "  margin-bottom: 0.5em;\n",
       "  /* unfitted */\n",
       "  background-color: var(--sklearn-color-unfitted-level-0);\n",
       "}\n",
       "\n",
       "#sk-container-id-1 div.sk-estimator.fitted {\n",
       "  /* fitted */\n",
       "  background-color: var(--sklearn-color-fitted-level-0);\n",
       "}\n",
       "\n",
       "/* on hover */\n",
       "#sk-container-id-1 div.sk-estimator:hover {\n",
       "  /* unfitted */\n",
       "  background-color: var(--sklearn-color-unfitted-level-2);\n",
       "}\n",
       "\n",
       "#sk-container-id-1 div.sk-estimator.fitted:hover {\n",
       "  /* fitted */\n",
       "  background-color: var(--sklearn-color-fitted-level-2);\n",
       "}\n",
       "\n",
       "/* Specification for estimator info (e.g. \"i\" and \"?\") */\n",
       "\n",
       "/* Common style for \"i\" and \"?\" */\n",
       "\n",
       ".sk-estimator-doc-link,\n",
       "a:link.sk-estimator-doc-link,\n",
       "a:visited.sk-estimator-doc-link {\n",
       "  float: right;\n",
       "  font-size: smaller;\n",
       "  line-height: 1em;\n",
       "  font-family: monospace;\n",
       "  background-color: var(--sklearn-color-background);\n",
       "  border-radius: 1em;\n",
       "  height: 1em;\n",
       "  width: 1em;\n",
       "  text-decoration: none !important;\n",
       "  margin-left: 0.5em;\n",
       "  text-align: center;\n",
       "  /* unfitted */\n",
       "  border: var(--sklearn-color-unfitted-level-1) 1pt solid;\n",
       "  color: var(--sklearn-color-unfitted-level-1);\n",
       "}\n",
       "\n",
       ".sk-estimator-doc-link.fitted,\n",
       "a:link.sk-estimator-doc-link.fitted,\n",
       "a:visited.sk-estimator-doc-link.fitted {\n",
       "  /* fitted */\n",
       "  border: var(--sklearn-color-fitted-level-1) 1pt solid;\n",
       "  color: var(--sklearn-color-fitted-level-1);\n",
       "}\n",
       "\n",
       "/* On hover */\n",
       "div.sk-estimator:hover .sk-estimator-doc-link:hover,\n",
       ".sk-estimator-doc-link:hover,\n",
       "div.sk-label-container:hover .sk-estimator-doc-link:hover,\n",
       ".sk-estimator-doc-link:hover {\n",
       "  /* unfitted */\n",
       "  background-color: var(--sklearn-color-unfitted-level-3);\n",
       "  color: var(--sklearn-color-background);\n",
       "  text-decoration: none;\n",
       "}\n",
       "\n",
       "div.sk-estimator.fitted:hover .sk-estimator-doc-link.fitted:hover,\n",
       ".sk-estimator-doc-link.fitted:hover,\n",
       "div.sk-label-container:hover .sk-estimator-doc-link.fitted:hover,\n",
       ".sk-estimator-doc-link.fitted:hover {\n",
       "  /* fitted */\n",
       "  background-color: var(--sklearn-color-fitted-level-3);\n",
       "  color: var(--sklearn-color-background);\n",
       "  text-decoration: none;\n",
       "}\n",
       "\n",
       "/* Span, style for the box shown on hovering the info icon */\n",
       ".sk-estimator-doc-link span {\n",
       "  display: none;\n",
       "  z-index: 9999;\n",
       "  position: relative;\n",
       "  font-weight: normal;\n",
       "  right: .2ex;\n",
       "  padding: .5ex;\n",
       "  margin: .5ex;\n",
       "  width: min-content;\n",
       "  min-width: 20ex;\n",
       "  max-width: 50ex;\n",
       "  color: var(--sklearn-color-text);\n",
       "  box-shadow: 2pt 2pt 4pt #999;\n",
       "  /* unfitted */\n",
       "  background: var(--sklearn-color-unfitted-level-0);\n",
       "  border: .5pt solid var(--sklearn-color-unfitted-level-3);\n",
       "}\n",
       "\n",
       ".sk-estimator-doc-link.fitted span {\n",
       "  /* fitted */\n",
       "  background: var(--sklearn-color-fitted-level-0);\n",
       "  border: var(--sklearn-color-fitted-level-3);\n",
       "}\n",
       "\n",
       ".sk-estimator-doc-link:hover span {\n",
       "  display: block;\n",
       "}\n",
       "\n",
       "/* \"?\"-specific style due to the `<a>` HTML tag */\n",
       "\n",
       "#sk-container-id-1 a.estimator_doc_link {\n",
       "  float: right;\n",
       "  font-size: 1rem;\n",
       "  line-height: 1em;\n",
       "  font-family: monospace;\n",
       "  background-color: var(--sklearn-color-background);\n",
       "  border-radius: 1rem;\n",
       "  height: 1rem;\n",
       "  width: 1rem;\n",
       "  text-decoration: none;\n",
       "  /* unfitted */\n",
       "  color: var(--sklearn-color-unfitted-level-1);\n",
       "  border: var(--sklearn-color-unfitted-level-1) 1pt solid;\n",
       "}\n",
       "\n",
       "#sk-container-id-1 a.estimator_doc_link.fitted {\n",
       "  /* fitted */\n",
       "  border: var(--sklearn-color-fitted-level-1) 1pt solid;\n",
       "  color: var(--sklearn-color-fitted-level-1);\n",
       "}\n",
       "\n",
       "/* On hover */\n",
       "#sk-container-id-1 a.estimator_doc_link:hover {\n",
       "  /* unfitted */\n",
       "  background-color: var(--sklearn-color-unfitted-level-3);\n",
       "  color: var(--sklearn-color-background);\n",
       "  text-decoration: none;\n",
       "}\n",
       "\n",
       "#sk-container-id-1 a.estimator_doc_link.fitted:hover {\n",
       "  /* fitted */\n",
       "  background-color: var(--sklearn-color-fitted-level-3);\n",
       "}\n",
       "</style><div id=\"sk-container-id-1\" class=\"sk-top-container\"><div class=\"sk-text-repr-fallback\"><pre>LinearRegression()</pre><b>In a Jupyter environment, please rerun this cell to show the HTML representation or trust the notebook. <br />On GitHub, the HTML representation is unable to render, please try loading this page with nbviewer.org.</b></div><div class=\"sk-container\" hidden><div class=\"sk-item\"><div class=\"sk-estimator fitted sk-toggleable\"><input class=\"sk-toggleable__control sk-hidden--visually\" id=\"sk-estimator-id-1\" type=\"checkbox\" checked><label for=\"sk-estimator-id-1\" class=\"sk-toggleable__label fitted sk-toggleable__label-arrow\"><div><div>LinearRegression</div></div><div><a class=\"sk-estimator-doc-link fitted\" rel=\"noreferrer\" target=\"_blank\" href=\"https://scikit-learn.org/1.6/modules/generated/sklearn.linear_model.LinearRegression.html\">?<span>Documentation for LinearRegression</span></a><span class=\"sk-estimator-doc-link fitted\">i<span>Fitted</span></span></div></label><div class=\"sk-toggleable__content fitted\"><pre>LinearRegression()</pre></div> </div></div></div></div>"
      ],
      "text/plain": [
       "LinearRegression()"
      ]
     },
     "execution_count": 88,
     "metadata": {},
     "output_type": "execute_result"
    }
   ],
   "source": [
    "# Train (fit) the model on training data\n",
    "model.fit(X_train, y_train)"
   ]
  },
  {
   "cell_type": "code",
   "execution_count": 89,
   "metadata": {},
   "outputs": [],
   "source": [
    "# Predict on validation data\n",
    "y_val_pred = model.predict(X_val)"
   ]
  },
  {
   "cell_type": "code",
   "execution_count": 90,
   "metadata": {},
   "outputs": [],
   "source": [
    "# Predict on test data (for final evaluation)\n",
    "y_test_pred = model.predict(X_test)"
   ]
  },
  {
   "cell_type": "code",
   "execution_count": 91,
   "metadata": {},
   "outputs": [],
   "source": [
    "from sklearn.metrics import mean_absolute_error, mean_squared_error, r2_score"
   ]
  },
  {
   "cell_type": "code",
   "execution_count": 93,
   "metadata": {},
   "outputs": [],
   "source": [
    "# Compute metrics for validation set\n",
    "val_mae = mean_absolute_error(y_val, y_val_pred)"
   ]
  },
  {
   "cell_type": "code",
   "execution_count": null,
   "metadata": {},
   "outputs": [],
   "source": []
  },
  {
   "cell_type": "code",
   "execution_count": null,
   "metadata": {},
   "outputs": [],
   "source": [
    "val_rmse = mean_squared_error(y_val, y_val_pred, squared=False)\n",
    "val_r2 = r2_score(y_val, y_val_pred)\n"
   ]
  },
  {
   "cell_type": "code",
   "execution_count": 95,
   "metadata": {},
   "outputs": [
    {
     "name": "stdout",
     "output_type": "stream",
     "text": [
      "📊 Validation Metrics:\n"
     ]
    }
   ],
   "source": [
    "# Print results\n",
    "print(f\"📊 Validation Metrics:\")"
   ]
  },
  {
   "cell_type": "code",
   "execution_count": 96,
   "metadata": {},
   "outputs": [],
   "source": [
    "# Get feature coefficients\n",
    "coefficients = pd.DataFrame(model.coef_, X.columns, columns=['Coefficient'])"
   ]
  },
  {
   "cell_type": "code",
   "execution_count": 97,
   "metadata": {},
   "outputs": [
    {
     "name": "stdout",
     "output_type": "stream",
     "text": [
      "                Coefficient\n",
      "JobTitle           3.221341\n",
      "AgencyID           4.367943\n",
      "Agency            -1.028516\n",
      "AnnualSalary       0.975960\n",
      "YearsAtCompany   242.295339\n"
     ]
    }
   ],
   "source": [
    "print(coefficients)"
   ]
  },
  {
   "cell_type": "code",
   "execution_count": 98,
   "metadata": {},
   "outputs": [],
   "source": [
    "# Sort coefficients by absolute impact (importance)\n",
    "coefficients = coefficients.sort_values(by='Coefficient', ascending=False)"
   ]
  },
  {
   "cell_type": "code",
   "execution_count": 100,
   "metadata": {},
   "outputs": [],
   "source": [
    "import matplotlib.pyplot as plt\n",
    "import pandas as pd\n"
   ]
  },
  {
   "cell_type": "code",
   "execution_count": 101,
   "metadata": {},
   "outputs": [
    {
     "data": {
      "text/plain": [
       "<Figure size 1000x600 with 0 Axes>"
      ]
     },
     "execution_count": 101,
     "metadata": {},
     "output_type": "execute_result"
    },
    {
     "data": {
      "text/plain": [
       "<Figure size 1000x600 with 0 Axes>"
      ]
     },
     "metadata": {},
     "output_type": "display_data"
    }
   ],
   "source": [
    "# Plot bar chart\n",
    "plt.figure(figsize=(10, 6))"
   ]
  },
  {
   "cell_type": "code",
   "execution_count": 103,
   "metadata": {},
   "outputs": [
    {
     "data": {
      "text/plain": [
       "<matplotlib.lines.Line2D at 0x2550ef514d0>"
      ]
     },
     "execution_count": 103,
     "metadata": {},
     "output_type": "execute_result"
    },
    {
     "data": {
      "image/png": "[encoded data removed]",
      "text/plain": [
       "<Figure size 640x480 with 1 Axes>"
      ]
     },
     "metadata": {},
     "output_type": "display_data"
    }
   ],
   "source": [
    "plt.barh(coefficients.index, coefficients['Coefficient'], color='blue')\n",
    "plt.axvline(x=0, color='gray', linestyle='--')  # Add vertical line at zero for reference"
   ]
  },
  {
   "cell_type": "code",
   "execution_count": 104,
   "metadata": {},
   "outputs": [
    {
     "data": {
      "image/png": "[encoded data removed]",
      "text/plain": [
       "<Figure size 640x480 with 1 Axes>"
      ]
     },
     "metadata": {},
     "output_type": "display_data"
    }
   ],
   "source": [
    "plt.xlabel(\"Impact on GrossPay ($)\")\n",
    "plt.ylabel(\"Features\")\n",
    "plt.title(\"Feature Importance in Predicting GrossPay\")\n",
    "plt.gca().invert_yaxis()  # Invert so the highest impact appears at the top\n",
    "plt.show()"
   ]
  },
  {
   "cell_type": "code",
   "execution_count": 105,
   "metadata": {},
   "outputs": [
    {
     "name": "stdout",
     "output_type": "stream",
     "text": [
      "                Coefficient\n",
      "YearsAtCompany   242.295339\n",
      "AgencyID           4.367943\n",
      "JobTitle           3.221341\n",
      "AnnualSalary       0.975960\n",
      "Agency            -1.028516\n"
     ]
    }
   ],
   "source": [
    "print(coefficients)"
   ]
  },
  {
   "cell_type": "code",
   "execution_count": 106,
   "metadata": {},
   "outputs": [
    {
     "name": "stdout",
     "output_type": "stream",
     "text": [
      "        Coefficient\n",
      "Agency    -1.028516\n"
     ]
    }
   ],
   "source": [
    "print(coefficients[coefficients['Coefficient'] < 0])"
   ]
  },
  {
   "cell_type": "markdown",
   "metadata": {},
   "source": [
    "### Theil-Sen\n",
    "\n",
    "You just did a Theil-Sen regression by hand, and we saw one in class. Let's see how close your five-sample version was to a more complete computation."
   ]
  },
  {
   "cell_type": "code",
   "execution_count": 113,
   "metadata": {},
   "outputs": [],
   "source": [
    "ts = sklearn.linear_model.TheilSenRegressor()"
   ]
  },
  {
   "cell_type": "code",
   "execution_count": 114,
   "metadata": {},
   "outputs": [],
   "source": [
    "from sklearn.model_selection import train_test_split"
   ]
  },
  {
   "cell_type": "code",
   "execution_count": 115,
   "metadata": {},
   "outputs": [],
   "source": [
    "from sklearn.metrics import mean_absolute_error, mean_squared_error, r2_score\n",
    "import matplotlib.pyplot as plt\n",
    "import pandas as pd\n",
    "import numpy as np"
   ]
  },
  {
   "cell_type": "code",
   "execution_count": null,
   "metadata": {},
   "outputs": [],
   "source": []
  },
  {
   "cell_type": "code",
   "execution_count": null,
   "metadata": {},
   "outputs": [],
   "source": [
    "# Initialize and Train Theil-Sen Regressor\n",
    "theil_sen = TheilSenRegressor()\n",
    "theil_sen.fit(X_train, y_train)\n"
   ]
  },
  {
   "cell_type": "code",
   "execution_count": 116,
   "metadata": {},
   "outputs": [
    {
     "name": "stdout",
     "output_type": "stream",
     "text": [
      "✅ Theil-Sen model training completed! 🚀\n"
     ]
    }
   ],
   "source": [
    "print(\"✅ Theil-Sen model training completed! 🚀\")"
   ]
  },
  {
   "cell_type": "code",
   "execution_count": 119,
   "metadata": {},
   "outputs": [
    {
     "name": "stdout",
     "output_type": "stream",
     "text": [
      "X_train columns: Index(['JobTitle', 'AgencyID', 'Agency', 'AnnualSalary', 'YearsAtCompany'], dtype='object')\n",
      "X_val columns: Index(['JobTitle', 'AgencyID', 'Agency', 'AnnualSalary', 'YearsAtCompany'], dtype='object')\n"
     ]
    }
   ],
   "source": [
    "print(\"X_train columns:\", X_train.columns)\n",
    "print(\"X_val columns:\", X_val.columns)"
   ]
  },
  {
   "cell_type": "code",
   "execution_count": 120,
   "metadata": {},
   "outputs": [
    {
     "name": "stdout",
     "output_type": "stream",
     "text": [
      "Missing values in X_train: 0\n",
      "Missing values in X_val: 0\n"
     ]
    }
   ],
   "source": [
    "print(\"Missing values in X_train:\", X_train.isnull().sum().sum())\n",
    "print(\"Missing values in X_val:\", X_val.isnull().sum().sum())"
   ]
  },
  {
   "cell_type": "code",
   "execution_count": 121,
   "metadata": {},
   "outputs": [
    {
     "name": "stdout",
     "output_type": "stream",
     "text": [
      "JobTitle            int64\n",
      "AgencyID            int64\n",
      "Agency              int64\n",
      "AnnualSalary      float64\n",
      "YearsAtCompany      int32\n",
      "dtype: object\n",
      "JobTitle            int64\n",
      "AgencyID            int64\n",
      "Agency              int64\n",
      "AnnualSalary      float64\n",
      "YearsAtCompany      int32\n",
      "dtype: object\n"
     ]
    }
   ],
   "source": [
    "print(X_train.dtypes)\n",
    "print(X_val.dtypes)"
   ]
  },
  {
   "cell_type": "code",
   "execution_count": 122,
   "metadata": {},
   "outputs": [
    {
     "name": "stdout",
     "output_type": "stream",
     "text": [
      "X_val shape: (2876, 5)\n",
      "      JobTitle  AgencyID  Agency  AnnualSalary  YearsAtCompany\n",
      "6468       400       262      20       61653.0              34\n",
      "7488       668       297      20       65292.0              24\n",
      "6818       848       473      52       36573.0              39\n",
      "8112       241       670      49        8863.0              16\n",
      "5928       713       567      41       66239.0              35\n"
     ]
    }
   ],
   "source": [
    "print(\"X_val shape:\", X_val.shape)\n",
    "print(X_val.head())  # Show first few rows"
   ]
  },
  {
   "cell_type": "code",
   "execution_count": 127,
   "metadata": {},
   "outputs": [],
   "source": [
    "from sklearn.linear_model import TheilSenRegressor"
   ]
  },
  {
   "cell_type": "code",
   "execution_count": 128,
   "metadata": {},
   "outputs": [],
   "source": [
    "\n",
    "# Initialize Theil-Sen Regressor\n",
    "theil_sen = TheilSenRegressor()"
   ]
  },
  {
   "cell_type": "code",
   "execution_count": 129,
   "metadata": {},
   "outputs": [
    {
     "data": {
      "text/html": [
       "<style>#sk-container-id-2 {\n",
       "  /* Definition of color scheme common for light and dark mode */\n",
       "  --sklearn-color-text: #000;\n",
       "  --sklearn-color-text-muted: #666;\n",
       "  --sklearn-color-line: gray;\n",
       "  /* Definition of color scheme for unfitted estimators */\n",
       "  --sklearn-color-unfitted-level-0: #fff5e6;\n",
       "  --sklearn-color-unfitted-level-1: #f6e4d2;\n",
       "  --sklearn-color-unfitted-level-2: #ffe0b3;\n",
       "  --sklearn-color-unfitted-level-3: chocolate;\n",
       "  /* Definition of color scheme for fitted estimators */\n",
       "  --sklearn-color-fitted-level-0: #f0f8ff;\n",
       "  --sklearn-color-fitted-level-1: #d4ebff;\n",
       "  --sklearn-color-fitted-level-2: #b3dbfd;\n",
       "  --sklearn-color-fitted-level-3: cornflowerblue;\n",
       "\n",
       "  /* Specific color for light theme */\n",
       "  --sklearn-color-text-on-default-background: var(--sg-text-color, var(--theme-code-foreground, var(--jp-content-font-color1, black)));\n",
       "  --sklearn-color-background: var(--sg-background-color, var(--theme-background, var(--jp-layout-color0, white)));\n",
       "  --sklearn-color-border-box: var(--sg-text-color, var(--theme-code-foreground, var(--jp-content-font-color1, black)));\n",
       "  --sklearn-color-icon: #696969;\n",
       "\n",
       "  @media (prefers-color-scheme: dark) {\n",
       "    /* Redefinition of color scheme for dark theme */\n",
       "    --sklearn-color-text-on-default-background: var(--sg-text-color, var(--theme-code-foreground, var(--jp-content-font-color1, white)));\n",
       "    --sklearn-color-background: var(--sg-background-color, var(--theme-background, var(--jp-layout-color0, #111)));\n",
       "    --sklearn-color-border-box: var(--sg-text-color, var(--theme-code-foreground, var(--jp-content-font-color1, white)));\n",
       "    --sklearn-color-icon: #878787;\n",
       "  }\n",
       "}\n",
       "\n",
       "#sk-container-id-2 {\n",
       "  color: var(--sklearn-color-text);\n",
       "}\n",
       "\n",
       "#sk-container-id-2 pre {\n",
       "  padding: 0;\n",
       "}\n",
       "\n",
       "#sk-container-id-2 input.sk-hidden--visually {\n",
       "  border: 0;\n",
       "  clip: rect(1px 1px 1px 1px);\n",
       "  clip: rect(1px, 1px, 1px, 1px);\n",
       "  height: 1px;\n",
       "  margin: -1px;\n",
       "  overflow: hidden;\n",
       "  padding: 0;\n",
       "  position: absolute;\n",
       "  width: 1px;\n",
       "}\n",
       "\n",
       "#sk-container-id-2 div.sk-dashed-wrapped {\n",
       "  border: 1px dashed var(--sklearn-color-line);\n",
       "  margin: 0 0.4em 0.5em 0.4em;\n",
       "  box-sizing: border-box;\n",
       "  padding-bottom: 0.4em;\n",
       "  background-color: var(--sklearn-color-background);\n",
       "}\n",
       "\n",
       "#sk-container-id-2 div.sk-container {\n",
       "  /* jupyter's `normalize.less` sets `[hidden] { display: none; }`\n",
       "     but bootstrap.min.css set `[hidden] { display: none !important; }`\n",
       "     so we also need the `!important` here to be able to override the\n",
       "     default hidden behavior on the sphinx rendered scikit-learn.org.\n",
       "     See: https://github.com/scikit-learn/scikit-learn/issues/21755 */\n",
       "  display: inline-block !important;\n",
       "  position: relative;\n",
       "}\n",
       "\n",
       "#sk-container-id-2 div.sk-text-repr-fallback {\n",
       "  display: none;\n",
       "}\n",
       "\n",
       "div.sk-parallel-item,\n",
       "div.sk-serial,\n",
       "div.sk-item {\n",
       "  /* draw centered vertical line to link estimators */\n",
       "  background-image: linear-gradient(var(--sklearn-color-text-on-default-background), var(--sklearn-color-text-on-default-background));\n",
       "  background-size: 2px 100%;\n",
       "  background-repeat: no-repeat;\n",
       "  background-position: center center;\n",
       "}\n",
       "\n",
       "/* Parallel-specific style estimator block */\n",
       "\n",
       "#sk-container-id-2 div.sk-parallel-item::after {\n",
       "  content: \"\";\n",
       "  width: 100%;\n",
       "  border-bottom: 2px solid var(--sklearn-color-text-on-default-background);\n",
       "  flex-grow: 1;\n",
       "}\n",
       "\n",
       "#sk-container-id-2 div.sk-parallel {\n",
       "  display: flex;\n",
       "  align-items: stretch;\n",
       "  justify-content: center;\n",
       "  background-color: var(--sklearn-color-background);\n",
       "  position: relative;\n",
       "}\n",
       "\n",
       "#sk-container-id-2 div.sk-parallel-item {\n",
       "  display: flex;\n",
       "  flex-direction: column;\n",
       "}\n",
       "\n",
       "#sk-container-id-2 div.sk-parallel-item:first-child::after {\n",
       "  align-self: flex-end;\n",
       "  width: 50%;\n",
       "}\n",
       "\n",
       "#sk-container-id-2 div.sk-parallel-item:last-child::after {\n",
       "  align-self: flex-start;\n",
       "  width: 50%;\n",
       "}\n",
       "\n",
       "#sk-container-id-2 div.sk-parallel-item:only-child::after {\n",
       "  width: 0;\n",
       "}\n",
       "\n",
       "/* Serial-specific style estimator block */\n",
       "\n",
       "#sk-container-id-2 div.sk-serial {\n",
       "  display: flex;\n",
       "  flex-direction: column;\n",
       "  align-items: center;\n",
       "  background-color: var(--sklearn-color-background);\n",
       "  padding-right: 1em;\n",
       "  padding-left: 1em;\n",
       "}\n",
       "\n",
       "\n",
       "/* Toggleable style: style used for estimator/Pipeline/ColumnTransformer box that is\n",
       "clickable and can be expanded/collapsed.\n",
       "- Pipeline and ColumnTransformer use this feature and define the default style\n",
       "- Estimators will overwrite some part of the style using the `sk-estimator` class\n",
       "*/\n",
       "\n",
       "/* Pipeline and ColumnTransformer style (default) */\n",
       "\n",
       "#sk-container-id-2 div.sk-toggleable {\n",
       "  /* Default theme specific background. It is overwritten whether we have a\n",
       "  specific estimator or a Pipeline/ColumnTransformer */\n",
       "  background-color: var(--sklearn-color-background);\n",
       "}\n",
       "\n",
       "/* Toggleable label */\n",
       "#sk-container-id-2 label.sk-toggleable__label {\n",
       "  cursor: pointer;\n",
       "  display: flex;\n",
       "  width: 100%;\n",
       "  margin-bottom: 0;\n",
       "  padding: 0.5em;\n",
       "  box-sizing: border-box;\n",
       "  text-align: center;\n",
       "  align-items: start;\n",
       "  justify-content: space-between;\n",
       "  gap: 0.5em;\n",
       "}\n",
       "\n",
       "#sk-container-id-2 label.sk-toggleable__label .caption {\n",
       "  font-size: 0.6rem;\n",
       "  font-weight: lighter;\n",
       "  color: var(--sklearn-color-text-muted);\n",
       "}\n",
       "\n",
       "#sk-container-id-2 label.sk-toggleable__label-arrow:before {\n",
       "  /* Arrow on the left of the label */\n",
       "  content: \"▸\";\n",
       "  float: left;\n",
       "  margin-right: 0.25em;\n",
       "  color: var(--sklearn-color-icon);\n",
       "}\n",
       "\n",
       "#sk-container-id-2 label.sk-toggleable__label-arrow:hover:before {\n",
       "  color: var(--sklearn-color-text);\n",
       "}\n",
       "\n",
       "/* Toggleable content - dropdown */\n",
       "\n",
       "#sk-container-id-2 div.sk-toggleable__content {\n",
       "  max-height: 0;\n",
       "  max-width: 0;\n",
       "  overflow: hidden;\n",
       "  text-align: left;\n",
       "  /* unfitted */\n",
       "  background-color: var(--sklearn-color-unfitted-level-0);\n",
       "}\n",
       "\n",
       "#sk-container-id-2 div.sk-toggleable__content.fitted {\n",
       "  /* fitted */\n",
       "  background-color: var(--sklearn-color-fitted-level-0);\n",
       "}\n",
       "\n",
       "#sk-container-id-2 div.sk-toggleable__content pre {\n",
       "  margin: 0.2em;\n",
       "  border-radius: 0.25em;\n",
       "  color: var(--sklearn-color-text);\n",
       "  /* unfitted */\n",
       "  background-color: var(--sklearn-color-unfitted-level-0);\n",
       "}\n",
       "\n",
       "#sk-container-id-2 div.sk-toggleable__content.fitted pre {\n",
       "  /* unfitted */\n",
       "  background-color: var(--sklearn-color-fitted-level-0);\n",
       "}\n",
       "\n",
       "#sk-container-id-2 input.sk-toggleable__control:checked~div.sk-toggleable__content {\n",
       "  /* Expand drop-down */\n",
       "  max-height: 200px;\n",
       "  max-width: 100%;\n",
       "  overflow: auto;\n",
       "}\n",
       "\n",
       "#sk-container-id-2 input.sk-toggleable__control:checked~label.sk-toggleable__label-arrow:before {\n",
       "  content: \"▾\";\n",
       "}\n",
       "\n",
       "/* Pipeline/ColumnTransformer-specific style */\n",
       "\n",
       "#sk-container-id-2 div.sk-label input.sk-toggleable__control:checked~label.sk-toggleable__label {\n",
       "  color: var(--sklearn-color-text);\n",
       "  background-color: var(--sklearn-color-unfitted-level-2);\n",
       "}\n",
       "\n",
       "#sk-container-id-2 div.sk-label.fitted input.sk-toggleable__control:checked~label.sk-toggleable__label {\n",
       "  background-color: var(--sklearn-color-fitted-level-2);\n",
       "}\n",
       "\n",
       "/* Estimator-specific style */\n",
       "\n",
       "/* Colorize estimator box */\n",
       "#sk-container-id-2 div.sk-estimator input.sk-toggleable__control:checked~label.sk-toggleable__label {\n",
       "  /* unfitted */\n",
       "  background-color: var(--sklearn-color-unfitted-level-2);\n",
       "}\n",
       "\n",
       "#sk-container-id-2 div.sk-estimator.fitted input.sk-toggleable__control:checked~label.sk-toggleable__label {\n",
       "  /* fitted */\n",
       "  background-color: var(--sklearn-color-fitted-level-2);\n",
       "}\n",
       "\n",
       "#sk-container-id-2 div.sk-label label.sk-toggleable__label,\n",
       "#sk-container-id-2 div.sk-label label {\n",
       "  /* The background is the default theme color */\n",
       "  color: var(--sklearn-color-text-on-default-background);\n",
       "}\n",
       "\n",
       "/* On hover, darken the color of the background */\n",
       "#sk-container-id-2 div.sk-label:hover label.sk-toggleable__label {\n",
       "  color: var(--sklearn-color-text);\n",
       "  background-color: var(--sklearn-color-unfitted-level-2);\n",
       "}\n",
       "\n",
       "/* Label box, darken color on hover, fitted */\n",
       "#sk-container-id-2 div.sk-label.fitted:hover label.sk-toggleable__label.fitted {\n",
       "  color: var(--sklearn-color-text);\n",
       "  background-color: var(--sklearn-color-fitted-level-2);\n",
       "}\n",
       "\n",
       "/* Estimator label */\n",
       "\n",
       "#sk-container-id-2 div.sk-label label {\n",
       "  font-family: monospace;\n",
       "  font-weight: bold;\n",
       "  display: inline-block;\n",
       "  line-height: 1.2em;\n",
       "}\n",
       "\n",
       "#sk-container-id-2 div.sk-label-container {\n",
       "  text-align: center;\n",
       "}\n",
       "\n",
       "/* Estimator-specific */\n",
       "#sk-container-id-2 div.sk-estimator {\n",
       "  font-family: monospace;\n",
       "  border: 1px dotted var(--sklearn-color-border-box);\n",
       "  border-radius: 0.25em;\n",
       "  box-sizing: border-box;\n",
       "  margin-bottom: 0.5em;\n",
       "  /* unfitted */\n",
       "  background-color: var(--sklearn-color-unfitted-level-0);\n",
       "}\n",
       "\n",
       "#sk-container-id-2 div.sk-estimator.fitted {\n",
       "  /* fitted */\n",
       "  background-color: var(--sklearn-color-fitted-level-0);\n",
       "}\n",
       "\n",
       "/* on hover */\n",
       "#sk-container-id-2 div.sk-estimator:hover {\n",
       "  /* unfitted */\n",
       "  background-color: var(--sklearn-color-unfitted-level-2);\n",
       "}\n",
       "\n",
       "#sk-container-id-2 div.sk-estimator.fitted:hover {\n",
       "  /* fitted */\n",
       "  background-color: var(--sklearn-color-fitted-level-2);\n",
       "}\n",
       "\n",
       "/* Specification for estimator info (e.g. \"i\" and \"?\") */\n",
       "\n",
       "/* Common style for \"i\" and \"?\" */\n",
       "\n",
       ".sk-estimator-doc-link,\n",
       "a:link.sk-estimator-doc-link,\n",
       "a:visited.sk-estimator-doc-link {\n",
       "  float: right;\n",
       "  font-size: smaller;\n",
       "  line-height: 1em;\n",
       "  font-family: monospace;\n",
       "  background-color: var(--sklearn-color-background);\n",
       "  border-radius: 1em;\n",
       "  height: 1em;\n",
       "  width: 1em;\n",
       "  text-decoration: none !important;\n",
       "  margin-left: 0.5em;\n",
       "  text-align: center;\n",
       "  /* unfitted */\n",
       "  border: var(--sklearn-color-unfitted-level-1) 1pt solid;\n",
       "  color: var(--sklearn-color-unfitted-level-1);\n",
       "}\n",
       "\n",
       ".sk-estimator-doc-link.fitted,\n",
       "a:link.sk-estimator-doc-link.fitted,\n",
       "a:visited.sk-estimator-doc-link.fitted {\n",
       "  /* fitted */\n",
       "  border: var(--sklearn-color-fitted-level-1) 1pt solid;\n",
       "  color: var(--sklearn-color-fitted-level-1);\n",
       "}\n",
       "\n",
       "/* On hover */\n",
       "div.sk-estimator:hover .sk-estimator-doc-link:hover,\n",
       ".sk-estimator-doc-link:hover,\n",
       "div.sk-label-container:hover .sk-estimator-doc-link:hover,\n",
       ".sk-estimator-doc-link:hover {\n",
       "  /* unfitted */\n",
       "  background-color: var(--sklearn-color-unfitted-level-3);\n",
       "  color: var(--sklearn-color-background);\n",
       "  text-decoration: none;\n",
       "}\n",
       "\n",
       "div.sk-estimator.fitted:hover .sk-estimator-doc-link.fitted:hover,\n",
       ".sk-estimator-doc-link.fitted:hover,\n",
       "div.sk-label-container:hover .sk-estimator-doc-link.fitted:hover,\n",
       ".sk-estimator-doc-link.fitted:hover {\n",
       "  /* fitted */\n",
       "  background-color: var(--sklearn-color-fitted-level-3);\n",
       "  color: var(--sklearn-color-background);\n",
       "  text-decoration: none;\n",
       "}\n",
       "\n",
       "/* Span, style for the box shown on hovering the info icon */\n",
       ".sk-estimator-doc-link span {\n",
       "  display: none;\n",
       "  z-index: 9999;\n",
       "  position: relative;\n",
       "  font-weight: normal;\n",
       "  right: .2ex;\n",
       "  padding: .5ex;\n",
       "  margin: .5ex;\n",
       "  width: min-content;\n",
       "  min-width: 20ex;\n",
       "  max-width: 50ex;\n",
       "  color: var(--sklearn-color-text);\n",
       "  box-shadow: 2pt 2pt 4pt #999;\n",
       "  /* unfitted */\n",
       "  background: var(--sklearn-color-unfitted-level-0);\n",
       "  border: .5pt solid var(--sklearn-color-unfitted-level-3);\n",
       "}\n",
       "\n",
       ".sk-estimator-doc-link.fitted span {\n",
       "  /* fitted */\n",
       "  background: var(--sklearn-color-fitted-level-0);\n",
       "  border: var(--sklearn-color-fitted-level-3);\n",
       "}\n",
       "\n",
       ".sk-estimator-doc-link:hover span {\n",
       "  display: block;\n",
       "}\n",
       "\n",
       "/* \"?\"-specific style due to the `<a>` HTML tag */\n",
       "\n",
       "#sk-container-id-2 a.estimator_doc_link {\n",
       "  float: right;\n",
       "  font-size: 1rem;\n",
       "  line-height: 1em;\n",
       "  font-family: monospace;\n",
       "  background-color: var(--sklearn-color-background);\n",
       "  border-radius: 1rem;\n",
       "  height: 1rem;\n",
       "  width: 1rem;\n",
       "  text-decoration: none;\n",
       "  /* unfitted */\n",
       "  color: var(--sklearn-color-unfitted-level-1);\n",
       "  border: var(--sklearn-color-unfitted-level-1) 1pt solid;\n",
       "}\n",
       "\n",
       "#sk-container-id-2 a.estimator_doc_link.fitted {\n",
       "  /* fitted */\n",
       "  border: var(--sklearn-color-fitted-level-1) 1pt solid;\n",
       "  color: var(--sklearn-color-fitted-level-1);\n",
       "}\n",
       "\n",
       "/* On hover */\n",
       "#sk-container-id-2 a.estimator_doc_link:hover {\n",
       "  /* unfitted */\n",
       "  background-color: var(--sklearn-color-unfitted-level-3);\n",
       "  color: var(--sklearn-color-background);\n",
       "  text-decoration: none;\n",
       "}\n",
       "\n",
       "#sk-container-id-2 a.estimator_doc_link.fitted:hover {\n",
       "  /* fitted */\n",
       "  background-color: var(--sklearn-color-fitted-level-3);\n",
       "}\n",
       "</style><div id=\"sk-container-id-2\" class=\"sk-top-container\"><div class=\"sk-text-repr-fallback\"><pre>TheilSenRegressor()</pre><b>In a Jupyter environment, please rerun this cell to show the HTML representation or trust the notebook. <br />On GitHub, the HTML representation is unable to render, please try loading this page with nbviewer.org.</b></div><div class=\"sk-container\" hidden><div class=\"sk-item\"><div class=\"sk-estimator fitted sk-toggleable\"><input class=\"sk-toggleable__control sk-hidden--visually\" id=\"sk-estimator-id-2\" type=\"checkbox\" checked><label for=\"sk-estimator-id-2\" class=\"sk-toggleable__label fitted sk-toggleable__label-arrow\"><div><div>TheilSenRegressor</div></div><div><a class=\"sk-estimator-doc-link fitted\" rel=\"noreferrer\" target=\"_blank\" href=\"https://scikit-learn.org/1.6/modules/generated/sklearn.linear_model.TheilSenRegressor.html\">?<span>Documentation for TheilSenRegressor</span></a><span class=\"sk-estimator-doc-link fitted\">i<span>Fitted</span></span></div></label><div class=\"sk-toggleable__content fitted\"><pre>TheilSenRegressor()</pre></div> </div></div></div></div>"
      ],
      "text/plain": [
       "TheilSenRegressor()"
      ]
     },
     "execution_count": 129,
     "metadata": {},
     "output_type": "execute_result"
    }
   ],
   "source": [
    "\n",
    "# Train the model\n",
    "theil_sen.fit(X_train, y_train)"
   ]
  },
  {
   "cell_type": "code",
   "execution_count": 130,
   "metadata": {},
   "outputs": [
    {
     "name": "stdout",
     "output_type": "stream",
     "text": [
      "✅ Theil-Sen model training completed!\n"
     ]
    }
   ],
   "source": [
    "print(\"✅ Theil-Sen model training completed!\")"
   ]
  },
  {
   "cell_type": "code",
   "execution_count": 131,
   "metadata": {},
   "outputs": [
    {
     "name": "stdout",
     "output_type": "stream",
     "text": [
      "Is model trained? True\n"
     ]
    }
   ],
   "source": [
    "print(\"Is model trained?\", hasattr(theil_sen, \"coef_\")) "
   ]
  },
  {
   "cell_type": "code",
   "execution_count": 132,
   "metadata": {},
   "outputs": [
    {
     "name": "stdout",
     "output_type": "stream",
     "text": [
      "✅ Predictions completed successfully!\n"
     ]
    }
   ],
   "source": [
    "y_val_pred = theil_sen.predict(X_val)\n",
    "print(\"✅ Predictions completed successfully!\")"
   ]
  },
  {
   "cell_type": "code",
   "execution_count": null,
   "metadata": {},
   "outputs": [],
   "source": []
  },
  {
   "cell_type": "markdown",
   "metadata": {},
   "source": [
    "### RANSAC\n",
    "\n",
    "Let's use a RANSAC regressor. This was demonstrated in class. (Getting the coefficients for a RANSAC model is a little unusual: you ask for the best estimator, and then you ask for the coefficients of that best estimator."
   ]
  },
  {
   "cell_type": "code",
   "execution_count": 135,
   "metadata": {},
   "outputs": [
    {
     "ename": "NameError",
     "evalue": "name 'training_data' is not defined",
     "output_type": "error",
     "traceback": [
      "\u001b[31m---------------------------------------------------------------------------\u001b[39m",
      "\u001b[31mNameError\u001b[39m                                 Traceback (most recent call last)",
      "\u001b[36mCell\u001b[39m\u001b[36m \u001b[39m\u001b[32mIn[135]\u001b[39m\u001b[32m, line 2\u001b[39m\n\u001b[32m      1\u001b[39m ransac = sklearn.linear_model.RANSACRegressor()\n\u001b[32m----> \u001b[39m\u001b[32m2\u001b[39m ransac.fit(\u001b[43mtraining_data\u001b[49m[[\u001b[33m'\u001b[39m\u001b[33mAnnualSalary\u001b[39m\u001b[33m'\u001b[39m]], training_data[\u001b[33m'\u001b[39m\u001b[33mGrossPay\u001b[39m\u001b[33m'\u001b[39m])\n\u001b[32m      3\u001b[39m ransac_predictions = ransac.predict(validation_data[[\u001b[33m'\u001b[39m\u001b[33mAnnualSalary\u001b[39m\u001b[33m'\u001b[39m]])\n\u001b[32m      4\u001b[39m ransac.estimator_.coef_\n",
      "\u001b[31mNameError\u001b[39m: name 'training_data' is not defined"
     ]
    }
   ],
   "source": [
    "ransac = sklearn.linear_model.RANSACRegressor()\n",
    "ransac.fit(training_data[['AnnualSalary']], training_data['GrossPay'])\n",
    "ransac_predictions = ransac.predict(validation_data[['AnnualSalary']])\n",
    "ransac.estimator_.coef_"
   ]
  },
  {
   "cell_type": "code",
   "execution_count": 136,
   "metadata": {},
   "outputs": [],
   "source": [
    "ransac = sklearn.linear_model.RANSACRegressor()"
   ]
  },
  {
   "cell_type": "code",
   "execution_count": null,
   "metadata": {},
   "outputs": [],
   "source": []
  },
  {
   "cell_type": "code",
   "execution_count": null,
   "metadata": {},
   "outputs": [],
   "source": [
    "# Initialize RANSAC model with a base Linear Regression model\n",
    "ransac = RANSACRegressor()\n"
   ]
  },
  {
   "cell_type": "code",
   "execution_count": 138,
   "metadata": {},
   "outputs": [
    {
     "ename": "NameError",
     "evalue": "name 'training_data' is not defined",
     "output_type": "error",
     "traceback": [
      "\u001b[31m---------------------------------------------------------------------------\u001b[39m",
      "\u001b[31mNameError\u001b[39m                                 Traceback (most recent call last)",
      "\u001b[36mCell\u001b[39m\u001b[36m \u001b[39m\u001b[32mIn[138]\u001b[39m\u001b[32m, line 1\u001b[39m\n\u001b[32m----> \u001b[39m\u001b[32m1\u001b[39m ransac.fit(\u001b[43mtraining_data\u001b[49m[[\u001b[33m'\u001b[39m\u001b[33mAnnualSalary\u001b[39m\u001b[33m'\u001b[39m]], training_data[\u001b[33m'\u001b[39m\u001b[33mGrossPay\u001b[39m\u001b[33m'\u001b[39m])\n",
      "\u001b[31mNameError\u001b[39m: name 'training_data' is not defined"
     ]
    }
   ],
   "source": [
    " ransac.fit(training_data[['AnnualSalary']], training_data['GrossPay'])"
   ]
  },
  {
   "cell_type": "code",
   "execution_count": 139,
   "metadata": {},
   "outputs": [
    {
     "data": {
      "text/html": [
       "<style>#sk-container-id-3 {\n",
       "  /* Definition of color scheme common for light and dark mode */\n",
       "  --sklearn-color-text: #000;\n",
       "  --sklearn-color-text-muted: #666;\n",
       "  --sklearn-color-line: gray;\n",
       "  /* Definition of color scheme for unfitted estimators */\n",
       "  --sklearn-color-unfitted-level-0: #fff5e6;\n",
       "  --sklearn-color-unfitted-level-1: #f6e4d2;\n",
       "  --sklearn-color-unfitted-level-2: #ffe0b3;\n",
       "  --sklearn-color-unfitted-level-3: chocolate;\n",
       "  /* Definition of color scheme for fitted estimators */\n",
       "  --sklearn-color-fitted-level-0: #f0f8ff;\n",
       "  --sklearn-color-fitted-level-1: #d4ebff;\n",
       "  --sklearn-color-fitted-level-2: #b3dbfd;\n",
       "  --sklearn-color-fitted-level-3: cornflowerblue;\n",
       "\n",
       "  /* Specific color for light theme */\n",
       "  --sklearn-color-text-on-default-background: var(--sg-text-color, var(--theme-code-foreground, var(--jp-content-font-color1, black)));\n",
       "  --sklearn-color-background: var(--sg-background-color, var(--theme-background, var(--jp-layout-color0, white)));\n",
       "  --sklearn-color-border-box: var(--sg-text-color, var(--theme-code-foreground, var(--jp-content-font-color1, black)));\n",
       "  --sklearn-color-icon: #696969;\n",
       "\n",
       "  @media (prefers-color-scheme: dark) {\n",
       "    /* Redefinition of color scheme for dark theme */\n",
       "    --sklearn-color-text-on-default-background: var(--sg-text-color, var(--theme-code-foreground, var(--jp-content-font-color1, white)));\n",
       "    --sklearn-color-background: var(--sg-background-color, var(--theme-background, var(--jp-layout-color0, #111)));\n",
       "    --sklearn-color-border-box: var(--sg-text-color, var(--theme-code-foreground, var(--jp-content-font-color1, white)));\n",
       "    --sklearn-color-icon: #878787;\n",
       "  }\n",
       "}\n",
       "\n",
       "#sk-container-id-3 {\n",
       "  color: var(--sklearn-color-text);\n",
       "}\n",
       "\n",
       "#sk-container-id-3 pre {\n",
       "  padding: 0;\n",
       "}\n",
       "\n",
       "#sk-container-id-3 input.sk-hidden--visually {\n",
       "  border: 0;\n",
       "  clip: rect(1px 1px 1px 1px);\n",
       "  clip: rect(1px, 1px, 1px, 1px);\n",
       "  height: 1px;\n",
       "  margin: -1px;\n",
       "  overflow: hidden;\n",
       "  padding: 0;\n",
       "  position: absolute;\n",
       "  width: 1px;\n",
       "}\n",
       "\n",
       "#sk-container-id-3 div.sk-dashed-wrapped {\n",
       "  border: 1px dashed var(--sklearn-color-line);\n",
       "  margin: 0 0.4em 0.5em 0.4em;\n",
       "  box-sizing: border-box;\n",
       "  padding-bottom: 0.4em;\n",
       "  background-color: var(--sklearn-color-background);\n",
       "}\n",
       "\n",
       "#sk-container-id-3 div.sk-container {\n",
       "  /* jupyter's `normalize.less` sets `[hidden] { display: none; }`\n",
       "     but bootstrap.min.css set `[hidden] { display: none !important; }`\n",
       "     so we also need the `!important` here to be able to override the\n",
       "     default hidden behavior on the sphinx rendered scikit-learn.org.\n",
       "     See: https://github.com/scikit-learn/scikit-learn/issues/21755 */\n",
       "  display: inline-block !important;\n",
       "  position: relative;\n",
       "}\n",
       "\n",
       "#sk-container-id-3 div.sk-text-repr-fallback {\n",
       "  display: none;\n",
       "}\n",
       "\n",
       "div.sk-parallel-item,\n",
       "div.sk-serial,\n",
       "div.sk-item {\n",
       "  /* draw centered vertical line to link estimators */\n",
       "  background-image: linear-gradient(var(--sklearn-color-text-on-default-background), var(--sklearn-color-text-on-default-background));\n",
       "  background-size: 2px 100%;\n",
       "  background-repeat: no-repeat;\n",
       "  background-position: center center;\n",
       "}\n",
       "\n",
       "/* Parallel-specific style estimator block */\n",
       "\n",
       "#sk-container-id-3 div.sk-parallel-item::after {\n",
       "  content: \"\";\n",
       "  width: 100%;\n",
       "  border-bottom: 2px solid var(--sklearn-color-text-on-default-background);\n",
       "  flex-grow: 1;\n",
       "}\n",
       "\n",
       "#sk-container-id-3 div.sk-parallel {\n",
       "  display: flex;\n",
       "  align-items: stretch;\n",
       "  justify-content: center;\n",
       "  background-color: var(--sklearn-color-background);\n",
       "  position: relative;\n",
       "}\n",
       "\n",
       "#sk-container-id-3 div.sk-parallel-item {\n",
       "  display: flex;\n",
       "  flex-direction: column;\n",
       "}\n",
       "\n",
       "#sk-container-id-3 div.sk-parallel-item:first-child::after {\n",
       "  align-self: flex-end;\n",
       "  width: 50%;\n",
       "}\n",
       "\n",
       "#sk-container-id-3 div.sk-parallel-item:last-child::after {\n",
       "  align-self: flex-start;\n",
       "  width: 50%;\n",
       "}\n",
       "\n",
       "#sk-container-id-3 div.sk-parallel-item:only-child::after {\n",
       "  width: 0;\n",
       "}\n",
       "\n",
       "/* Serial-specific style estimator block */\n",
       "\n",
       "#sk-container-id-3 div.sk-serial {\n",
       "  display: flex;\n",
       "  flex-direction: column;\n",
       "  align-items: center;\n",
       "  background-color: var(--sklearn-color-background);\n",
       "  padding-right: 1em;\n",
       "  padding-left: 1em;\n",
       "}\n",
       "\n",
       "\n",
       "/* Toggleable style: style used for estimator/Pipeline/ColumnTransformer box that is\n",
       "clickable and can be expanded/collapsed.\n",
       "- Pipeline and ColumnTransformer use this feature and define the default style\n",
       "- Estimators will overwrite some part of the style using the `sk-estimator` class\n",
       "*/\n",
       "\n",
       "/* Pipeline and ColumnTransformer style (default) */\n",
       "\n",
       "#sk-container-id-3 div.sk-toggleable {\n",
       "  /* Default theme specific background. It is overwritten whether we have a\n",
       "  specific estimator or a Pipeline/ColumnTransformer */\n",
       "  background-color: var(--sklearn-color-background);\n",
       "}\n",
       "\n",
       "/* Toggleable label */\n",
       "#sk-container-id-3 label.sk-toggleable__label {\n",
       "  cursor: pointer;\n",
       "  display: flex;\n",
       "  width: 100%;\n",
       "  margin-bottom: 0;\n",
       "  padding: 0.5em;\n",
       "  box-sizing: border-box;\n",
       "  text-align: center;\n",
       "  align-items: start;\n",
       "  justify-content: space-between;\n",
       "  gap: 0.5em;\n",
       "}\n",
       "\n",
       "#sk-container-id-3 label.sk-toggleable__label .caption {\n",
       "  font-size: 0.6rem;\n",
       "  font-weight: lighter;\n",
       "  color: var(--sklearn-color-text-muted);\n",
       "}\n",
       "\n",
       "#sk-container-id-3 label.sk-toggleable__label-arrow:before {\n",
       "  /* Arrow on the left of the label */\n",
       "  content: \"▸\";\n",
       "  float: left;\n",
       "  margin-right: 0.25em;\n",
       "  color: var(--sklearn-color-icon);\n",
       "}\n",
       "\n",
       "#sk-container-id-3 label.sk-toggleable__label-arrow:hover:before {\n",
       "  color: var(--sklearn-color-text);\n",
       "}\n",
       "\n",
       "/* Toggleable content - dropdown */\n",
       "\n",
       "#sk-container-id-3 div.sk-toggleable__content {\n",
       "  max-height: 0;\n",
       "  max-width: 0;\n",
       "  overflow: hidden;\n",
       "  text-align: left;\n",
       "  /* unfitted */\n",
       "  background-color: var(--sklearn-color-unfitted-level-0);\n",
       "}\n",
       "\n",
       "#sk-container-id-3 div.sk-toggleable__content.fitted {\n",
       "  /* fitted */\n",
       "  background-color: var(--sklearn-color-fitted-level-0);\n",
       "}\n",
       "\n",
       "#sk-container-id-3 div.sk-toggleable__content pre {\n",
       "  margin: 0.2em;\n",
       "  border-radius: 0.25em;\n",
       "  color: var(--sklearn-color-text);\n",
       "  /* unfitted */\n",
       "  background-color: var(--sklearn-color-unfitted-level-0);\n",
       "}\n",
       "\n",
       "#sk-container-id-3 div.sk-toggleable__content.fitted pre {\n",
       "  /* unfitted */\n",
       "  background-color: var(--sklearn-color-fitted-level-0);\n",
       "}\n",
       "\n",
       "#sk-container-id-3 input.sk-toggleable__control:checked~div.sk-toggleable__content {\n",
       "  /* Expand drop-down */\n",
       "  max-height: 200px;\n",
       "  max-width: 100%;\n",
       "  overflow: auto;\n",
       "}\n",
       "\n",
       "#sk-container-id-3 input.sk-toggleable__control:checked~label.sk-toggleable__label-arrow:before {\n",
       "  content: \"▾\";\n",
       "}\n",
       "\n",
       "/* Pipeline/ColumnTransformer-specific style */\n",
       "\n",
       "#sk-container-id-3 div.sk-label input.sk-toggleable__control:checked~label.sk-toggleable__label {\n",
       "  color: var(--sklearn-color-text);\n",
       "  background-color: var(--sklearn-color-unfitted-level-2);\n",
       "}\n",
       "\n",
       "#sk-container-id-3 div.sk-label.fitted input.sk-toggleable__control:checked~label.sk-toggleable__label {\n",
       "  background-color: var(--sklearn-color-fitted-level-2);\n",
       "}\n",
       "\n",
       "/* Estimator-specific style */\n",
       "\n",
       "/* Colorize estimator box */\n",
       "#sk-container-id-3 div.sk-estimator input.sk-toggleable__control:checked~label.sk-toggleable__label {\n",
       "  /* unfitted */\n",
       "  background-color: var(--sklearn-color-unfitted-level-2);\n",
       "}\n",
       "\n",
       "#sk-container-id-3 div.sk-estimator.fitted input.sk-toggleable__control:checked~label.sk-toggleable__label {\n",
       "  /* fitted */\n",
       "  background-color: var(--sklearn-color-fitted-level-2);\n",
       "}\n",
       "\n",
       "#sk-container-id-3 div.sk-label label.sk-toggleable__label,\n",
       "#sk-container-id-3 div.sk-label label {\n",
       "  /* The background is the default theme color */\n",
       "  color: var(--sklearn-color-text-on-default-background);\n",
       "}\n",
       "\n",
       "/* On hover, darken the color of the background */\n",
       "#sk-container-id-3 div.sk-label:hover label.sk-toggleable__label {\n",
       "  color: var(--sklearn-color-text);\n",
       "  background-color: var(--sklearn-color-unfitted-level-2);\n",
       "}\n",
       "\n",
       "/* Label box, darken color on hover, fitted */\n",
       "#sk-container-id-3 div.sk-label.fitted:hover label.sk-toggleable__label.fitted {\n",
       "  color: var(--sklearn-color-text);\n",
       "  background-color: var(--sklearn-color-fitted-level-2);\n",
       "}\n",
       "\n",
       "/* Estimator label */\n",
       "\n",
       "#sk-container-id-3 div.sk-label label {\n",
       "  font-family: monospace;\n",
       "  font-weight: bold;\n",
       "  display: inline-block;\n",
       "  line-height: 1.2em;\n",
       "}\n",
       "\n",
       "#sk-container-id-3 div.sk-label-container {\n",
       "  text-align: center;\n",
       "}\n",
       "\n",
       "/* Estimator-specific */\n",
       "#sk-container-id-3 div.sk-estimator {\n",
       "  font-family: monospace;\n",
       "  border: 1px dotted var(--sklearn-color-border-box);\n",
       "  border-radius: 0.25em;\n",
       "  box-sizing: border-box;\n",
       "  margin-bottom: 0.5em;\n",
       "  /* unfitted */\n",
       "  background-color: var(--sklearn-color-unfitted-level-0);\n",
       "}\n",
       "\n",
       "#sk-container-id-3 div.sk-estimator.fitted {\n",
       "  /* fitted */\n",
       "  background-color: var(--sklearn-color-fitted-level-0);\n",
       "}\n",
       "\n",
       "/* on hover */\n",
       "#sk-container-id-3 div.sk-estimator:hover {\n",
       "  /* unfitted */\n",
       "  background-color: var(--sklearn-color-unfitted-level-2);\n",
       "}\n",
       "\n",
       "#sk-container-id-3 div.sk-estimator.fitted:hover {\n",
       "  /* fitted */\n",
       "  background-color: var(--sklearn-color-fitted-level-2);\n",
       "}\n",
       "\n",
       "/* Specification for estimator info (e.g. \"i\" and \"?\") */\n",
       "\n",
       "/* Common style for \"i\" and \"?\" */\n",
       "\n",
       ".sk-estimator-doc-link,\n",
       "a:link.sk-estimator-doc-link,\n",
       "a:visited.sk-estimator-doc-link {\n",
       "  float: right;\n",
       "  font-size: smaller;\n",
       "  line-height: 1em;\n",
       "  font-family: monospace;\n",
       "  background-color: var(--sklearn-color-background);\n",
       "  border-radius: 1em;\n",
       "  height: 1em;\n",
       "  width: 1em;\n",
       "  text-decoration: none !important;\n",
       "  margin-left: 0.5em;\n",
       "  text-align: center;\n",
       "  /* unfitted */\n",
       "  border: var(--sklearn-color-unfitted-level-1) 1pt solid;\n",
       "  color: var(--sklearn-color-unfitted-level-1);\n",
       "}\n",
       "\n",
       ".sk-estimator-doc-link.fitted,\n",
       "a:link.sk-estimator-doc-link.fitted,\n",
       "a:visited.sk-estimator-doc-link.fitted {\n",
       "  /* fitted */\n",
       "  border: var(--sklearn-color-fitted-level-1) 1pt solid;\n",
       "  color: var(--sklearn-color-fitted-level-1);\n",
       "}\n",
       "\n",
       "/* On hover */\n",
       "div.sk-estimator:hover .sk-estimator-doc-link:hover,\n",
       ".sk-estimator-doc-link:hover,\n",
       "div.sk-label-container:hover .sk-estimator-doc-link:hover,\n",
       ".sk-estimator-doc-link:hover {\n",
       "  /* unfitted */\n",
       "  background-color: var(--sklearn-color-unfitted-level-3);\n",
       "  color: var(--sklearn-color-background);\n",
       "  text-decoration: none;\n",
       "}\n",
       "\n",
       "div.sk-estimator.fitted:hover .sk-estimator-doc-link.fitted:hover,\n",
       ".sk-estimator-doc-link.fitted:hover,\n",
       "div.sk-label-container:hover .sk-estimator-doc-link.fitted:hover,\n",
       ".sk-estimator-doc-link.fitted:hover {\n",
       "  /* fitted */\n",
       "  background-color: var(--sklearn-color-fitted-level-3);\n",
       "  color: var(--sklearn-color-background);\n",
       "  text-decoration: none;\n",
       "}\n",
       "\n",
       "/* Span, style for the box shown on hovering the info icon */\n",
       ".sk-estimator-doc-link span {\n",
       "  display: none;\n",
       "  z-index: 9999;\n",
       "  position: relative;\n",
       "  font-weight: normal;\n",
       "  right: .2ex;\n",
       "  padding: .5ex;\n",
       "  margin: .5ex;\n",
       "  width: min-content;\n",
       "  min-width: 20ex;\n",
       "  max-width: 50ex;\n",
       "  color: var(--sklearn-color-text);\n",
       "  box-shadow: 2pt 2pt 4pt #999;\n",
       "  /* unfitted */\n",
       "  background: var(--sklearn-color-unfitted-level-0);\n",
       "  border: .5pt solid var(--sklearn-color-unfitted-level-3);\n",
       "}\n",
       "\n",
       ".sk-estimator-doc-link.fitted span {\n",
       "  /* fitted */\n",
       "  background: var(--sklearn-color-fitted-level-0);\n",
       "  border: var(--sklearn-color-fitted-level-3);\n",
       "}\n",
       "\n",
       ".sk-estimator-doc-link:hover span {\n",
       "  display: block;\n",
       "}\n",
       "\n",
       "/* \"?\"-specific style due to the `<a>` HTML tag */\n",
       "\n",
       "#sk-container-id-3 a.estimator_doc_link {\n",
       "  float: right;\n",
       "  font-size: 1rem;\n",
       "  line-height: 1em;\n",
       "  font-family: monospace;\n",
       "  background-color: var(--sklearn-color-background);\n",
       "  border-radius: 1rem;\n",
       "  height: 1rem;\n",
       "  width: 1rem;\n",
       "  text-decoration: none;\n",
       "  /* unfitted */\n",
       "  color: var(--sklearn-color-unfitted-level-1);\n",
       "  border: var(--sklearn-color-unfitted-level-1) 1pt solid;\n",
       "}\n",
       "\n",
       "#sk-container-id-3 a.estimator_doc_link.fitted {\n",
       "  /* fitted */\n",
       "  border: var(--sklearn-color-fitted-level-1) 1pt solid;\n",
       "  color: var(--sklearn-color-fitted-level-1);\n",
       "}\n",
       "\n",
       "/* On hover */\n",
       "#sk-container-id-3 a.estimator_doc_link:hover {\n",
       "  /* unfitted */\n",
       "  background-color: var(--sklearn-color-unfitted-level-3);\n",
       "  color: var(--sklearn-color-background);\n",
       "  text-decoration: none;\n",
       "}\n",
       "\n",
       "#sk-container-id-3 a.estimator_doc_link.fitted:hover {\n",
       "  /* fitted */\n",
       "  background-color: var(--sklearn-color-fitted-level-3);\n",
       "}\n",
       "</style><div id=\"sk-container-id-3\" class=\"sk-top-container\"><div class=\"sk-text-repr-fallback\"><pre>RANSACRegressor()</pre><b>In a Jupyter environment, please rerun this cell to show the HTML representation or trust the notebook. <br />On GitHub, the HTML representation is unable to render, please try loading this page with nbviewer.org.</b></div><div class=\"sk-container\" hidden><div class=\"sk-item\"><div class=\"sk-estimator fitted sk-toggleable\"><input class=\"sk-toggleable__control sk-hidden--visually\" id=\"sk-estimator-id-3\" type=\"checkbox\" checked><label for=\"sk-estimator-id-3\" class=\"sk-toggleable__label fitted sk-toggleable__label-arrow\"><div><div>RANSACRegressor</div></div><div><a class=\"sk-estimator-doc-link fitted\" rel=\"noreferrer\" target=\"_blank\" href=\"https://scikit-learn.org/1.6/modules/generated/sklearn.linear_model.RANSACRegressor.html\">?<span>Documentation for RANSACRegressor</span></a><span class=\"sk-estimator-doc-link fitted\">i<span>Fitted</span></span></div></label><div class=\"sk-toggleable__content fitted\"><pre>RANSACRegressor()</pre></div> </div></div></div></div>"
      ],
      "text/plain": [
       "RANSACRegressor()"
      ]
     },
     "execution_count": 139,
     "metadata": {},
     "output_type": "execute_result"
    }
   ],
   "source": [
    "# Train RANSAC using X_train and y_train (not training_data)\n",
    "ransac.fit(X_train, y_train)\n"
   ]
  },
  {
   "cell_type": "code",
   "execution_count": null,
   "metadata": {},
   "outputs": [],
   "source": [
    "y_val_pred_ransac = ransac.predict(X_val)"
   ]
  },
  {
   "cell_type": "markdown",
   "metadata": {},
   "source": [
    "### Huber\n",
    "\n",
    "One of the best and most robust regressors is the Huber model. Finish off this code."
   ]
  },
  {
   "cell_type": "code",
   "execution_count": null,
   "metadata": {},
   "outputs": [],
   "source": [
    "huber = sklearn.linear_model.HuberRegressor()\n",
    "huber.fit\n",
    "huber_predictions = \n"
   ]
  },
  {
   "cell_type": "markdown",
   "metadata": {},
   "source": [
    "### Ordinary Least Squares\n",
    "\n",
    "If you have done STAT1170 you might have encountered this choice for finding a line of best fit through some points.\n",
    "\n",
    "It is very common and popular, so the scikit learn class is called `LinearRegression()`\n",
    "\n",
    "Finish off this code:"
   ]
  },
  {
   "cell_type": "code",
   "execution_count": null,
   "metadata": {},
   "outputs": [],
   "source": [
    "ols = "
   ]
  },
  {
   "cell_type": "markdown",
   "metadata": {},
   "source": [
    "# Evaluating these models\n",
    "\n",
    "How wrong were the predictions? We can subtract the prediction from the correct answer to look."
   ]
  },
  {
   "cell_type": "code",
   "execution_count": null,
   "metadata": {},
   "outputs": [],
   "source": [
    "validation_data.GrossPay - ts_predictions"
   ]
  },
  {
   "cell_type": "code",
   "execution_count": null,
   "metadata": {},
   "outputs": [],
   "source": [
    "validation_data.GrossPay - ransac_predictions"
   ]
  },
  {
   "cell_type": "markdown",
   "metadata": {},
   "source": [
    "Now look at the data for your Huber regressor and your Ordinary Least Squares regressor. (Put the calculations into the next two cells.)"
   ]
  },
  {
   "cell_type": "code",
   "execution_count": null,
   "metadata": {},
   "outputs": [],
   "source": []
  },
  {
   "cell_type": "code",
   "execution_count": null,
   "metadata": {},
   "outputs": [],
   "source": []
  },
  {
   "cell_type": "markdown",
   "metadata": {},
   "source": [
    "## Summarising how wrong they were\n",
    "\n",
    "Ideally, we'd like a number that says which one was the best. But choosing which way we calculate that number is a decision\n",
    "that reflects what we think is important. These are questions we might ask:\n",
    "\n",
    "- What's the most inaccurate prediction?\n",
    "\n",
    "- 99% of the time, the correct answer was within ____ of what we predicted?\n",
    "\n",
    "- On average, how far away from the right answer were we?\n"
   ]
  },
  {
   "cell_type": "markdown",
   "metadata": {},
   "source": [
    "Here's how to get the most inaccurate prediction for the Theil-Sen regressor. (The maximum of the absolute values of the error in our prediction.). In the following cells, do RANSAC, Huber and Ordinary Least Squares"
   ]
  },
  {
   "cell_type": "code",
   "execution_count": null,
   "metadata": {},
   "outputs": [],
   "source": [
    "(validation_data.GrossPay - ts_predictions).abs().max()"
   ]
  },
  {
   "cell_type": "code",
   "execution_count": null,
   "metadata": {},
   "outputs": [],
   "source": []
  },
  {
   "cell_type": "code",
   "execution_count": null,
   "metadata": {},
   "outputs": [],
   "source": []
  },
  {
   "cell_type": "markdown",
   "metadata": {},
   "source": [
    "(If you are ahead of the rest of the prac group and are waiting around idle, you could use `idxmax()` instead of `max()` to find out _which_ employee was most badly mis-predicted.)\n",
    "\n",
    "------"
   ]
  },
  {
   "cell_type": "markdown",
   "metadata": {},
   "source": [
    "99% of the predictions were wrong by less than this amount.... (fill in RANSAC, Huber and Ordinary Least Squares)"
   ]
  },
  {
   "cell_type": "code",
   "execution_count": null,
   "metadata": {},
   "outputs": [],
   "source": [
    "(validation_data.GrossPay - ts_predictions).abs().quantile(0.99)"
   ]
  },
  {
   "cell_type": "code",
   "execution_count": null,
   "metadata": {},
   "outputs": [],
   "source": []
  },
  {
   "cell_type": "code",
   "execution_count": null,
   "metadata": {},
   "outputs": [],
   "source": []
  },
  {
   "cell_type": "code",
   "execution_count": null,
   "metadata": {},
   "outputs": [],
   "source": []
  },
  {
   "cell_type": "markdown",
   "metadata": {},
   "source": [
    "Here's how we could get the mean absolute error (how far we are away from the right answer on average). sklearn has many built-in functions for doing these sorts of calculations. (Fill in RANSAC, Huber and Ordinary Least Squares)."
   ]
  },
  {
   "cell_type": "code",
   "execution_count": null,
   "metadata": {},
   "outputs": [],
   "source": [
    "sklearn.metrics.mean_absolute_error(validation_data.GrossPay, ts_predictions)"
   ]
  },
  {
   "cell_type": "code",
   "execution_count": null,
   "metadata": {},
   "outputs": [],
   "source": []
  },
  {
   "cell_type": "code",
   "execution_count": null,
   "metadata": {},
   "outputs": [],
   "source": []
  },
  {
   "cell_type": "code",
   "execution_count": null,
   "metadata": {},
   "outputs": [],
   "source": []
  },
  {
   "cell_type": "markdown",
   "metadata": {},
   "source": [
    "A very common measure (which you might have encountered in STAT1170 if you've done it) is the $R^2$ measure:"
   ]
  },
  {
   "cell_type": "code",
   "execution_count": null,
   "metadata": {},
   "outputs": [],
   "source": [
    "sklearn.metrics.r2_score(validation_data.GrossPay, ts_predictions)"
   ]
  },
  {
   "cell_type": "code",
   "execution_count": null,
   "metadata": {},
   "outputs": [],
   "source": []
  },
  {
   "cell_type": "code",
   "execution_count": null,
   "metadata": {},
   "outputs": [],
   "source": []
  },
  {
   "cell_type": "code",
   "execution_count": null,
   "metadata": {},
   "outputs": [],
   "source": []
  },
  {
   "cell_type": "markdown",
   "metadata": {},
   "source": [
    "## Time to choose!\n",
    "\n",
    "On the basis of the information you chose above, which regressor are you going to choose to use?\n",
    "\n",
    "Say which model you think is best, and the basis you chose for using it. (While there are some obviously wrong answers you can give here, there are many options for the \"right\" answer depending on your criteria for best.)"
   ]
  },
  {
   "cell_type": "markdown",
   "metadata": {},
   "source": [
    "_Answer_:"
   ]
  },
  {
   "cell_type": "markdown",
   "metadata": {},
   "source": [
    "### Evaluating it\n",
    "\n",
    "You don't want to run `.fit()` again, but you do want to run `.predict()` again, using the model that you chose in the last section,\n",
    "but this time using the test data. Call the variable that stores those predictions `test_predictions`."
   ]
  },
  {
   "cell_type": "code",
   "execution_count": null,
   "metadata": {},
   "outputs": [],
   "source": []
  },
  {
   "cell_type": "markdown",
   "metadata": {},
   "source": [
    "Using the measure that you thought was the most important --- the reason you chose that model over the others --- evaluate how good your chosen model is.\n",
    "\n",
    "i.e. if you thought $R^2$ score was the most important, you would copy that same metric calculation here, comparing `test_data.GrossPay` to `test_predictions`."
   ]
  },
  {
   "cell_type": "code",
   "execution_count": null,
   "metadata": {},
   "outputs": [],
   "source": []
  },
  {
   "cell_type": "markdown",
   "metadata": {},
   "source": [
    "# A completely different analysis\n",
    "\n",
    "Now imagine that you are the City of Baltimore's hiring manager. New employees regularly ask how much they are actually likely to earn given the salary to which they are about to agree.\n",
    "\n",
    "You don't want to give an answer that is too high because you might be putting the city at risk for a lawsuit for misrepresenting the job. On the other hand, you don't want to give an answer that's too low because the candidate might pass up on the job and work elsewhere.\n",
    "\n",
    "You decide that it will cost \\\\$0.05 in lawsuit risk for each dollar you overrepresent, but only \\\\$0.01 for each dollar you underrepresent.\n",
    "\n",
    "E.g., if a candidate is actually likely to earn \\\\$100,000 and you say \\\\$120,000, this is worth \\\\$10,000 in potential lawsuits for misrepresentation. If you say \\\\$80,000, then that will cost you \\$200 in potential recruiters' fees to find someone else.\n",
    "\n",
    "Here's a function that will calculate the cost of these predictions. Don't worry if it is too complicated for you to create\n",
    "by yourself right now, but see if you can make sense of how it works"
   ]
  },
  {
   "cell_type": "code",
   "execution_count": null,
   "metadata": {},
   "outputs": [],
   "source": [
    "def cost(actuals, predictions):\n",
    "    cost = 0.0\n",
    "    for actual,prediction in zip(actuals, predictions):\n",
    "        if prediction > actual:\n",
    "            cost += 0.05 * (prediction - actual)\n",
    "        elif prediction < actual:\n",
    "            cost += 0.01 * (actual - prediction)\n",
    "        else:\n",
    "            cost += 0.0\n",
    "    return cost"
   ]
  },
  {
   "cell_type": "markdown",
   "metadata": {},
   "source": [
    "Here's how you would use it for the Theil-Sen predictions. Use it to calculate the cost of the RANSAC, Huber and Ordinary Least Squares Regressors."
   ]
  },
  {
   "cell_type": "code",
   "execution_count": null,
   "metadata": {},
   "outputs": [],
   "source": [
    "cost(validation_data['GrossPay'], ts_predictions)"
   ]
  },
  {
   "cell_type": "code",
   "execution_count": null,
   "metadata": {},
   "outputs": [],
   "source": []
  },
  {
   "cell_type": "code",
   "execution_count": null,
   "metadata": {},
   "outputs": [],
   "source": []
  },
  {
   "cell_type": "code",
   "execution_count": null,
   "metadata": {},
   "outputs": [],
   "source": []
  },
  {
   "cell_type": "markdown",
   "metadata": {},
   "source": [
    "Based on this, which of the models we created today model would be the best one to use for answering new employees' questions?"
   ]
  },
  {
   "cell_type": "markdown",
   "metadata": {},
   "source": [
    "_Answer:_ "
   ]
  },
  {
   "cell_type": "markdown",
   "metadata": {},
   "source": [
    "# Very much optional, super-hard question\n",
    "\n",
    "If you are already familiar with Python programming, calculus or other data science concepts, try to find the optimal coefficients of a linear regression model which would minimise the hiring manager's regret."
   ]
  }
 ],
 "metadata": {
  "kernelspec": {
   "display_name": "Jannat",
   "language": "python",
   "name": "python3"
  },
  "language_info": {
   "codemirror_mode": {
    "name": "ipython",
    "version": 3
   },
   "file_extension": ".py",
   "mimetype": "text/x-python",
   "name": "python",
   "nbconvert_exporter": "python",
   "pygments_lexer": "ipython3",
   "version": "3.11.11"
  }
 },
 "nbformat": 4,
 "nbformat_minor": 4
}
